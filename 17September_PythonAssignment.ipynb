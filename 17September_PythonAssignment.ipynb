{
 "cells": [
  {
   "cell_type": "markdown",
   "id": "dc68c09f-6197-45de-ae08-8b8135100662",
   "metadata": {},
   "source": [
    "## For Loop :-\n",
    "\n",
    "\n",
    "\n",
    "\n",
    "\n",
    "\n"
   ]
  },
  {
   "cell_type": "markdown",
   "id": "7ed5ed7a-fb85-4056-a066-debe3d8f9ded",
   "metadata": {},
   "source": [
    "### 1. Write a Python program to print numbers from 1 to 10 using a for loop."
   ]
  },
  {
   "cell_type": "code",
   "execution_count": 1,
   "id": "99416822-e967-483c-8cc1-d6d509264959",
   "metadata": {},
   "outputs": [
    {
     "name": "stdout",
     "output_type": "stream",
     "text": [
      "1\n",
      "2\n",
      "3\n",
      "4\n",
      "5\n",
      "6\n",
      "7\n",
      "8\n",
      "9\n",
      "10\n"
     ]
    }
   ],
   "source": [
    "for i in range(1,11):\n",
    "    print(i)"
   ]
  },
  {
   "cell_type": "markdown",
   "id": "363d757c-2aab-4f78-be00-64eee53076b8",
   "metadata": {},
   "source": [
    "### 2. Explain the difference between a for loop and a while loop in Python."
   ]
  },
  {
   "cell_type": "markdown",
   "id": "d384cd5b-6e32-4768-b9d6-c7b11ca7d307",
   "metadata": {},
   "source": [
    "* For Loop:\n",
    "\n",
    "1. Structure: A for loop is structured around iterating over a sequence (such as a list, tuple, string, or range) or any iterable object. It follows a predefined iteration pattern, and you specify the variable that takes on each value from the sequence.\n",
    "\n",
    "2. Use Cases: for loops are typically used when you know the number of iterations in advance or when you want to iterate over a collection of items. They are especially useful for iterating through elements in data structures or performing a specific action a fixed number of times.\n",
    "\n",
    "3. Example:\n",
    "   for item in iterable:\n",
    "       Code to execute for each item\n",
    "      \n",
    "\n",
    "* While Loop:\n",
    "\n",
    "1. Structure: A while loop repeatedly executes a block of code as long as a specified condition remains True. It doesn't require an explicit sequence to iterate over; instead, it relies on a condition to control the loop's execution.\n",
    "\n",
    "1. Use Cases: while loops are used when you don't know the exact number of iterations in advance but want to continue looping as long as a specific condition holds true. They are often used for tasks that involve user input validation, simulation, or running until a certain criterion is met.\n",
    "\n",
    "1. Example:\n",
    "    while condition:\n",
    "      Code to execute while condition is True\n",
    "\n",
    "\n",
    "* Key Differences:\n",
    "\n",
    "1. Initialization: In a for loop, you explicitly initialize a variable (e.g., for item in iterable) and iterate over a sequence or iterable. In a while loop, you need to initialize the control variable before the loop and ensure that the loop condition can be modified within the loop.\n",
    "\n",
    "1. Termination: A for loop has a predetermined number of iterations based on the length of the sequence or iterable. In contrast, a while loop continues until the specified condition becomes False.\n",
    "\n",
    "1. Use Cases: Choose for loops when you have a known sequence to iterate over or a fixed number of iterations. Use while loops when you need to repeatedly execute code until a condition becomes False or a specific criterion is met.\n",
    "\n",
    "1. In summary, for loops are ideal for situations with known iterations, while while loops are suitable for situations where you need to loop until a certain condition is no longer satisfied. Both types of loops have their strengths and should be chosen based on the specific requirements of your code."
   ]
  },
  {
   "cell_type": "markdown",
   "id": "f2ad16ce-e325-496c-b89c-a8db1067d28c",
   "metadata": {},
   "source": [
    "### 3. Write a Python program to calculate the sum of all numbers from 1 to 100 using a for loop."
   ]
  },
  {
   "cell_type": "code",
   "execution_count": 6,
   "id": "46fc40a7-0376-4d9f-9cfd-11ebde697113",
   "metadata": {},
   "outputs": [
    {
     "name": "stdout",
     "output_type": "stream",
     "text": [
      "5050\n"
     ]
    }
   ],
   "source": [
    "sum=0\n",
    "for i in range(1,101):\n",
    "    sum = sum + i\n",
    "print(sum)"
   ]
  },
  {
   "cell_type": "markdown",
   "id": "e6bc35a7-616c-4e59-a2ca-341085b1915c",
   "metadata": {},
   "source": [
    "\n",
    "### 4. How do you iterate through a list using a for loop in Python?"
   ]
  },
  {
   "cell_type": "markdown",
   "id": "3ba53762-d75a-450d-98bb-8e817b2f8806",
   "metadata": {},
   "source": [
    "* Iterating through a list using a for loop in Python is a common and straightforward process. You can use a for loop to access each element in the list one by one. Here's the basic syntax for iterating through a list:\n",
    "     \n",
    "       //  my_list = [1, 2, 3, 4, 5]\n",
    "\n",
    "        for item in my_list:\n",
    "           # Code to execute for each item in the list\n",
    "            print(item) ///\n",
    "    \n",
    "* In the above example:\n",
    "\n",
    "1. my_list is a Python list containing integers.\n",
    "\n",
    "1. The for loop iterates over the elements in my_list. For each iteration, the variable item takes on the value of the current element in the list.\n",
    "\n",
    "1. Inside the loop, you can perform any action you want with item. In this case, we're simply printing each item.\n",
    "\n",
    "1. The loop continues until it has iterated through all the elements in the list."
   ]
  },
  {
   "cell_type": "markdown",
   "id": "0bbb7740-e0b7-41ca-9832-d3ae1cd5ab1a",
   "metadata": {},
   "source": [
    "### 5. Write a Python program to find the product of all elements in a list using a for loop."
   ]
  },
  {
   "cell_type": "code",
   "execution_count": 14,
   "id": "5fd24d56-2a42-4527-ae18-4447e4cd8189",
   "metadata": {},
   "outputs": [
    {
     "name": "stdin",
     "output_type": "stream",
     "text": [
      "enter any number for range 3\n"
     ]
    },
    {
     "name": "stdout",
     "output_type": "stream",
     "text": [
      "6\n"
     ]
    }
   ],
   "source": [
    "# take number from user\n",
    "num = int(input(\"enter any number for range\"))\n",
    "\n",
    "# Initialize a variable to store the product\n",
    "prod = 1\n",
    "\n",
    "# Iterate through the list and calculate the product\n",
    "for i in range(1,num+1):\n",
    "    prod  *= i\n",
    "print(prod)"
   ]
  },
  {
   "cell_type": "markdown",
   "id": "dedb4e07-12e0-4821-9f7c-6a53972bbb82",
   "metadata": {},
   "source": [
    "### 6. Create a Python program that prints all even numbers from 1 to 20 using a for loop."
   ]
  },
  {
   "cell_type": "code",
   "execution_count": 17,
   "id": "0f1da793-8886-4769-bff2-522cd5ff2c3c",
   "metadata": {},
   "outputs": [
    {
     "name": "stdout",
     "output_type": "stream",
     "text": [
      "2\n",
      "4\n",
      "6\n",
      "8\n",
      "10\n",
      "12\n",
      "14\n",
      "16\n",
      "18\n",
      "20\n"
     ]
    }
   ],
   "source": [
    "# Iterate through the list and calculate the even numbers\n",
    "for i in range(1,21):\n",
    "    \n",
    "#check if number is even or not\n",
    "    if i % 2 == 0 :\n",
    "        print(i)\n",
    "   \n",
    "    "
   ]
  },
  {
   "cell_type": "markdown",
   "id": "edf973ac-d296-4d8a-ac51-280494321cc9",
   "metadata": {},
   "source": [
    "### 7. Write a Python program that calculates the factorial of a number using a for loop."
   ]
  },
  {
   "cell_type": "code",
   "execution_count": 20,
   "id": "119dc157-37ea-4031-8ccf-42b7fc03d73a",
   "metadata": {},
   "outputs": [
    {
     "name": "stdin",
     "output_type": "stream",
     "text": [
      "enter any number for range 5\n"
     ]
    },
    {
     "name": "stdout",
     "output_type": "stream",
     "text": [
      "120\n"
     ]
    }
   ],
   "source": [
    "# take number from user\n",
    "num1 = int(input(\"enter any number for range\"))\n",
    "\n",
    "# Initialize a variable to store the factorial\n",
    "fact = 1\n",
    "#calculate numbers using for\n",
    "for i in range(1,num1+1):\n",
    "    fact = fact * i\n",
    "print(fact)"
   ]
  },
  {
   "cell_type": "markdown",
   "id": "18ac0a15-b5b8-422c-8729-f000cad36093",
   "metadata": {},
   "source": [
    "### 8. How can you iterate through the characters of a string using a for loop in Python?\n"
   ]
  },
  {
   "cell_type": "markdown",
   "id": "29b2312b-62c3-4c5f-b71a-db1c41c0c9cb",
   "metadata": {},
   "source": [
    "You can iterate through the characters of a string using a for loop in Python by treating the string as an iterable sequence of characters. \n",
    "Here's how you can do it:\n",
    "                        // my_string = \"Hello, World!\"\n",
    "\n",
    "                            for char in my_string:\n",
    "                                    # Code to execute for each character in the string\n",
    "                                    print(char) ///\n",
    "\n",
    "In the above example:\n",
    "\n",
    "my_string is a Python string containing characters.\n",
    "\n",
    "The for loop iterates over the characters in my_string. For each iteration, the variable char takes on the value of the current character in the string.\n",
    "\n",
    "Inside the loop, you can perform any action you want with char. In this case, we're simply printing each character.\n",
    "\n",
    "The loop continues until it has iterated through all the characters in the string.\n"
   ]
  },
  {
   "cell_type": "markdown",
   "id": "2d8c5001-5aef-450b-9802-76d836499618",
   "metadata": {},
   "source": [
    "### 9. Write a Python program to find the largest number in a list using a for loop."
   ]
  },
  {
   "cell_type": "code",
   "execution_count": 49,
   "id": "4137de0f-f7ba-44b0-9700-6e1634a4acc1",
   "metadata": {},
   "outputs": [
    {
     "name": "stdout",
     "output_type": "stream",
     "text": [
      "15592 is largest among the list\n"
     ]
    }
   ],
   "source": [
    "# take number from user\n",
    "num_list = [101,222,546,452,856,1000,6,58,15592]\n",
    "\n",
    "# Initialize a variable to store the largest number\n",
    "largest = num_list[0]  # Assume the first number is the largest\n",
    "\n",
    "for i in num_list:\n",
    "\n",
    "#check if number is larger or not \n",
    "    if i > largest:\n",
    "        largest = i\n",
    "print(f\"{i} is largest among the list\")"
   ]
  },
  {
   "cell_type": "markdown",
   "id": "da18f999-c45a-4002-97f2-37914e81bd6e",
   "metadata": {},
   "source": [
    "### 10. Create a Python program that prints the Fibonacci sequence up to a specified limit using a for loop."
   ]
  },
  {
   "cell_type": "code",
   "execution_count": 51,
   "id": "73698d9a-b2bc-4779-98a2-7e2df53d4024",
   "metadata": {},
   "outputs": [
    {
     "name": "stdin",
     "output_type": "stream",
     "text": [
      "Enter the upper limit for the Fibonacci sequence:  6\n"
     ]
    },
    {
     "name": "stdout",
     "output_type": "stream",
     "text": [
      "0 1 1 2 3 5 \n"
     ]
    }
   ],
   "source": [
    "# Input: Get the upper limit from the user\n",
    "limit = int(input(\"Enter the upper limit for the Fibonacci sequence: \"))\n",
    "\n",
    "# Initialize the first two terms of the sequence\n",
    "a, b = 0, 1\n",
    "\n",
    "# Print the first term (0) since it's not included in the loop\n",
    "print(a, end=\" \")\n",
    "\n",
    "# Use a for loop to generate and print the Fibonacci sequence\n",
    "for i in range(1, limit):\n",
    "    # Print the current term (b) followed by a space\n",
    "    print(b, end=\" \")\n",
    "\n",
    "    # Calculate the next term in the sequence and update variables\n",
    "    a, b = b, a + b\n",
    "\n",
    "# Print a newline to separate the sequence from other output\n",
    "print()\n"
   ]
  },
  {
   "cell_type": "markdown",
   "id": "9da406d9-4f08-4307-9c44-3aee781dfdbc",
   "metadata": {},
   "source": [
    "### 11. Write a Python program to count the number of vowels in a given string using a for loop."
   ]
  },
  {
   "cell_type": "code",
   "execution_count": 61,
   "id": "5f86331a-b00c-42ae-b3d1-2a6514cfc45b",
   "metadata": {},
   "outputs": [
    {
     "name": "stdin",
     "output_type": "stream",
     "text": [
      "enter any string :  Aniruddha\n"
     ]
    },
    {
     "name": "stdout",
     "output_type": "stream",
     "text": [
      "a\n",
      "i\n",
      "u\n",
      "a\n",
      "count of vowel is 4\n"
     ]
    }
   ],
   "source": [
    "#take string from user\n",
    "string = input(\"enter any string : \").lower()\n",
    "\n",
    "#create a vowel list for comparing \n",
    "vowel_list = ['a','e','i','o','u']\n",
    "\n",
    "#create a count varible \n",
    "count=0\n",
    "#iterate over given string using for\n",
    "for i in string:\n",
    "#check i is present in vowel_list\n",
    "    if i in vowel_list:\n",
    "        print(i)\n",
    "        count = count + 1\n",
    "print(f\"count of vowel is {count}\")"
   ]
  },
  {
   "cell_type": "markdown",
   "id": "f31b9650-c2f3-4193-80b0-b41f08e745a1",
   "metadata": {},
   "source": [
    "### 12. Create a Python program that generates a multiplication table for a given number using a for loop."
   ]
  },
  {
   "cell_type": "code",
   "execution_count": 63,
   "id": "71523e39-4883-45f5-9b77-38095d316857",
   "metadata": {},
   "outputs": [
    {
     "name": "stdin",
     "output_type": "stream",
     "text": [
      "enter any number :  2\n"
     ]
    },
    {
     "name": "stdout",
     "output_type": "stream",
     "text": [
      "2 * 1 == 2\n",
      "2 * 2 == 4\n",
      "2 * 3 == 6\n",
      "2 * 4 == 8\n",
      "2 * 5 == 10\n",
      "2 * 6 == 12\n",
      "2 * 7 == 14\n",
      "2 * 8 == 16\n",
      "2 * 9 == 18\n",
      "2 * 10 == 20\n"
     ]
    }
   ],
   "source": [
    "#take a number from user\n",
    "table_num = int(input(\"enter any number : \"))\n",
    "\n",
    "#create varible for storing result of multiplication\n",
    "mult = 1\n",
    "\n",
    "#calculate multiplication using for loop\n",
    "for i in range(1,11):\n",
    "    mult = table_num*i\n",
    "    print(f\"{table_num} * {i} == {mult}\")"
   ]
  },
  {
   "cell_type": "markdown",
   "id": "0e554d16-2ebc-45eb-aecb-4eb76891c79b",
   "metadata": {},
   "source": [
    "### 13. Write a Python program to reverse a list using a for loop."
   ]
  },
  {
   "cell_type": "code",
   "execution_count": 64,
   "id": "3f4e7dd5-37f9-4aaf-9843-0a3c7c7db110",
   "metadata": {},
   "outputs": [
    {
     "name": "stdout",
     "output_type": "stream",
     "text": [
      "Original List: [10, 20, 30, 40, 50]\n",
      "Reversed List: [50, 40, 30, 20, 10]\n"
     ]
    }
   ],
   "source": [
    "#create a list of numbers \n",
    "list_num = [10,20,30,40,50]\n",
    "\n",
    "#create empty reverse list\n",
    "reverse_list = []\n",
    "\n",
    "\n",
    "# Use a for loop to reverse the list\n",
    "for i in range(len(list_num) - 1, -1, -1):\n",
    "    reverse_list.append(list_num[i])\n",
    "\n",
    "# Print the reversed list\n",
    "print(\"Original List:\", list_num)\n",
    "print(\"Reversed List:\", reverse_list)"
   ]
  },
  {
   "cell_type": "markdown",
   "id": "c139ec17-c5f2-41a2-91aa-ce40e855c148",
   "metadata": {},
   "source": [
    "### 14. Write a Python program to find the common elements between two lists using a for loop."
   ]
  },
  {
   "cell_type": "code",
   "execution_count": 66,
   "id": "2915fa78-08da-4312-8c7c-4a68fb145c0c",
   "metadata": {},
   "outputs": [
    {
     "name": "stdout",
     "output_type": "stream",
     "text": [
      "[40, 50]\n"
     ]
    }
   ],
   "source": [
    "#create two list\n",
    "list1 = [10,20,30,40,50]\n",
    "list2 = [60,70,50,40,80]\n",
    "\n",
    "#create a common list varible for storing common elements\n",
    "common_list = []\n",
    "\n",
    "#calculate using for loop\n",
    "for i in list1:\n",
    "    #check if i of list1 are present in list2\n",
    "    if i in list2:\n",
    "        #append coomon list\n",
    "        common_list.append(i)\n",
    "print(common_list)"
   ]
  },
  {
   "cell_type": "markdown",
   "id": "673c2d38-493c-4d9a-87b1-b552548327f5",
   "metadata": {},
   "source": [
    "### 15. Explain how to use a for loop to iterate through the keys and values of a dictionary in Python."
   ]
  },
  {
   "cell_type": "markdown",
   "id": "785485eb-9e57-4b09-aa84-d4bdf9783663",
   "metadata": {},
   "source": [
    "In Python, you can use a for loop to iterate through the keys and values of a dictionary using several methods. Here, I'll explain how to do it using the items() method, which provides an easy way to iterate through both keys and values simultaneously:\n",
    "\n",
    "Consider the following dictionary:\n",
    "        \n",
    "        //my_dict = {\"apple\": 3, \"banana\": 2, \"cherry\": 5}\n",
    "\n",
    "\n",
    "* Here's how to iterate through its keys and values using a for loop:\n",
    "   \n",
    "       //# Iterating through keys and values using items()\n",
    "        for key, value in my_dict.items():\n",
    "            print(\"Key:\", key)\n",
    "            print(\"Value:\", value)\n",
    "            print()  # Add a newline for separation\n",
    "            \n",
    "            \n",
    "\n",
    "* In this code:\n",
    "\n",
    "1. We use the .items() method on the dictionary (my_dict) to get a view of its key-value pairs.\n",
    "\n",
    "1. The for loop iterates through each key-value pair, and for each iteration, the key variable takes on the key, and the value variable takes on the corresponding value.\n",
    "\n",
    "1. Inside the loop, we can access both the key and the value and perform any desired operations. In this example, we simply print them.\n",
    "\n",
    "1. We also add an extra print() statement to add a newline for separation between each key-value pair.\n",
    "\n",
    "\n",
    "* The output of the code will be:\n",
    "      \n",
    "      Key: apple\n",
    "      Value: 3\n",
    "\n",
    "      Key: banana\n",
    "      Value: 2\n",
    "\n",
    "      Key: cherry\n",
    "      Value: 5\n"
   ]
  },
  {
   "cell_type": "markdown",
   "id": "0d170034-8ef6-4a40-8c73-834282e1d33e",
   "metadata": {},
   "source": [
    "### 16. Write a Python program to find the GCD (Greatest Common Divisor) of two numbers using a for loop.\n"
   ]
  },
  {
   "cell_type": "code",
   "execution_count": 69,
   "id": "151d37e3-b26e-4481-b83e-6630fdfe262f",
   "metadata": {},
   "outputs": [
    {
     "name": "stdin",
     "output_type": "stream",
     "text": [
      "Enter the first number:  10\n",
      "Enter the second number:  12\n"
     ]
    },
    {
     "name": "stdout",
     "output_type": "stream",
     "text": [
      "GCD of 10 and 12 is: 2\n"
     ]
    }
   ],
   "source": [
    "# Input: Get two numbers from the user\n",
    "num1 = int(input(\"Enter the first number: \"))\n",
    "num2 = int(input(\"Enter the second number: \"))\n",
    "\n",
    "# Find the minimum of the two numbers\n",
    "min_num = min(num1, num2)\n",
    "\n",
    "# Initialize GCD to 1\n",
    "gcd_result = 1\n",
    "\n",
    "# Use a for loop to find the GCD\n",
    "for i in range(1, min_num + 1):\n",
    "    if num1 % i == 0 and num2 % i == 0:\n",
    "        gcd_result = i\n",
    "\n",
    "# Print the GCD\n",
    "print(\"GCD of\", num1, \"and\", num2, \"is:\", gcd_result)\n"
   ]
  },
  {
   "cell_type": "markdown",
   "id": "1e7fb04d-3677-433c-ac64-1f8beaf829a3",
   "metadata": {},
   "source": [
    "### 17. Create a Python program that checks if a string is a palindrome using a for loop."
   ]
  },
  {
   "cell_type": "code",
   "execution_count": 85,
   "id": "a50d700b-ea63-45de-8eca-84d431d96016",
   "metadata": {},
   "outputs": [
    {
     "name": "stdin",
     "output_type": "stream",
     "text": [
      "enter any string racecar\n"
     ]
    },
    {
     "name": "stdout",
     "output_type": "stream",
     "text": [
      "The string is a palindrome.\n"
     ]
    }
   ],
   "source": [
    "#take a string from user\n",
    "string1 = input(\"enter any string\").lower()\n",
    "\n",
    "\n",
    "for i in string1:\n",
    "    if string1[::-1] == string1:\n",
    "        print(\"The string is a palindrome.\")\n",
    "        break\n",
    "    else:\n",
    "        print(\"The string is not a palindrome.\")\n",
    "        break"
   ]
  },
  {
   "cell_type": "markdown",
   "id": "b96c8d3a-0622-4fc4-b396-aaf08ba055e5",
   "metadata": {},
   "source": [
    "### 18. Write a Python program to remove duplicates from a list using a for loop."
   ]
  },
  {
   "cell_type": "code",
   "execution_count": 86,
   "id": "0307eee6-0d23-44b6-9bce-091a18053e15",
   "metadata": {},
   "outputs": [
    {
     "name": "stdout",
     "output_type": "stream",
     "text": [
      "Original List: [1, 2, 1, 2, 3, 5, 6, 5, 5, 5, 4, 8, 9, 3, 1, 7, 4]\n",
      "List with Duplicates Removed: [1, 2, 3, 5, 6, 4, 8, 9, 7]\n"
     ]
    }
   ],
   "source": [
    "#create alist of numbers\n",
    "list3 = [ 1,2,1,2,3,5,6,5,5,5,4,8,9,3,1,7,4]\n",
    "\n",
    "#create an empty list for original elements\n",
    "modified_list = []\n",
    "\n",
    "# Use a for loop to remove duplicates\n",
    "for i in list3:\n",
    "    if i not in modified_list:\n",
    "        modified_list.append(i)\n",
    "\n",
    "# Print the list with duplicates removed\n",
    "print(\"Original List:\", list3)\n",
    "print(\"List with Duplicates Removed:\", modified_list)"
   ]
  },
  {
   "cell_type": "markdown",
   "id": "b2f15c3d-92b6-47ef-b654-77e6724acc1c",
   "metadata": {},
   "source": [
    "### 19. Create a Python program that counts the number of words in a sentence using a for loop."
   ]
  },
  {
   "cell_type": "code",
   "execution_count": 89,
   "id": "693c80aa-e4b0-492e-9dca-c2cbc3606b11",
   "metadata": {},
   "outputs": [
    {
     "name": "stdin",
     "output_type": "stream",
     "text": [
      "enter any string  hi aniruddha how are you\n"
     ]
    },
    {
     "name": "stdout",
     "output_type": "stream",
     "text": [
      "Number of words in the sentence: 5\n"
     ]
    }
   ],
   "source": [
    "#take string from user\n",
    "string4 = input(\"enter any string \").lower()\n",
    "\n",
    "#create a count varible for counting words\n",
    "count = 0\n",
    "\n",
    "# Split the sentence into words using whitespace as the delimiter\n",
    "words = string4.split()\n",
    "\n",
    "#calculate using for loop\n",
    "for i in words:\n",
    "    count = count +1 \n",
    "print(\"Number of words in the sentence:\", count) "
   ]
  },
  {
   "cell_type": "markdown",
   "id": "7ea8d346-d2bf-42b3-bd9a-d13ae697cc1a",
   "metadata": {},
   "source": []
  },
  {
   "cell_type": "markdown",
   "id": "c12465d9-f568-4a4a-891c-52e878a45e12",
   "metadata": {},
   "source": [
    "### 20. Write a Python program to find the sum of all odd numbers from 1 to 50 using a for loop."
   ]
  },
  {
   "cell_type": "code",
   "execution_count": 92,
   "id": "59bfd66c-5166-4416-ad57-1cfd3b088076",
   "metadata": {},
   "outputs": [
    {
     "name": "stdout",
     "output_type": "stream",
     "text": [
      "sum of all odd numbers from 1 to 50 is 625\n"
     ]
    }
   ],
   "source": [
    "#initilize summ varibale for adding all n=odd nmbers\n",
    "summ = 0\n",
    "\n",
    "#calculate using for loop\n",
    "for i in range(1,51):\n",
    "    #check if i is odd or even\n",
    "    if i %2 != 0 :\n",
    "        #append it to summ varible\n",
    "        summ +=i\n",
    "    else:\n",
    "        continue\n",
    "print(f\"sum of all odd numbers from 1 to 50 is {summ}\")"
   ]
  },
  {
   "cell_type": "markdown",
   "id": "5b2be3c0-f5c8-426b-8c34-072e6510819d",
   "metadata": {},
   "source": [
    "\n",
    "### 21. Write a Python program that checks if a given year is a leap year using a for loop."
   ]
  },
  {
   "cell_type": "code",
   "execution_count": null,
   "id": "2aa13c75-8e4a-4fa8-809f-ecc094dee99c",
   "metadata": {},
   "outputs": [
    {
     "name": "stdin",
     "output_type": "stream",
     "text": [
      "enter year  2016\n"
     ]
    },
    {
     "name": "stdout",
     "output_type": "stream",
     "text": [
      "2016 is a leap year\n"
     ]
    }
   ],
   "source": [
    "#take year from from the user \n",
    "year = int(input(\"enter year \"))\n",
    "\n",
    "#calculate usiong for loop\n",
    "if year % 4 == 0 :\n",
    "    print(f\"{year} is a leap year\")\n",
    "else:\n",
    "    print(f\"{year} is not a leap year\")"
   ]
  },
  {
   "cell_type": "markdown",
   "id": "7aa5a7f6-94c7-47e7-ae05-3ff3674a153c",
   "metadata": {},
   "source": [
    "### 22. Create a Python program that calculates the square root of a number using a for loop."
   ]
  },
  {
   "cell_type": "code",
   "execution_count": 94,
   "id": "0c22147c-182d-44dd-b2d0-4bb81f9754b1",
   "metadata": {},
   "outputs": [
    {
     "name": "stdin",
     "output_type": "stream",
     "text": [
      "Enter a number:  25\n"
     ]
    },
    {
     "name": "stdout",
     "output_type": "stream",
     "text": [
      "Square root: 5.0\n"
     ]
    }
   ],
   "source": [
    "# Input: Get a number from the user\n",
    "number = float(input(\"Enter a number: \"))\n",
    "\n",
    "# Initialize an initial approximation (can be any positive number)\n",
    "approximation = number / 2\n",
    "\n",
    "# Set the number of iterations\n",
    "iterations = 100  # You can adjust this based on desired precision\n",
    "\n",
    "# Use a for loop to approximate the square root\n",
    "for _ in range(iterations):\n",
    "    approximation = 0.5 * (approximation + number / approximation)\n",
    "\n",
    "# Print the square root approximation\n",
    "print(\"Square root:\", approximation)\n"
   ]
  },
  {
   "cell_type": "markdown",
   "id": "adee2846-373d-4c8e-8e73-83d6d522bd68",
   "metadata": {},
   "source": [
    "### 23. Write a Python program to find the LCM (Least Common Multiple) of two numbers using a for loop."
   ]
  },
  {
   "cell_type": "code",
   "execution_count": 102,
   "id": "9f67685a-3961-4320-ba97-e8bf1b725739",
   "metadata": {},
   "outputs": [
    {
     "name": "stdin",
     "output_type": "stream",
     "text": [
      "Enter the first number:  10\n",
      "Enter the second number:  12\n"
     ]
    },
    {
     "name": "stdout",
     "output_type": "stream",
     "text": [
      "LCM of 10 and 12 is: 60\n"
     ]
    }
   ],
   "source": [
    "# Input: Get two numbers from the user\n",
    "num1 = int(input(\"Enter the first number: \"))\n",
    "num2 = int(input(\"Enter the second number: \"))\n",
    "\n",
    "# Find the maximum of the two numbers\n",
    "max_num = max(num1, num2)\n",
    "\n",
    "# Initialize a variable for the LCM\n",
    "lcm = max_num\n",
    "\n",
    "# Use a for loop to find the LCM\n",
    "for i in range(max_num, num1 * num2 + 1, max_num):\n",
    "    if i % num1 == 0 and i % num2 == 0:\n",
    "        lcm = i\n",
    "        break\n",
    "\n",
    "# Print the LCM\n",
    "print(\"LCM of\", num1, \"and\", num2, \"is:\", lcm)\n"
   ]
  },
  {
   "cell_type": "markdown",
   "id": "6ede7716-33eb-4d0f-8269-05e1719be0a7",
   "metadata": {},
   "source": []
  },
  {
   "cell_type": "markdown",
   "id": "56964e3c-c5c0-4bb4-8497-6ee3d2ab0fc2",
   "metadata": {},
   "source": [
    "## If else :\n"
   ]
  },
  {
   "cell_type": "markdown",
   "id": "794cb83e-7510-4475-8b88-efda71f74483",
   "metadata": {},
   "source": [
    "### 1. Write a Python program to check if a number is positive, negative, or zero using an if-else statement.\n"
   ]
  },
  {
   "cell_type": "code",
   "execution_count": 111,
   "id": "0f269498-2c53-4b32-8cfa-1fe6737ec1cf",
   "metadata": {},
   "outputs": [
    {
     "name": "stdin",
     "output_type": "stream",
     "text": [
      "enter any number  5\n"
     ]
    },
    {
     "name": "stdout",
     "output_type": "stream",
     "text": [
      "5 is positvie\n"
     ]
    }
   ],
   "source": [
    "#Get a number from user\n",
    "num4 = int(input(\"enter any number \"))\n",
    "\n",
    "#check the conditions using if else statement\n",
    "if num4 == 0:\n",
    "    print(f\"{num4} is equal to zero\")\n",
    "elif num4 > 0:\n",
    "    print(f\"{num4} is positvie\")\n",
    "else:\n",
    "    print(f\"{num4} is negative\")"
   ]
  },
  {
   "cell_type": "markdown",
   "id": "0432b27d-b825-4c72-9cac-d44f3e847fed",
   "metadata": {},
   "source": [
    "### 2. Create a Python program that checks if a given number is even or odd using an if-else statement."
   ]
  },
  {
   "cell_type": "code",
   "execution_count": 109,
   "id": "aae7379c-a061-4e85-8f15-25a42ef246dd",
   "metadata": {},
   "outputs": [
    {
     "name": "stdin",
     "output_type": "stream",
     "text": [
      "enter any number 5\n"
     ]
    },
    {
     "name": "stdout",
     "output_type": "stream",
     "text": [
      "5 is odd number\n"
     ]
    }
   ],
   "source": [
    "#get a number from user\n",
    "num5 = int(input(\"enter any number\"))\n",
    "\n",
    "#check if number is even or odd using if else statement\n",
    "if num5%2==0:\n",
    "    print(f\"{num5} is an even number\")\n",
    "else:\n",
    "    print(f\"{num5} is odd number\")"
   ]
  },
  {
   "cell_type": "markdown",
   "id": "e211428c-e044-49e4-b097-ad8c6ad3db4e",
   "metadata": {},
   "source": [
    "### 3. How can you use nested if-else statements in Python, and provide an example?"
   ]
  },
  {
   "cell_type": "code",
   "execution_count": 112,
   "id": "8c169e7b-6e48-4201-858f-324e43c08baa",
   "metadata": {},
   "outputs": [
    {
     "name": "stdin",
     "output_type": "stream",
     "text": [
      "Enter the student's score:  85\n"
     ]
    },
    {
     "name": "stdout",
     "output_type": "stream",
     "text": [
      "The student's grade is: B\n"
     ]
    }
   ],
   "source": [
    "'''\n",
    "\n",
    "In Python, you can use nested if-else statements to create conditional logic with multiple levels of decision-making. \n",
    "Nested if-else statements allow you to check conditions within conditions.\n",
    "Here's the basic syntax:\n",
    "\n",
    "\n",
    "if condition1:\n",
    "    # Code to execute when condition1 is True\n",
    "    if condition2:\n",
    "        # Code to execute when both condition1 and condition2 are True\n",
    "    else:\n",
    "        # Code to execute when condition1 is True, but condition2 is False\n",
    "else:\n",
    "    # Code to execute when condition1 is False\n",
    "    \n",
    "'''\n",
    "\n",
    "# Get the student's score from the user\n",
    "score = int(input(\"Enter the student's score: \"))\n",
    "\n",
    "# Determine the grade based on the score\n",
    "if score >= 90:\n",
    "    if score >= 95:\n",
    "        grade = \"A+\"\n",
    "    else:\n",
    "        grade = \"A\"\n",
    "elif score >= 80:\n",
    "    grade = \"B\"\n",
    "elif score >= 70:\n",
    "    grade = \"C\"\n",
    "elif score >= 60:\n",
    "    grade = \"D\"\n",
    "else:\n",
    "    grade = \"F\"\n",
    "\n",
    "# Print the grade\n",
    "print(\"The student's grade is:\", grade)\n"
   ]
  },
  {
   "cell_type": "markdown",
   "id": "96e4247e-776b-49cf-a84f-ca955d0fd1ab",
   "metadata": {},
   "source": [
    "### 4. Write a Python program to determine the largest of three numbers using if-else."
   ]
  },
  {
   "cell_type": "code",
   "execution_count": 113,
   "id": "ee46c983-afb1-4513-ab71-d5c4e296cd78",
   "metadata": {},
   "outputs": [
    {
     "name": "stdin",
     "output_type": "stream",
     "text": [
      "enter any first number 4\n",
      "enter any second number 5\n",
      "enter any third number 78\n"
     ]
    },
    {
     "name": "stdout",
     "output_type": "stream",
     "text": [
      "78 is largest number\n"
     ]
    }
   ],
   "source": [
    "#get three numbers from user\n",
    "num1 = int(input(\"enter any first number\"))\n",
    "num2 = int(input(\"enter any second number\"))\n",
    "num3 = int(input(\"enter any third number\"))\n",
    "\n",
    "#check condiotns using if else staement\n",
    "if num1 > num2 and num1 > num3 :\n",
    "    print(f\"{num1} is largest number\")\n",
    "elif num2 > num1 and num2 > num3 :\n",
    "    print(f\"{num2} is largest number\")\n",
    "else:\n",
    "    print(f\"{num3} is largest number\")\n",
    "    "
   ]
  },
  {
   "cell_type": "markdown",
   "id": "82a2754c-5086-4fc2-b5f6-fe6d02a698da",
   "metadata": {},
   "source": [
    "### 5. Write a Python program that calculates the absolute value of a number using if-else."
   ]
  },
  {
   "cell_type": "code",
   "execution_count": 116,
   "id": "a19183e1-aa58-4bc6-9054-c38a7af49cc0",
   "metadata": {},
   "outputs": [
    {
     "name": "stdin",
     "output_type": "stream",
     "text": [
      "enter any number -100\n"
     ]
    },
    {
     "name": "stdout",
     "output_type": "stream",
     "text": [
      "absolute value of -100 is 100\n"
     ]
    }
   ],
   "source": [
    "#get a number from user\n",
    "num6 = int(input(\"enter any number\"))\n",
    "\n",
    "#check contionons using if else statement\n",
    "if num6 > 0 :\n",
    "    print(f\"absolute value of {num6} is {num6}\")\n",
    "elif num6<0 :\n",
    "    print(f\"absolute value of {num6} is {-num6}\")\n"
   ]
  },
  {
   "cell_type": "markdown",
   "id": "9a7d1ae7-5c20-4646-9cf1-cf517a1f39fd",
   "metadata": {},
   "source": [
    "### 6. Create a Python program that checks if a given character is a vowel or consonant using if-else.\n"
   ]
  },
  {
   "cell_type": "code",
   "execution_count": 129,
   "id": "de468ca7-d4a5-4cbd-ab56-ea43e137af84",
   "metadata": {},
   "outputs": [
    {
     "name": "stdin",
     "output_type": "stream",
     "text": [
      "enter any string f\n"
     ]
    },
    {
     "name": "stdout",
     "output_type": "stream",
     "text": [
      "given character is consonant\n"
     ]
    }
   ],
   "source": [
    "#get string character from user\n",
    "character = input(\"enter any string\").lower()\n",
    "\n",
    "#create a vowel list \n",
    "vowel_list = ['a','e','i','o','u']\n",
    "\n",
    "# Check if the input is a single character and alphabetic\n",
    "if len(character) == 1 and character.isalpha():\n",
    "    if character in vowel_list  :\n",
    "        print(\"given character is vowel\")\n",
    "    else:\n",
    "        print(\"given character is consonant\")\n",
    "else:\n",
    "    print(\"Invalid input. Please enter a single alphabetic character.\")"
   ]
  },
  {
   "cell_type": "markdown",
   "id": "1187cd6b-daaa-4ca0-8792-a2826f619b2d",
   "metadata": {},
   "source": [
    "### 7. Write a Python program to determine if a user is eligible to vote based on their age using if-else.\n"
   ]
  },
  {
   "cell_type": "code",
   "execution_count": 131,
   "id": "54d80150-e10c-426c-b692-9de5dc595217",
   "metadata": {},
   "outputs": [
    {
     "name": "stdin",
     "output_type": "stream",
     "text": [
      "enter a valid age 19\n"
     ]
    },
    {
     "name": "stdout",
     "output_type": "stream",
     "text": [
      "user is eligible for voting\n"
     ]
    }
   ],
   "source": [
    "#Take age from the user\n",
    "age =int(input(\"enter a valid age\"))\n",
    "\n",
    "#check user date is between 1 To 100\n",
    "if 1<age<100:\n",
    "    if age >= 18 :\n",
    "        print(\"user is eligible for voting\")\n",
    "    else:\n",
    "        print(\"user is not eligible for voting\")\n",
    "else:\n",
    "    print(\"enterd age is invalid please provide valid information\")\n",
    "    "
   ]
  },
  {
   "cell_type": "markdown",
   "id": "a1fab631-584c-4ac3-830c-16e735e955c9",
   "metadata": {},
   "source": [
    "### 8. Create a Python program that calculates the discount amount based on the purchase amount using if-else.\n"
   ]
  },
  {
   "cell_type": "code",
   "execution_count": 8,
   "id": "fb78aceb-8dfc-401a-9d5e-ed9b05c786ce",
   "metadata": {},
   "outputs": [
    {
     "name": "stdin",
     "output_type": "stream",
     "text": [
      "Enter purchased amount:  1501\n"
     ]
    },
    {
     "name": "stdout",
     "output_type": "stream",
     "text": [
      "Discount on 1501.0 is 180.12\n"
     ]
    }
   ],
   "source": [
    "'''\n",
    "dicsount rates\n",
    "1. above 1500 is 12%\n",
    "2. above 2000 is 18%\n",
    "3. above 3000 is 25%\n",
    "4.above 5000 is 40%\n",
    "'''\n",
    "\n",
    "# Get the purchased amount from the user\n",
    "purchased_amount = float(input(\"Enter purchased amount: \"))\n",
    "\n",
    "# Initialize a variable to calculate the discount amount\n",
    "discount_amount = 0\n",
    "\n",
    "# Check if the purchased amount is valid (greater than 0)\n",
    "if purchased_amount > 0:\n",
    "    if purchased_amount > 5000:\n",
    "        discount_amount = purchased_amount * (40/100)\n",
    "        print(f\"Discount on {purchased_amount} is {discount_amount}\")\n",
    "    elif purchased_amount > 3000:\n",
    "        discount_amount = purchased_amount * (25/100)\n",
    "        print(f\"Discount on {purchased_amount} is {discount_amount}\")\n",
    "    elif purchased_amount > 2000:\n",
    "        discount_amount = purchased_amount * (18/100)\n",
    "        print(f\"Discount on {purchased_amount} is {discount_amount}\")\n",
    "    elif purchased_amount > 1500:\n",
    "        discount_amount = purchased_amount * (12/100)\n",
    "        print(f\"Discount on {purchased_amount} is {discount_amount}\")\n",
    "    else:\n",
    "        print(f\"No discount for {purchased_amount}\")\n",
    "else:\n",
    "    print(\"Please enter a valid purchased amount greater than 0\")\n"
   ]
  },
  {
   "cell_type": "markdown",
   "id": "bb023c90-2f35-487a-bfa8-a2ece9585edf",
   "metadata": {},
   "source": [
    "### 9. Write a Python program to check if a number is within a specified range using if-else.\n"
   ]
  },
  {
   "cell_type": "code",
   "execution_count": 9,
   "id": "5f3db452-9a81-4ba2-8958-ab2a213c71ab",
   "metadata": {},
   "outputs": [
    {
     "name": "stdin",
     "output_type": "stream",
     "text": [
      "Enter a number:  13\n"
     ]
    },
    {
     "name": "stdout",
     "output_type": "stream",
     "text": [
      "13.0 is within the range [10, 50].\n"
     ]
    }
   ],
   "source": [
    "# Define the specified range\n",
    "lower_limit = 10\n",
    "upper_limit = 50\n",
    "\n",
    "# Input: Get a number from the user\n",
    "number = float(input(\"Enter a number: \"))\n",
    "\n",
    "# Check if the number is within the specified range using if-else\n",
    "if lower_limit <= number <= upper_limit:\n",
    "    print(f\"{number} is within the range [{lower_limit}, {upper_limit}].\")\n",
    "else:\n",
    "    print(f\"{number} is not within the range [{lower_limit}, {upper_limit}].\")\n"
   ]
  },
  {
   "cell_type": "markdown",
   "id": "b2517c96-3a64-4fa9-8a07-dac36e1451da",
   "metadata": {},
   "source": [
    "### 10. Create a Python program that determines the grade of a student based on their score using if-else.\n"
   ]
  },
  {
   "cell_type": "code",
   "execution_count": 22,
   "id": "458518cc-3e10-43e4-b2a3-a7efaccba4fc",
   "metadata": {},
   "outputs": [
    {
     "name": "stdin",
     "output_type": "stream",
     "text": [
      "Enter the score obtained by the student:  100\n"
     ]
    },
    {
     "name": "stdout",
     "output_type": "stream",
     "text": [
      "The student's grade is: A+\n"
     ]
    }
   ],
   "source": [
    "# Get the score of the student from the user\n",
    "score = float(input(\"Enter the score obtained by the student: \"))\n",
    "\n",
    "# Check if the score is valid\n",
    "if 0.0 < score <= 100.0:\n",
    "    # Determine the grade based on the score\n",
    "    if score >= 90:\n",
    "        if score >= 95:\n",
    "            grade = \"A+\"\n",
    "        else:\n",
    "            grade = \"A\"\n",
    "    elif score >= 80:\n",
    "        grade = \"B\"\n",
    "    elif score >= 70:\n",
    "        grade = \"C\"\n",
    "    elif score >= 60:\n",
    "        grade = \"D\"\n",
    "    else:\n",
    "        grade = \"F\"\n",
    "    \n",
    "    # Print the grade\n",
    "    print(\"The student's grade is:\", grade)\n",
    "else:\n",
    "    print(\"Please provide a valid score between 0 and 100.\")\n"
   ]
  },
  {
   "cell_type": "markdown",
   "id": "37577d7f-afaf-479c-8164-c39d1917bdf3",
   "metadata": {},
   "source": [
    "### 11. Write a Python program to check if a string is empty or not using if-else.\n"
   ]
  },
  {
   "cell_type": "code",
   "execution_count": null,
   "id": "8df05374-1432-40df-8ada-f67e476bbf6f",
   "metadata": {},
   "outputs": [],
   "source": []
  },
  {
   "cell_type": "code",
   "execution_count": 26,
   "id": "0d064e4c-d666-4358-a6b0-42a4249c5f91",
   "metadata": {},
   "outputs": [
    {
     "name": "stdin",
     "output_type": "stream",
     "text": [
      "Enter a string:  anirhdjskflasjkfvb.jabfv.kabv.avbA>j\n"
     ]
    },
    {
     "name": "stdout",
     "output_type": "stream",
     "text": [
      "The string is not empty.\n"
     ]
    }
   ],
   "source": [
    "# Get a string from the user\n",
    "input_string = input(\"Enter a string: \")\n",
    "\n",
    "# Check if the string is empty using if-else\n",
    "if len(input_string.strip()) == 0:\n",
    "    print(\"The string is empty.\")\n",
    "else:\n",
    "    print(\"The string is not empty.\")\n"
   ]
  },
  {
   "cell_type": "markdown",
   "id": "6100cc05-bb5b-4df4-aafb-e7bda4d79403",
   "metadata": {},
   "source": [
    "### 12. Create a Python program that identifies the type of a triangle (e.g., equilateral, isosceles, or scalene) based on input values using if-else.\n"
   ]
  },
  {
   "cell_type": "code",
   "execution_count": 27,
   "id": "24af009e-d272-4cca-ad30-811076324340",
   "metadata": {},
   "outputs": [
    {
     "name": "stdin",
     "output_type": "stream",
     "text": [
      "Enter the length of the first side:  2\n",
      "Enter the length of the second side:  3\n",
      "Enter the length of the third side:  4\n"
     ]
    },
    {
     "name": "stdout",
     "output_type": "stream",
     "text": [
      "The triangle is Scalene.\n"
     ]
    }
   ],
   "source": [
    "'''\n",
    "If the input values form a valid triangle, we proceed to determine the type of the triangle based on the lengths of its sides:\n",
    "\n",
    "If all sides are equal, it's an equilateral triangle.\n",
    "If two sides are equal, it's an isosceles triangle.\n",
    "If no sides are equal, it's a scalene triangle.\n",
    "\n",
    "'''\n",
    "\n",
    "# Get the lengths of the sides of the triangle from the user\n",
    "side1 = float(input(\"Enter the length of the first side: \"))\n",
    "side2 = float(input(\"Enter the length of the second side: \"))\n",
    "side3 = float(input(\"Enter the length of the third side: \"))\n",
    "\n",
    "# Check if the input values form a valid triangle\n",
    "if side1 + side2 > side3 and side1 + side3 > side2 and side2 + side3 > side1:\n",
    "    # Determine the type of the triangle\n",
    "    if side1 == side2 == side3:\n",
    "        triangle_type = \"Equilateral\"\n",
    "    elif side1 == side2 or side1 == side3 or side2 == side3:\n",
    "        triangle_type = \"Isosceles\"\n",
    "    else:\n",
    "        triangle_type = \"Scalene\"\n",
    "    \n",
    "    # Print the type of the triangle\n",
    "    print(f\"The triangle is {triangle_type}.\")\n",
    "else:\n",
    "    print(\"The input values do not form a valid triangle.\")\n"
   ]
  },
  {
   "cell_type": "markdown",
   "id": "7a9fcdc7-d5ac-4aa4-8390-61155e5b0dd2",
   "metadata": {},
   "source": [
    "### 13. Write a Python program to determine the day of the week based on a user-provided number using if-else.\n"
   ]
  },
  {
   "cell_type": "code",
   "execution_count": 31,
   "id": "c21d0a57-c256-4bb0-9970-777577abd9b7",
   "metadata": {},
   "outputs": [
    {
     "name": "stdin",
     "output_type": "stream",
     "text": [
      "Enter a number (0-6):  0\n"
     ]
    },
    {
     "name": "stdout",
     "output_type": "stream",
     "text": [
      "It's Sunday.\n"
     ]
    }
   ],
   "source": [
    "# Get a number from the user\n",
    "number = int(input(\"Enter a number (0-6): \"))\n",
    "\n",
    "# Check if the number is within the valid range (0-6)\n",
    "if 0 <= number <= 6:\n",
    "    # Map the number to the corresponding day of the week\n",
    "    if number == 0:\n",
    "        print(\"It's Sunday.\")\n",
    "    elif number == 1:\n",
    "        print(\"It's Monday.\")\n",
    "    elif number == 2:\n",
    "        print(\"It's Tuesday.\")\n",
    "    elif number == 3:\n",
    "        print(\"It's Wednesday.\")\n",
    "    elif number == 4:\n",
    "        print(\"It's Thursday.\")\n",
    "    elif number == 5:\n",
    "        print(\"It's Friday.\")\n",
    "    elif number == 6:\n",
    "        print(\"It's Saturday.\")\n",
    "else:\n",
    "    print(\"Please enter a valid number between 0 and 6.\")\n"
   ]
  },
  {
   "cell_type": "markdown",
   "id": "77f82327-bfdd-406f-949d-7e9c64daa2f4",
   "metadata": {},
   "source": [
    "### 14. Create a Python program that checks if a given year is a leap year using both if-else and a function.\n"
   ]
  },
  {
   "cell_type": "code",
   "execution_count": 4,
   "id": "789a9fd3-a496-4a6a-9ba2-cd2e20a9b589",
   "metadata": {},
   "outputs": [
    {
     "name": "stdin",
     "output_type": "stream",
     "text": [
      "Enter a year:  2016\n"
     ]
    },
    {
     "name": "stdout",
     "output_type": "stream",
     "text": [
      "2016 is a leap year.\n"
     ]
    }
   ],
   "source": [
    "# Function to check if a year is a leap year\n",
    "def is_leap_year(year):\n",
    "    if (year % 4 == 0 and year % 100 != 0) or (year % 400 == 0):\n",
    "        return True\n",
    "    else:\n",
    "        return False\n",
    "\n",
    "# Get a year from the user\n",
    "year = int(input(\"Enter a year: \"))\n",
    "\n",
    "# Check if the year is a leap year using the function\n",
    "if is_leap_year(year):\n",
    "    print(f\"{year} is a leap year.\")\n",
    "else:\n",
    "    print(f\"{year} is not a leap year.\")\n"
   ]
  },
  {
   "cell_type": "markdown",
   "id": "857782c0-4080-4bf7-bdef-c7cc9c9a947b",
   "metadata": {},
   "source": [
    "### 15. How do you use the \"assert\" statement in Python to add debugging checks within if-else blocks?\n"
   ]
  },
  {
   "cell_type": "markdown",
   "id": "ed852fbc-dc65-474f-94bc-673b515a1a37",
   "metadata": {},
   "source": [
    "* In Python, the assert statement is used as a debugging aid. It tests a condition, and if the condition is False, it raises an AssertionError exception with an optional error message. You can use the assert statement to add debugging checks within if-else blocks to ensure that certain conditions are met during program execution.\n",
    "\n",
    "* Here's the basic syntax of the assert statement:\n",
    "   \n",
    "      /// assert condition, \"Optional error message\"\n",
    "\n",
    "* condition is the expression that you want to test.\n",
    "* \"Optional error message\" is an optional message that will be displayed if the condition is False. This message helps you identify what went wrong when the assertion fails.\n",
    "* Here's an example of how to use the assert statement within an if-else block:\n",
    "\n",
    "      //// def divide(a, b):\n",
    "        assert b != 0, \"Cannot divide by zero\"\n",
    "        result = a / b\n",
    "        return result\n",
    "\n",
    "        numerator = 10\n",
    "        denominator = 0\n",
    "\n",
    "        try:\n",
    "            result = divide(numerator, denominator)\n",
    "            print(\"Result:\", result)\n",
    "        except AssertionError as e:\n",
    "            print(\"Assertion Error:\", e)\n",
    "        except ZeroDivisionError:\n",
    "            print(\"ZeroDivisionError: Cannot divide by zero\")\n",
    "\n",
    "///\n",
    "\n",
    "\n",
    "\n",
    "\n",
    "1. We define a divide function that takes two arguments a and b. Before performing the division, we use an assert statement to check if b is not equal to zero. If b is zero, the assertion will fail, and an AssertionError will be raised with the specified error message.\n",
    "\n",
    "1. We intentionally set denominator to zero to trigger the assert statement's failure.\n",
    "\n",
    "1. We use a try block to call the divide function with the numerator and denominator.\n",
    "\n",
    "1. If the assert statement fails (due to the denominator being zero), it raises an AssertionError, which is caught in the except AssertionError block, and the specified error message is printed.\n",
    "\n",
    "1. Using the assert statement is a helpful way to add debugging checks within your code to catch conditions that should never occur during normal program execution. However, it's important to note that assert statements should be used for debugging purposes and should not be relied upon for error handling in production code.\n",
    "\n",
    "\n",
    "\n",
    "\n",
    "\n",
    "\n",
    "\n"
   ]
  },
  {
   "cell_type": "markdown",
   "id": "7c0a3b78-0af8-46b5-b030-478b11fb5999",
   "metadata": {},
   "source": [
    "### 16. Create a Python program that determines the eligibility of a person for a senior citizen discount based on age using if-else.\n"
   ]
  },
  {
   "cell_type": "code",
   "execution_count": 8,
   "id": "9cf9c11f-4530-4234-ae70-12bb1927d66c",
   "metadata": {},
   "outputs": [
    {
     "name": "stdin",
     "output_type": "stream",
     "text": [
      "enter varified age 60\n"
     ]
    },
    {
     "name": "stdout",
     "output_type": "stream",
     "text": [
      "person is eligible for senior citizen discount\n"
     ]
    }
   ],
   "source": [
    "# get age from user\n",
    "age = int(input(\"enter varified age\"))\n",
    "\n",
    "#check if the age is valid or not\n",
    "if 0<age<=100:\n",
    "    #check for senior citizen\n",
    "    if age >=60:\n",
    "        print(\"person is eligible for senior citizen discount\")\n",
    "    else:\n",
    "        print(\"person is not eligible for senior citizen discount\")\n",
    "else:\n",
    "    print(\"enter valid age\")"
   ]
  },
  {
   "cell_type": "markdown",
   "id": "a66cc478-e0fd-4e1c-8ad3-4f92845482f2",
   "metadata": {},
   "source": [
    "### 17. Write a Python program to categorize a given character as uppercase, lowercase, or neither using if-else.\n"
   ]
  },
  {
   "cell_type": "code",
   "execution_count": 13,
   "id": "b89f5a06-7a69-46fe-af6c-03aa035bf153",
   "metadata": {},
   "outputs": [
    {
     "name": "stdin",
     "output_type": "stream",
     "text": [
      "enter any string  A\n"
     ]
    },
    {
     "name": "stdout",
     "output_type": "stream",
     "text": [
      "A is an uppercase letter.\n"
     ]
    }
   ],
   "source": [
    "#take character of string from user\n",
    "string_char = input(\"enter any string \")\n",
    "\n",
    "# Check if the input is a single character\n",
    "if len(string_char) == 1:\n",
    "    # Check if the character is uppercase\n",
    "    if string_char.isupper():\n",
    "        print(f\"{string_char} is an uppercase letter.\")\n",
    "    # Check if the character is lowercase\n",
    "    elif string_char.islower():\n",
    "        print(f\"{string_char} is a lowercase letter.\")\n",
    "    # If neither uppercase nor lowercase, it's not a letter\n",
    "    else:\n",
    "        print(f\"{string_char} is neither uppercase nor lowercase.\")\n",
    "else:\n",
    "    print(\"Please enter a single character.\")\n"
   ]
  },
  {
   "cell_type": "markdown",
   "id": "0aab2b52-ecbc-4ba5-acd1-0fc134e74909",
   "metadata": {},
   "source": [
    "### 18. Write a Python program to determine the roots of a quadratic equation using if-else.\n"
   ]
  },
  {
   "cell_type": "code",
   "execution_count": 14,
   "id": "6b37fdd8-51dc-4783-8560-e968ebb8f715",
   "metadata": {},
   "outputs": [
    {
     "name": "stdin",
     "output_type": "stream",
     "text": [
      "Enter the coefficient a:  2\n",
      "Enter the coefficient b:  4\n",
      "Enter the coefficient c:  6\n"
     ]
    },
    {
     "name": "stdout",
     "output_type": "stream",
     "text": [
      "No real roots (complex roots)\n"
     ]
    }
   ],
   "source": [
    "# Get the coefficients (a, b, and c) from the user\n",
    "a = float(input(\"Enter the coefficient a: \"))\n",
    "b = float(input(\"Enter the coefficient b: \"))\n",
    "c = float(input(\"Enter the coefficient c: \"))\n",
    "\n",
    "# Calculate the discriminant\n",
    "discriminant = b**2 - 4*a*c\n",
    "\n",
    "# Calculate the roots based on the discriminant\n",
    "if discriminant >= 0:\n",
    "    root1 = (-b + discriminant**0.5) / (2*a)\n",
    "    root2 = (-b - discriminant**0.5) / (2*a)\n",
    "    if discriminant == 0:\n",
    "        print(f\"Root 1 and Root 2: {root1}\")\n",
    "    else:\n",
    "        print(f\"Root 1: {root1}, Root 2: {root2}\")\n",
    "else:\n",
    "    print(\"No real roots (complex roots)\")\n"
   ]
  },
  {
   "cell_type": "markdown",
   "id": "d18575fd-7b0f-443e-8528-44dcb29b3596",
   "metadata": {},
   "source": [
    "### 19. Create a Python program that checks if a given year is a century year or not using if-else.\n"
   ]
  },
  {
   "cell_type": "code",
   "execution_count": 15,
   "id": "f0b90db1-eb3d-4d18-bc83-de29847067c6",
   "metadata": {},
   "outputs": [
    {
     "name": "stdin",
     "output_type": "stream",
     "text": [
      "Enter a year:  2000\n"
     ]
    },
    {
     "name": "stdout",
     "output_type": "stream",
     "text": [
      "2000 is a century year.\n"
     ]
    }
   ],
   "source": [
    "# Get a year from the user\n",
    "year = int(input(\"Enter a year: \"))\n",
    "\n",
    "# Check if the year is a century year using if-else\n",
    "if year % 100 == 0:\n",
    "    print(f\"{year} is a century year.\")\n",
    "else:\n",
    "    print(f\"{year} is not a century year.\")\n"
   ]
  },
  {
   "cell_type": "markdown",
   "id": "d46f3902-a293-4979-b322-9acb978a5513",
   "metadata": {},
   "source": [
    "### 20. Write a Python program to determine if a given number is a perfect square using if-else.\n"
   ]
  },
  {
   "cell_type": "code",
   "execution_count": 17,
   "id": "341a1fda-da4f-4504-b99c-5dc199753223",
   "metadata": {},
   "outputs": [
    {
     "name": "stdin",
     "output_type": "stream",
     "text": [
      "enter any number 25\n"
     ]
    },
    {
     "name": "stdout",
     "output_type": "stream",
     "text": [
      "25 is a perfect square.\n"
     ]
    }
   ],
   "source": [
    "#take a number from user\n",
    "number = int(input(\"enter any number\"))\n",
    "\n",
    "# Check if the number is a perfect square using if-else\n",
    "if number >= 0:\n",
    "    square_root = int(number**0.5)\n",
    "    if square_root**2 == number:\n",
    "        print(f\"{number} is a perfect square.\")\n",
    "    else:\n",
    "        print(f\"{number} is not a perfect square.\")\n",
    "else:\n",
    "    print(f\"{number} is not a perfect square (negative number).\")\n"
   ]
  },
  {
   "cell_type": "markdown",
   "id": "6610e76a-1276-4ccf-a24e-4aa734ce3b67",
   "metadata": {},
   "source": [
    "### 21. Explain the purpose of the \"continue\" and \"break\" statements within if-else loops.\n"
   ]
  },
  {
   "cell_type": "markdown",
   "id": "b28b4e63-8b78-4e02-a081-fd48e6d9bb5d",
   "metadata": {},
   "source": [
    "* The \"continue\" and \"break\" statements are control flow statements used within loops, including if-else loops (or conditional loops). They serve different purposes and are used to control the flow of execution within a loop.\n",
    "\n",
    "1. Continue Statement:\n",
    "\n",
    "* The \"continue\" statement is used to skip the current iteration of a loop and proceed to the next iteration.\n",
    "* When a \"continue\" statement is encountered, the remaining code within the current iteration of the loop is skipped, and the loop proceeds with the next iteration.\n",
    "* It is often used to skip certain iterations based on a condition without exiting the loop entirely.\n",
    "* Common use cases include skipping specific values in a sequence or avoiding the execution of certain code for certain cases within the loop.\n",
    "* Example:\n",
    "    \n",
    "      /// for i in range(1, 6):                                           \n",
    "                if i == 3:\n",
    "                    continue  # Skip the current iteration when i is 3\n",
    "                print(i)\n",
    "\n",
    "2. Break Statement:\n",
    "\n",
    "* The \"break\" statement is used to exit a loop prematurely, even if the loop's condition is not fully satisfied.\n",
    "* When a \"break\" statement is encountered, the loop immediately terminates, and the program continues executing the code after the loop.\n",
    "* It is often used when a specific condition is met, and you want to exit the loop early without completing all iterations.\n",
    "* Common use cases include searching for a target value in a list or terminating a loop when a certain condition is met.\n",
    "* Example:\n",
    " \n",
    "       //// target = 4\n",
    "            for i in range(1, 6):\n",
    "                if i == target:\n",
    "                    break  # Exit the loop when i is equal to the target\n",
    "                print(i)\n"
   ]
  },
  {
   "cell_type": "markdown",
   "id": "c325faed-495f-487e-9301-b6c85cc81fff",
   "metadata": {},
   "source": [
    "### 22. Create a Python program that calculates the BMI (Body Mass Index) of a person based on their weight and height using if-else.\n"
   ]
  },
  {
   "cell_type": "code",
   "execution_count": 21,
   "id": "a726f24a-1d37-4176-bfef-f0583395eb7b",
   "metadata": {},
   "outputs": [
    {
     "name": "stdin",
     "output_type": "stream",
     "text": [
      "enter weight in kg 70\n",
      "enter height in meteres 165\n"
     ]
    },
    {
     "name": "stdout",
     "output_type": "stream",
     "text": [
      "70.0 and 165.0 BMI = 0.0025711662075298437 \n"
     ]
    }
   ],
   "source": [
    "#get weight and height from user\n",
    "weight = float(input(\"enter weight in kg\"))\n",
    "height = float(input(\"enter height in meteres\"))\n",
    "\n",
    "\n",
    "    bmi = weight / (height**2)\n",
    "    print(f\"{weight} and {height} BMI = {bmi} \")\n",
    "else:\n",
    "    print(\"ivalid information\")\n",
    "    "
   ]
  },
  {
   "cell_type": "code",
   "execution_count": 24,
   "id": "81f8600a-03e3-45ac-9ba2-df53c3adc7fc",
   "metadata": {},
   "outputs": [
    {
     "name": "stdin",
     "output_type": "stream",
     "text": [
      "Enter your weight in kilograms:  70\n",
      "Enter your height in meters:  165\n"
     ]
    },
    {
     "name": "stdout",
     "output_type": "stream",
     "text": [
      "Your BMI is 0.00. You are categorized as Underweight.\n"
     ]
    }
   ],
   "source": [
    "# Get weight and height inputs from the user\n",
    "weight_kg = float(input(\"Enter your weight in kilograms: \"))\n",
    "height_m = float(input(\"Enter your height in meters: \"))\n",
    "\n",
    "\n",
    "\n",
    "#check if weight and height are valid\n",
    "if weight_kg > 0.0 and height_m > 0.0:\n",
    "# Calculate BMI\n",
    "    bmi = weight_kg / (height_m ** 2)\n",
    "\n",
    "    # Determine the BMI category using if-else\n",
    "    if bmi < 18.5:\n",
    "        category = \"Underweight\"\n",
    "    elif 18.5 <= bmi < 24.9:\n",
    "        category = \"Normal Weight\"\n",
    "    elif 25 <= bmi < 29.9:\n",
    "        category = \"Overweight\"\n",
    "    else:\n",
    "        category = \"Obese\"\n",
    "\n",
    "# Print the calculated BMI and category\n",
    "print(f\"Your BMI is {bmi:.2f}. You are categorized as {category}.\")\n"
   ]
  },
  {
   "cell_type": "markdown",
   "id": "267709b8-2334-4bc8-a294-238efa8897b4",
   "metadata": {},
   "source": [
    "### 23. How can you use the \"filter()\" function with if-else statements to filter elements from a list?\n"
   ]
  },
  {
   "cell_type": "code",
   "execution_count": 25,
   "id": "379a84ed-4d3e-4ef0-bde6-2abb0f1b7dbe",
   "metadata": {},
   "outputs": [
    {
     "name": "stdout",
     "output_type": "stream",
     "text": [
      "[2, 4, 6, 8]\n"
     ]
    }
   ],
   "source": [
    "# Define a list of numbers\n",
    "numbers = [1, 2, 3, 4, 5, 6, 7, 8, 9]\n",
    "\n",
    "# Define a filtering condition using a custom function\n",
    "def is_even(num):\n",
    "    if num % 2 == 0:\n",
    "        return True\n",
    "    else:\n",
    "        return False\n",
    "\n",
    "# Use the filter() function to filter even numbers\n",
    "even_numbers = filter(is_even, numbers)\n",
    "\n",
    "# Convert the filtered result to a list (optional)\n",
    "even_numbers_list = list(even_numbers)\n",
    "\n",
    "# Print the filtered even numbers\n",
    "print(even_numbers_list)\n"
   ]
  },
  {
   "cell_type": "markdown",
   "id": "f81d8b99-eb97-47f7-855f-a1e0e50b47ca",
   "metadata": {},
   "source": [
    "### 24. Write a Python program to determine if a given number is prime or not using if-else.\n"
   ]
  },
  {
   "cell_type": "code",
   "execution_count": 27,
   "id": "f36a3cd2-19f6-4348-82bd-0b5a5ff45449",
   "metadata": {},
   "outputs": [
    {
     "name": "stdin",
     "output_type": "stream",
     "text": [
      "Enter a number:  19\n"
     ]
    },
    {
     "name": "stdout",
     "output_type": "stream",
     "text": [
      "19 is a prime number.\n"
     ]
    }
   ],
   "source": [
    "# Get a number from the user\n",
    "num = int(input(\"Enter a number: \"))\n",
    "\n",
    "# Check if the number is less than 2\n",
    "if num < 2:\n",
    "    is_prime = False\n",
    "else:\n",
    "    is_prime = True\n",
    "\n",
    "# Check for divisors from 2 to the number - 1\n",
    "for i in range(2, num):\n",
    "    if num % i == 0:\n",
    "        is_prime = False\n",
    "        break\n",
    "\n",
    "# Determine and print the result using if-else\n",
    "if is_prime:\n",
    "    print(f\"{num} is a prime number.\")\n",
    "else:\n",
    "    print(f\"{num} is not a prime number.\")\n"
   ]
  },
  {
   "cell_type": "markdown",
   "id": "b36e0b39-39b2-4b5a-822a-08c91685ab40",
   "metadata": {},
   "source": [
    "## Map :-"
   ]
  },
  {
   "cell_type": "markdown",
   "id": "8e4f195a-8783-4de8-a1f6-5e313aaf39e2",
   "metadata": {},
   "source": [
    "### 1. Explain the purpose of the `map()` function in Python and provide an example of how it can be used to apply a function to each element of an iterable.\n"
   ]
  },
  {
   "cell_type": "markdown",
   "id": "d7794cc7-ca4c-4f92-a02b-5f71f2408152",
   "metadata": {},
   "source": [
    "* The map() function in Python is used to apply a given function to each item of an iterable (e.g., a list) and returns an iterable with the results. It essentially performs an operation on each element of the iterable and collects the results into a new iterable. The primary purpose of the map() function is to transform data by applying a specified function to each element in a concise and efficient manner.\n",
    "\n",
    "* Here's the basic syntax of the map() function:\n",
    "    \n",
    "       // map(function, iterable)\n",
    "       \n",
    "* function: The function to apply to each element of the iterable.\n",
    "* iterable: The iterable (e.g., a list) containing the elements you want to transform.\n"
   ]
  },
  {
   "cell_type": "code",
   "execution_count": 1,
   "id": "bab1e917-319d-465b-bf9a-472540dabd4d",
   "metadata": {},
   "outputs": [
    {
     "name": "stdout",
     "output_type": "stream",
     "text": [
      "[1, 4, 9, 16, 25]\n"
     ]
    }
   ],
   "source": [
    "#example \n",
    "# Define a function to square a number\n",
    "def square(x):\n",
    "    return x**2\n",
    "\n",
    "# Create a list of numbers\n",
    "numbers = [1, 2, 3, 4, 5]\n",
    "\n",
    "# Use map() to apply the square function to each element in the list\n",
    "squared_numbers = map(square, numbers)\n",
    "\n",
    "# Convert the result to a list (optional)\n",
    "squared_numbers_list = list(squared_numbers)\n",
    "\n",
    "# Print the squared numbers\n",
    "print(squared_numbers_list)\n"
   ]
  },
  {
   "cell_type": "markdown",
   "id": "2cef6259-d86b-40ce-a9b5-af06620bef63",
   "metadata": {},
   "source": [
    "### 2. Write a Python program that uses the `map()` function to square each element of a list of numbers.\n"
   ]
  },
  {
   "cell_type": "code",
   "execution_count": 2,
   "id": "b7cad683-bd17-4e0d-9b8c-35df34057e06",
   "metadata": {},
   "outputs": [
    {
     "data": {
      "text/plain": [
       "[4, 9, 16, 25, 36, 49, 64, 81, 100]"
      ]
     },
     "execution_count": 2,
     "metadata": {},
     "output_type": "execute_result"
    }
   ],
   "source": [
    "#take list of numbers from user\n",
    "list_num = [2,3,4,5,6,7,8,9,10]\n",
    "\n",
    "#create new list for squares\n",
    "square_list = list(map(lambda x : x*x ,list_num))\n",
    "\n",
    "square_list"
   ]
  },
  {
   "cell_type": "markdown",
   "id": "0247358a-3f1a-4e10-8b28-9c284530e87f",
   "metadata": {},
   "source": [
    "### 3. How does the `map()` function differ from a list comprehension in Python, and when would you choose one over the other?\n"
   ]
  },
  {
   "cell_type": "markdown",
   "id": "31c8cd0a-5859-4b55-a2ea-0046117bf12f",
   "metadata": {},
   "source": [
    "* The map() function and list comprehensions in Python are both used for transforming data by applying a function to each element of an iterable (e.g., a list). However, they differ in terms of syntax, use cases, and readability. Here's how they differ, and when you might choose one over the other:\n",
    "\n",
    "1. Syntax:\n",
    "\n",
    "* map():\n",
    "\n",
    "Uses a more traditional functional programming approach and involves defining a function separately.\n",
    "Requires using the map() function explicitly to create a new iterable.\n",
    "Often requires converting the result back to a list or another data type.\n",
    "* List Comprehension:\n",
    "\n",
    "Employs a more concise and expressive syntax that combines the creation of a new iterable and the transformation logic in a single line.\n",
    "Results in a list (or other comprehensible data structure) directly, without the need for additional conversion.\n",
    "\n",
    "2. Use Cases:\n",
    "\n",
    "* map():\n",
    "\n",
    "Useful when you have an existing function that you want to apply to each element of an iterable.\n",
    "Can be applied to multiple iterables of the same length by providing multiple arguments to map().\n",
    "Works well when you want to separate the transformation logic (the function) from the iteration itself.\n",
    "* List Comprehension:\n",
    "\n",
    "Ideal for simple transformations and filtering of elements in an iterable.\n",
    "More readable and Pythonic for straightforward tasks.\n",
    "Can also include conditional expressions (if clauses) to filter elements.\n",
    "3. Readability:\n",
    "\n",
    "* map():\n",
    "\n",
    "Can be less readable in some cases, especially when the transformation function is complex and requires defining a separate function.\n",
    "Might be less intuitive for readers unfamiliar with functional programming concepts.\n",
    "* List Comprehension:\n",
    "\n",
    "Generally considered more readable and concise for simple transformations and filtering.\n",
    "Often preferred by Python developers for its clarity and brevity.\n",
    "When to Choose One Over the Other:\n",
    "\n",
    "* Choose map():\n",
    "\n",
    "When you have a complex or reusable transformation function.\n",
    "When you need to apply the same transformation to multiple iterables of the same length.\n",
    "When you want to follow a more functional programming style.\n",
    "\n",
    "* Choose List Comprehension:\n",
    "\n",
    "For simple and straightforward transformations or filtering.\n",
    "When you want to create a new list directly without additional conversion.\n",
    "When readability and conciseness are important.\n",
    "In practice, both map() and list comprehensions have their merits, and the choice between them often depends on the specific task and the coding style of the project or team. Many Python developers prefer list comprehensions for their simplicity and readability in common scenarios, reserving map() for more specialized use cases where a separate function is beneficial.\n",
    "\n",
    "\n",
    "\n",
    "\n"
   ]
  },
  {
   "cell_type": "markdown",
   "id": "71a87996-1768-4e80-a3b9-e6447511b415",
   "metadata": {},
   "source": [
    "### 4. Create a Python program that uses the `map()` function to convert a list of names to uppercase.\n"
   ]
  },
  {
   "cell_type": "code",
   "execution_count": 3,
   "id": "002f67ff-1797-4f73-964e-f02fa6870042",
   "metadata": {},
   "outputs": [
    {
     "name": "stdout",
     "output_type": "stream",
     "text": [
      "original list  ['aniruddha', 'india', 'america', 'north korea', 'england']\n",
      "new list  ['ANIRUDDHA', 'INDIA', 'AMERICA', 'NORTH KOREA', 'ENGLAND']\n"
     ]
    }
   ],
   "source": [
    "#take list of names from the user\n",
    "list_names = [ \"aniruddha\",\"india\",\"america\",\"north korea\",\"england\"]\n",
    "\n",
    "#create a list for uppercase names\n",
    "upper_list_names = list(map(lambda x : x.upper() , list_names))\n",
    "\n",
    "print(\"original list \",list_names)\n",
    "print(\"new list \" ,upper_list_names)\n",
    "            "
   ]
  },
  {
   "cell_type": "markdown",
   "id": "b3ebcda7-e640-451a-a15b-764575e4fdea",
   "metadata": {},
   "source": [
    "### 5. Write a Python program that uses the `map()` function to calculate the length of each word in a list of strings.\n"
   ]
  },
  {
   "cell_type": "code",
   "execution_count": 18,
   "id": "b8e42668-ab1a-41fc-afff-b6dec2901f8c",
   "metadata": {},
   "outputs": [
    {
     "name": "stdin",
     "output_type": "stream",
     "text": [
      "Enter a sentence:  hi aniruddha\n"
     ]
    },
    {
     "name": "stdout",
     "output_type": "stream",
     "text": [
      "[2, 9]\n"
     ]
    }
   ],
   "source": [
    "# Take a sentence from the user\n",
    "sentence = input(\"Enter a sentence: \")\n",
    "\n",
    "# Split the sentence into words\n",
    "split_list = sentence.split()\n",
    "\n",
    "# Use map() to calculate the length of each word\n",
    "word_lengths = map(len, split_list)\n",
    "\n",
    "# Convert the result to a list (optional)\n",
    "word_lengths_list = list(word_lengths)\n",
    "\n",
    "# Print the lengths of the words\n",
    "print(word_lengths_list)\n"
   ]
  },
  {
   "cell_type": "markdown",
   "id": "ff8933d3-70b8-4da8-a9b1-a88f45486b58",
   "metadata": {},
   "source": [
    "### 6. How can you use the `map()` function to apply a custom function to elements of multiple lists simultaneously in Python?\n"
   ]
  },
  {
   "cell_type": "markdown",
   "id": "aa69e188-1988-4719-9841-53183dc13823",
   "metadata": {},
   "source": [
    "* the map() function in Python to apply a custom function to elements of multiple lists simultaneously by passing the custom function and the multiple lists as arguments to map(). The function should accept as many arguments as there are input lists, and map() will iterate over the lists in parallel, passing corresponding elements to the function. Here's an example:"
   ]
  },
  {
   "cell_type": "code",
   "execution_count": null,
   "id": "ed3f4b41-4f8b-4177-866a-9bf72fdda8fa",
   "metadata": {},
   "outputs": [],
   "source": [
    "# Define two lists of numbers\n",
    "list1 = [1, 2, 3, 4, 5]\n",
    "list2 = [10, 20, 30, 40, 50]\n",
    "\n",
    "# Define a custom function that takes two arguments and returns their sum\n",
    "def add(x, y):\n",
    "    return x + y\n",
    "\n",
    "# Use map() to apply the add function to elements of both lists simultaneously\n",
    "result = map(add, list1, list2)\n",
    "\n",
    "# Convert the result to a list (optional)\n",
    "result_list = list(result)\n",
    "\n",
    "# Print the result\n",
    "print(result_list)\n"
   ]
  },
  {
   "cell_type": "markdown",
   "id": "b84c31e7-d02b-4934-82ba-bf76a996536d",
   "metadata": {},
   "source": [
    "\n",
    "### 7. Create a Python program that uses `map()` to convert a list of temperatures from Celsius to Fahrenheit.\n"
   ]
  },
  {
   "cell_type": "code",
   "execution_count": 27,
   "id": "fdb43e29-d465-491e-a8c7-bbffa51ab945",
   "metadata": {},
   "outputs": [
    {
     "name": "stdout",
     "output_type": "stream",
     "text": [
      "celsius temperatrue list :  [70, 40, 50, 80, 100, 123, 50]\n",
      "farenheit temperatrue list :  [158.0, 104.0, 122.0, 176.0, 212.0, 253.4, 122.0]\n"
     ]
    }
   ],
   "source": [
    "#create temperature list celsius\n",
    "cels_temp = [70,40,50,80,100,123,50]\n",
    "\n",
    "#create farenheit list \n",
    "faren_temp = list(map(lambda x : (x*1.8) + 32,cels_temp))\n",
    "\n",
    "print(\"celsius temperatrue list : \" ,cels_temp)\n",
    "print(\"farenheit temperatrue list : \", faren_temp)"
   ]
  },
  {
   "cell_type": "markdown",
   "id": "ab2e4425-2bc9-489d-a81f-830173ff8ba5",
   "metadata": {},
   "source": [
    "### 8. Write a Python program that uses the `map()` function to round each element of a list of floating-point numbers to the nearest integer.\n"
   ]
  },
  {
   "cell_type": "code",
   "execution_count": 33,
   "id": "67776b82-5fa7-41fd-bd1f-4e9f13478819",
   "metadata": {},
   "outputs": [
    {
     "name": "stdout",
     "output_type": "stream",
     "text": [
      "floating list :  [10.2222, 150.46525, 125.78956, 12.369852, 1235.4628]\n",
      "rounding nearest integer list :  [10, 150, 126, 12, 1235]\n"
     ]
    }
   ],
   "source": [
    "#create list floating numbers\n",
    "float_list = [10.2222,150.46525,125.78956,12.369852,1235.4628]\n",
    "\n",
    "#create round list for map function\n",
    "round_list = list(map(lambda x : round(x) , float_list))\n",
    "print(\"floating list : \" ,float_list)\n",
    "print(\"rounding nearest integer list : \", round_list)"
   ]
  },
  {
   "cell_type": "markdown",
   "id": "55fc5d15-cd00-41aa-84e9-dafa0cf3e33f",
   "metadata": {},
   "source": [
    "## Reduce :-"
   ]
  },
  {
   "cell_type": "markdown",
   "id": "a62b53ae-ba3a-44f7-8f0e-37749543bc41",
   "metadata": {},
   "source": [
    "### 1 What is the `reduce()` function in Python, and what module should you import to use it? Provide an example of its basic usage.\n"
   ]
  },
  {
   "cell_type": "markdown",
   "id": "4cb0ac99-6372-4792-9f93-8da3cdc7a664",
   "metadata": {},
   "source": [
    "* The reduce() function in Python is part of the functools module, and it's used for accumulating the result of applying a binary function (a function that takes two arguments) successively to the elements of an iterable, reducing the iterable to a single cumulative result. The basic usage of reduce() involves applying the binary function cumulatively to the items of the iterable from left to right.\n",
    "\n",
    "* Here's the syntax for reduce():\n",
    "\n",
    "      // functools.reduce(function, iterable[, initializer])\n",
    "\n",
    "* function: The binary function to apply cumulatively to the items of the iterable. This function should take two arguments.\n",
    "* iterable: The iterable (e.g., a list) whose elements will be reduced.\n",
    "* initializer (optional): An optional initial value. If provided, the binary function is first applied to the initializer and the first element of the iterable.\n",
    "* Here's an example of the basic usage of reduce() to find the product of all elements in a list:"
   ]
  },
  {
   "cell_type": "code",
   "execution_count": 34,
   "id": "43102ead-c7fb-42fd-a2a1-36c4be904a78",
   "metadata": {},
   "outputs": [
    {
     "name": "stdout",
     "output_type": "stream",
     "text": [
      "Product: 120\n"
     ]
    },
    {
     "data": {
      "text/plain": [
       "120"
      ]
     },
     "execution_count": 34,
     "metadata": {},
     "output_type": "execute_result"
    }
   ],
   "source": [
    "from functools import reduce\n",
    "\n",
    "# Define a list of numbers\n",
    "numbers = [1, 2, 3, 4, 5]\n",
    "\n",
    "# Define a binary function to calculate the product of two numbers\n",
    "def multiply(x, y):\n",
    "    return x * y\n",
    "\n",
    "# Use reduce() to find the product of all elements in the list\n",
    "product = reduce(multiply, numbers)\n",
    "\n",
    "# Print the product\n",
    "print(\"Product:\", product)\n",
    "\n",
    "\n",
    "### output\n",
    "120"
   ]
  },
  {
   "cell_type": "markdown",
   "id": "895ffdf5-8513-4817-ae14-a5b5a331183f",
   "metadata": {},
   "source": [
    "### 2 Write a Python program that uses the `reduce()` function to find the product of all elements in a list.\n"
   ]
  },
  {
   "cell_type": "code",
   "execution_count": 37,
   "id": "1b1c8858-a9d7-4771-8510-419e581eb138",
   "metadata": {},
   "outputs": [
    {
     "name": "stdout",
     "output_type": "stream",
     "text": [
      "product of all elements :  36288000000000000\n"
     ]
    }
   ],
   "source": [
    "from functools import reduce\n",
    "\n",
    "#take list of numbers\n",
    "list_num1 = [10,20,30,40,50,60,70,80,90,100]\n",
    "\n",
    "#create a varible for reduce function\n",
    "product = reduce(lambda x,y:x*y , list_num1)\n",
    "\n",
    "print(\"product of all elements : \" , product)"
   ]
  },
  {
   "cell_type": "markdown",
   "id": "aa30bffe-5bed-4fe5-8e9a-c190c7977980",
   "metadata": {},
   "source": [
    "### 3 Create a Python program that uses `reduce()` to find the maximum element in a list of numbers.\n"
   ]
  },
  {
   "cell_type": "code",
   "execution_count": 39,
   "id": "30c374e0-a971-41be-b7cc-cb59ad0abebb",
   "metadata": {},
   "outputs": [
    {
     "name": "stdout",
     "output_type": "stream",
     "text": [
      "maximum element is :  60\n"
     ]
    }
   ],
   "source": [
    "#take list of numbers\n",
    "num_list2 = [10,20,30,40,50,60]\n",
    "\n",
    "#create variable for reduce function\n",
    "max_num = reduce(lambda x,y : x if x > y else y , num_list2)\n",
    "\n",
    "print(\"maximum element is : \" , max_num)"
   ]
  },
  {
   "cell_type": "markdown",
   "id": "9b004a72-8042-4e28-bc5b-48af9783ee44",
   "metadata": {},
   "source": [
    "### 4 How can you use the `reduce()` function to concatenate a list of strings into a single string?\n"
   ]
  },
  {
   "cell_type": "code",
   "execution_count": 41,
   "id": "a3bab482-e250-4a88-b7c4-d08546d3057c",
   "metadata": {},
   "outputs": [
    {
     "name": "stdout",
     "output_type": "stream",
     "text": [
      "Concatenated string: Hello, World!\n"
     ]
    }
   ],
   "source": [
    "'''the reduce() function to concatenate a list of strings into a single string by applying abinary function that combines two strings together at each step. \n",
    "Here's how you can do it: '''\n",
    "from functools import reduce\n",
    "\n",
    "# Define a list of strings\n",
    "string_list = [\"Hello\", \", \", \"World\", \"!\"]\n",
    "\n",
    "# Use reduce() to concatenate the strings\n",
    "concatenated_string = reduce(lambda x, y: x + y, string_list)\n",
    "\n",
    "# Print the concatenated string\n",
    "print(\"Concatenated string:\", concatenated_string)\n",
    "\n",
    "\n",
    "\n"
   ]
  },
  {
   "cell_type": "markdown",
   "id": "a2470876-a1dd-4a64-a3aa-bd11cd0861c5",
   "metadata": {},
   "source": [
    "### 5 Write a Python program that calculates the factorial of a number using the `reduce()` function.\n"
   ]
  },
  {
   "cell_type": "code",
   "execution_count": 42,
   "id": "70d72c66-1a0d-4fa5-a2d6-b9f06e9b1965",
   "metadata": {},
   "outputs": [
    {
     "name": "stdin",
     "output_type": "stream",
     "text": [
      "Enter a number:  5\n"
     ]
    },
    {
     "name": "stdout",
     "output_type": "stream",
     "text": [
      "The factorial of 5 is 120\n"
     ]
    }
   ],
   "source": [
    "from functools import reduce\n",
    "\n",
    "# Define a function to calculate the factorial of a number\n",
    "def factorial(n):\n",
    "    if n == 0:\n",
    "        return 1\n",
    "    else:\n",
    "        return reduce(lambda x, y: x * y, range(1, n + 1))\n",
    "\n",
    "# Input: Get a number from the user\n",
    "n = int(input(\"Enter a number: \"))\n",
    "\n",
    "# Calculate the factorial using the factorial function\n",
    "result = factorial(n)\n",
    "\n",
    "# Print the factorial\n",
    "print(f\"The factorial of {n} is {result}\")\n"
   ]
  },
  {
   "cell_type": "markdown",
   "id": "059f6af8-9567-49ef-a049-0cbfa498e656",
   "metadata": {},
   "source": [
    "\n",
    "### 6 Create a Python program that uses `reduce()` to find the GCD (Greatest Common Divisor) of a list of numbers.\n"
   ]
  },
  {
   "cell_type": "code",
   "execution_count": null,
   "id": "01b8b8bd-cd1d-4262-9523-a1d9e0c3f9b1",
   "metadata": {},
   "outputs": [],
   "source": [
    "from functools import reduce\n",
    "\n",
    "# Define a function to calculate the GCD of two numbers\n",
    "def gcd(x, y):\n",
    "    while y != 0:\n",
    "        x, y = y, x % y\n",
    "    return x\n",
    "\n",
    "# Define a list of numbers\n",
    "number_list = [12, 18, 24, 36]\n",
    "\n",
    "# Use reduce() and the custom gcd() function to find the GCD of the list\n",
    "gcd_result = reduce(gcd, number_list)\n",
    "\n",
    "# Print the GCD\n",
    "print(\"GCD of the list:\", gcd_result)\n"
   ]
  },
  {
   "cell_type": "markdown",
   "id": "f6be0aa4-3701-4eac-8c2d-6bddd3c2ceae",
   "metadata": {},
   "source": [
    "### 7 Write a Python program that uses the `reduce()` function to find the sum of the digits of a given number.\n"
   ]
  },
  {
   "cell_type": "code",
   "execution_count": 44,
   "id": "1ac2168c-de50-4f54-b945-ffd313e24493",
   "metadata": {},
   "outputs": [
    {
     "name": "stdin",
     "output_type": "stream",
     "text": [
      "Enter a number:  123456789\n"
     ]
    },
    {
     "name": "stdout",
     "output_type": "stream",
     "text": [
      "Sum of the digits: 45\n"
     ]
    }
   ],
   "source": [
    "from functools import reduce\n",
    "\n",
    "# Define a function to calculate the sum of two digits\n",
    "def sum_digits(x, y):\n",
    "    return x + y\n",
    "\n",
    "# Input: Get a number from the user\n",
    "number = int(input(\"Enter a number: \"))\n",
    "\n",
    "# Convert the number to a list of its digits as integers\n",
    "digits = [int(digit) for digit in str(number)]\n",
    "\n",
    "# Use reduce() to calculate the sum of the digits\n",
    "sum_of_digits = reduce(sum_digits, digits)\n",
    "\n",
    "# Print the sum of the digits\n",
    "print(\"Sum of the digits:\", sum_of_digits)\n"
   ]
  },
  {
   "cell_type": "markdown",
   "id": "657b4e5e-84fe-443e-a0ed-03596b3ccdb0",
   "metadata": {},
   "source": [
    "## Filter :-"
   ]
  },
  {
   "cell_type": "markdown",
   "id": "628a47f0-0193-4b4e-9c0e-114e7520bca4",
   "metadata": {},
   "source": [
    "### 1. Explain the purpose of the `filter()` function in Python and provide an example of how it can be used to filter elements from an iterable.\n"
   ]
  },
  {
   "cell_type": "markdown",
   "id": "91b1eeb3-cc93-4363-9c63-62807a7b37a9",
   "metadata": {},
   "source": [
    "* The filter() function in Python is used to filter elements from an iterable (e.g., a list, tuple, or other iterable) based on a specified condition or predicate function.\n",
    "* It creates a new iterable containing only the elements for which the condition is True. The filter() function takes two arguments: the predicate function and the iterable to be filtered.\n",
    "\n",
    "* Here's the syntax of the filter() function:\n",
    "      \n",
    "       /// filter(function, iterable)\n",
    "\n",
    "* function: A function that defines the condition for filtering. It should return True for elements that should be included in the filtered result.\n",
    "* iterable: The iterable (e.g., a list or tuple) from which elements will be filtered.\n",
    "* Here's an example of how the filter() function can be used to filter even numbers from a list:"
   ]
  },
  {
   "cell_type": "code",
   "execution_count": 49,
   "id": "d417cf21-605e-4b14-b43d-dd976d030712",
   "metadata": {},
   "outputs": [
    {
     "name": "stdout",
     "output_type": "stream",
     "text": [
      "Even numbers: [2, 4, 6, 8, 10]\n"
     ]
    }
   ],
   "source": [
    "# Define a list of numbers\n",
    "numbers = [1, 2, 3, 4, 5, 6, 7, 8, 9, 10]\n",
    "\n",
    "# Define a predicate function to check if a number is even\n",
    "def is_even(number):\n",
    "    return number % 2 == 0\n",
    "\n",
    "# Use filter() to filter even numbers from the list\n",
    "even_numbers = list(filter(is_even, numbers))\n",
    "\n",
    "# Print the filtered result\n",
    "print(\"Even numbers:\", even_numbers)\n"
   ]
  },
  {
   "cell_type": "markdown",
   "id": "3139e6d5-c486-409e-a256-c49f053dfae9",
   "metadata": {},
   "source": [
    "### 2. Write a Python program that uses the `filter()` function to select even numbers from a list of integers.\n"
   ]
  },
  {
   "cell_type": "code",
   "execution_count": 50,
   "id": "818dde98-c96b-4f4a-a14c-df3300bafdb4",
   "metadata": {},
   "outputs": [
    {
     "data": {
      "text/plain": [
       "[10, 20, 42, 30, 40, 50]"
      ]
     },
     "execution_count": 50,
     "metadata": {},
     "output_type": "execute_result"
    }
   ],
   "source": [
    "#take list of inmteger numbers\n",
    "list_num3 = [10,20,85,99,77,42,13,79,30,40,50]\n",
    "\n",
    "# Use filter() to filter even numbers from the list\n",
    "even_list = list(filter(lambda x : x%2==0 , list_num3))\n",
    "even_list"
   ]
  },
  {
   "cell_type": "markdown",
   "id": "3a2b9a78-b72c-4bb4-a0cd-9adb1fde98f6",
   "metadata": {},
   "source": [
    "### 3. Create a Python program that uses the `filter()` function to select names that start with a specific letter from a list of strings.\n"
   ]
  },
  {
   "cell_type": "code",
   "execution_count": 54,
   "id": "6abe916d-8bc8-48cb-abd0-9838c63016d6",
   "metadata": {},
   "outputs": [
    {
     "name": "stdin",
     "output_type": "stream",
     "text": [
      "enter letter to startwith  n\n"
     ]
    },
    {
     "name": "stdout",
     "output_type": "stream",
     "text": [
      "['north korea']\n"
     ]
    }
   ],
   "source": [
    "#take list of names\n",
    "name = [\"aniruddha\",\"america\",\"david\",\"james\",\"north korea\"]\n",
    "\n",
    "#take letter to startwith from user\n",
    "letter = input(\"enter letter to startwith \").lower()\n",
    "\n",
    "#use filter() to filter names\n",
    "filtered_names = list(filter(lambda x : x.startswith(letter) , name))\n",
    "\n",
    "print(filtered_names)"
   ]
  },
  {
   "cell_type": "markdown",
   "id": "c2c650f1-993c-44c8-b152-ca116c86b0c9",
   "metadata": {},
   "source": [
    "### 4. Write a Python program that uses the `filter()` function to select prime numbers from a list of integers.\n",
    "\n"
   ]
  },
  {
   "cell_type": "code",
   "execution_count": 56,
   "id": "d0bff24f-e8f7-4dac-aa2d-0a1d60ddcb7f",
   "metadata": {},
   "outputs": [
    {
     "data": {
      "text/plain": [
       "[1, 145, 23, 17, 79, 89, 23]"
      ]
     },
     "execution_count": 56,
     "metadata": {},
     "output_type": "execute_result"
    }
   ],
   "source": [
    "#take list of integers\n",
    "list_int = [1,2,20,145,12,23,17,79,89,69,23]\n",
    "\n",
    "def is_prime(num):\n",
    "    if num >0 :\n",
    "        if num % 2 !=0 and num%3 !=0 :\n",
    "            return num\n",
    "        else:\n",
    "            return False\n",
    "    else :\n",
    "        return \"invalid \"\n",
    "    \n",
    "\n",
    "#use filter() to filter out prime numbers\n",
    "prime_num = list(filter(is_prime , list_int))\n",
    "prime_num"
   ]
  },
  {
   "cell_type": "markdown",
   "id": "7caeb74f-4cea-41d5-bf99-34e19510c0a5",
   "metadata": {},
   "source": [
    "### 5. How can you use the `filter()` function to remove None values from a list in Python?\n"
   ]
  },
  {
   "cell_type": "code",
   "execution_count": 57,
   "id": "b8521c27-7c92-43c1-88cc-253de5bf1dbf",
   "metadata": {},
   "outputs": [
    {
     "name": "stdout",
     "output_type": "stream",
     "text": [
      "Filtered values: [1, 2, 3, 4, 5]\n"
     ]
    }
   ],
   "source": [
    "'''  the filter() function to remove None values from a list in Python by providing a predicate function that filters out the None values.'''\n",
    "# Define a list with None values\n",
    "values = [1, None, 2, None, 3, 4, None, 5]\n",
    "\n",
    "# Use filter() to remove None values\n",
    "filtered_values = list(filter(lambda x: x is not None, values))\n",
    "\n",
    "# Print the filtered values\n",
    "print(\"Filtered values:\", filtered_values)\n"
   ]
  },
  {
   "cell_type": "markdown",
   "id": "5387430d-6805-4613-a0a1-ba8de62be85f",
   "metadata": {},
   "source": [
    "### 6. Create a Python program that uses `filter()` to select words longer than a certain length from a list of strings."
   ]
  },
  {
   "cell_type": "code",
   "execution_count": 60,
   "id": "aa131fdf-d6c5-4bbb-81f9-800bf782d505",
   "metadata": {},
   "outputs": [
    {
     "name": "stdin",
     "output_type": "stream",
     "text": [
      "enter limit value for the word 6\n"
     ]
    },
    {
     "name": "stdout",
     "output_type": "stream",
     "text": [
      "['aniruddha', 'north korea', 'america', 'laptop']\n"
     ]
    }
   ],
   "source": [
    "#take list of strings\n",
    "list_string = [\"aniruddha\",\"apple\",\"india\",\"north korea\",\"america\",\"laptop\"]\n",
    "\n",
    "#get limit value from the user\n",
    "limit = int(input(\"enter limit value for the word\"))\n",
    "\n",
    "#use filter(0 to filter out the names\n",
    "limited_string_name = list(filter(lambda x : len(x) >= limit , list_string))\n",
    "print(limited_string_name)"
   ]
  },
  {
   "cell_type": "markdown",
   "id": "03bf41e8-90cb-471c-a1f6-fdc44c3cf256",
   "metadata": {},
   "source": [
    "### 7. Write a Python program that uses the `filter()` function to select elements greater than a specified threshold from a list of values."
   ]
  },
  {
   "cell_type": "code",
   "execution_count": 61,
   "id": "cda47308-1097-4208-921c-77ed7269b67f",
   "metadata": {},
   "outputs": [
    {
     "name": "stdout",
     "output_type": "stream",
     "text": [
      "Values greater than 50: [60, 70, 80, 90, 100]\n"
     ]
    }
   ],
   "source": [
    "# Define a list of values\n",
    "values = [10, 20, 30, 40, 50, 60, 70, 80, 90, 100]\n",
    "\n",
    "# Define the threshold value\n",
    "threshold = 50\n",
    "\n",
    "# Use filter() to select elements greater than the threshold\n",
    "selected_values = list(filter(lambda x: x > threshold, values))\n",
    "\n",
    "# Print the selected values\n",
    "print(f\"Values greater than {threshold}: {selected_values}\")\n"
   ]
  },
  {
   "cell_type": "markdown",
   "id": "ca7fe6b4-2b86-4172-aeee-f572e8dbe9d8",
   "metadata": {},
   "source": [
    "## Recursion:-\n",
    "\n"
   ]
  },
  {
   "cell_type": "markdown",
   "id": "eb56ca2b-c86f-428a-a9eb-62fbcb6f3448",
   "metadata": {},
   "source": [
    "### 1. Explain the concept  recursion in Python. How does it differ from iteration?\n"
   ]
  },
  {
   "cell_type": "markdown",
   "id": "44303a37-09f4-4bdd-a51b-e071c0d63746",
   "metadata": {},
   "source": [
    "Recursion is a programming concept where a function calls itself in order to solve a problem. In Python, a recursive function is a function that includes a call to itself within its own definition. Recursion is a powerful technique used to solve problems that can be broken down into smaller, similar subproblems.\n",
    "\n",
    "Here are some key points about recursion and how it differs from iteration:\n",
    "\n",
    "1. **Recursion vs. Iteration:**\n",
    "   - **Recursion:** Recursion is a process where a function calls itself as a subfunction to solve a problem. It involves solving a problem by breaking it down into smaller instances of the same problem.\n",
    "   - **Iteration:** Iteration is a process of repeatedly executing a block of code in a loop until a certain condition is met. It involves solving a problem by repeatedly performing a set of instructions.\n",
    "\n",
    "2. **Termination Condition:**\n",
    "   - **Recursion:** Recursive functions must have a termination condition (also known as a base case or exit condition) to stop the recursion. Without a termination condition, the recursion would continue indefinitely, leading to a stack overflow.\n",
    "   - **Iteration:** Iteration relies on loop conditions (e.g., `while` or `for` loop conditions) to control the repetition and termination of the loop.\n",
    "\n",
    "3. **Memory Usage:**\n",
    "   - **Recursion:** Recursive function calls are stored on the call stack, and each recursive call consumes memory. If the recursion depth is too deep, it can lead to a stack overflow error.\n",
    "   - **Iteration:** Iteration typically uses a constant amount of memory, as it doesn't involve creating new stack frames for function calls.\n",
    "\n",
    "4. **Readability:**\n",
    "   - **Recursion:** Recursive solutions can sometimes be more elegant and concise for certain problems, making the code easier to understand.\n",
    "   - **Iteration:** Iterative solutions can be more straightforward and easier to follow for some problems, especially when there's a direct mapping to loop structures.\n",
    "\n",
    "5. **Examples:**\n",
    "   - **Recursion Example:** Calculating factorials, solving problems like the Fibonacci sequence, traversing binary trees, and solving certain divide-and-conquer problems.\n",
    "   - **Iteration Example:** Summing a list of numbers, searching for an element in a list, and iterating through elements in a sequence.\n",
    "\n",
    "In summary, recursion and iteration are two different techniques for solving problems in programming. While recursion can lead to elegant solutions for some problems, it should be used judiciously, with a clear termination condition, to avoid stack overflow errors. Iteration is often used when a straightforward loop structure can solve a problem efficiently. The choice between recursion and iteration depends on the problem and programming style."
   ]
  },
  {
   "cell_type": "markdown",
   "id": "1a9dbb91-0b45-4f5b-a551-b559f2216687",
   "metadata": {},
   "source": [
    "### 2. Write a Python program to calculate the factorial of a number using recursion.\n"
   ]
  },
  {
   "cell_type": "code",
   "execution_count": 1,
   "id": "8cd9c4cc-58f9-4118-99ed-f70b8beaa92d",
   "metadata": {},
   "outputs": [
    {
     "data": {
      "text/plain": [
       "120"
      ]
     },
     "execution_count": 1,
     "metadata": {},
     "output_type": "execute_result"
    }
   ],
   "source": [
    "#create a function\n",
    "def Fun_Fact(n):\n",
    "    if n==0 or n ==1:\n",
    "        return 1\n",
    "    else:\n",
    "        return n*Fun_Fact(n-1)\n",
    "    \n",
    "Fun_Fact(5)"
   ]
  },
  {
   "cell_type": "markdown",
   "id": "c55b392a-d196-46df-8b08-a265ef5814de",
   "metadata": {},
   "source": [
    "### 3. Create a recursive Python function to find the nth Fibonacci number.\n"
   ]
  },
  {
   "cell_type": "code",
   "execution_count": 2,
   "id": "e5701d8e-e136-4a94-8ead-e275577bb0c3",
   "metadata": {},
   "outputs": [
    {
     "name": "stdout",
     "output_type": "stream",
     "text": [
      "The 10-th Fibonacci number is: 55\n"
     ]
    }
   ],
   "source": [
    "def Fibo_Fun(n):\n",
    "    if n <= 0:\n",
    "        return 0\n",
    "    elif n == 1:\n",
    "        return 1\n",
    "    else:\n",
    "        return Fibo_Fun(n - 1) + Fibo_Fun(n - 2)\n",
    "Fibo_Fun\n",
    "n = 10  # Change this to the desired Fibonacci number you want to calculate\n",
    "result = Fibo_Fun(n)\n",
    "print(f\"The {n}-th Fibonacci number is: {result}\")\n"
   ]
  },
  {
   "cell_type": "markdown",
   "id": "c797af8c-913b-4b01-90c8-1fc4da8cfef0",
   "metadata": {},
   "source": [
    "### 4. Write a recursive Python function to calculate the sum of all elements in a list.\n"
   ]
  },
  {
   "cell_type": "code",
   "execution_count": 5,
   "id": "36906e55-192e-4731-82f8-9879f14470f9",
   "metadata": {},
   "outputs": [
    {
     "name": "stdout",
     "output_type": "stream",
     "text": [
      "The sum of elements in the list is: 150\n"
     ]
    }
   ],
   "source": [
    "def Sum_Fun(l):\n",
    "    if len(l) == 1:\n",
    "        return l[0]\n",
    "    else:\n",
    "        # Pass the remaining part of the list to the recursive call\n",
    "        return l[0] + Sum_Fun(l[1:])  \n",
    "    \n",
    "\n",
    "print(f\"The sum of elements in the list is: {Sum_Fun([10,20,30,40,50])}\")"
   ]
  },
  {
   "cell_type": "markdown",
   "id": "5f221b0f-52ca-4771-b3ef-0ba57b197986",
   "metadata": {},
   "source": [
    "### 5. How can you prevent a recursive function from running indefinitely, causing a stack overflow error?\n"
   ]
  },
  {
   "cell_type": "markdown",
   "id": "7e08bfc7-80f6-4834-be63-877e9a7bec24",
   "metadata": {},
   "source": [
    "Preventing a recursive function from running indefinitely and causing a stack overflow error is crucial. You can do this by ensuring that your recursive function has a well-defined termination condition or base case. Here are some key practices to prevent infinite recursion:\n",
    "\n",
    "1. **Define a Base Case:** A base case is a condition under which the recursive function stops calling itself and returns a result. Ensure that your recursive function has a clear and reachable base case.\n",
    "\n",
    "2. **Ensure Progress Toward Base Case:** In each recursive call, make progress toward reaching the base case. This typically involves reducing the problem size or moving closer to the base case condition.\n",
    "\n",
    "3. **Check for Valid Inputs:** Validate inputs and handle invalid or unexpected inputs gracefully. Ensure that your recursive function can handle edge cases without going into infinite recursion.\n",
    "\n",
    "4. **Test and Debug:** Test your recursive function with various inputs to verify that it terminates correctly. Debug any issues that may lead to infinite recursion.\n",
    "\n",
    "5. **Use Helper Functions:** In some cases, you may use a helper function to perform recursion within the main function. This can help encapsulate the recursion logic and make it easier to control.\n",
    "\n",
    "Here's an example of a recursive function to calculate the factorial of a number with a well-defined base case:\n",
    "\n",
    "```python\n",
    "def factorial(n):\n",
    "    if n == 0:  # Base case: Factorial of 0 is 1\n",
    "        return 1\n",
    "    else:\n",
    "        return n * factorial(n - 1)  # Progress toward base case (n-1)\n",
    "```\n",
    "\n",
    "In this example, the base case is when `n` becomes 0, and the function returns 1. The recursive calls decrease `n` by 1 with each step, ensuring that it moves toward the base case.\n",
    "\n",
    "By following these practices and ensuring that your recursive function has a clear termination condition, you can prevent it from running indefinitely and causing a stack overflow error."
   ]
  },
  {
   "cell_type": "markdown",
   "id": "8799f972-e2d5-45ae-aa24-09fb220233c7",
   "metadata": {},
   "source": [
    "### 6. Create a recursive Python function to find the greatest common divisor (GCD) of two numbers using the Euclidean algorithm.\n"
   ]
  },
  {
   "cell_type": "code",
   "execution_count": 7,
   "id": "2b70609e-32d7-4a32-8d63-e573e93da14a",
   "metadata": {},
   "outputs": [
    {
     "name": "stdout",
     "output_type": "stream",
     "text": [
      "The GCD of 48 and 18 is: 6\n"
     ]
    }
   ],
   "source": [
    "def gcd(a, b):\n",
    "    if b == 0:\n",
    "        return a\n",
    "    else:\n",
    "        return gcd(b, a % b)\n",
    "    \n",
    "    \n",
    "num1 = 48\n",
    "num2 = 18\n",
    "result = gcd(num1, num2)\n",
    "print(f\"The GCD of {num1} and {num2} is: {result}\")\n",
    "\n",
    "\n"
   ]
  },
  {
   "cell_type": "markdown",
   "id": "ad42b05a-9839-43fa-b6f3-c400525e94ce",
   "metadata": {},
   "source": [
    "### 7. Write a recursive Python function to reverse a string.\n"
   ]
  },
  {
   "cell_type": "code",
   "execution_count": 12,
   "id": "a8f58954-25e2-4ad8-bfe3-9a9a3cdc2b6c",
   "metadata": {},
   "outputs": [
    {
     "name": "stdout",
     "output_type": "stream",
     "text": [
      "Original string: Hello, World!\n",
      "Reversed string: !dlroW ,olleH\n"
     ]
    }
   ],
   "source": [
    "def Fun_Reverse_Str(string):\n",
    "    # Base case: If the string is empty or has only one character, return it as is\n",
    "    if len(string) <= 1:\n",
    "        return string\n",
    "    else:\n",
    "        # Recursive step: Reverse the substring excluding the first character,\n",
    "        # and concatenate it with the first character\n",
    "        return Fun_Reverse_Str(string[1:]) + string[0]\n",
    "\n",
    "#calling function\n",
    "input_string = \"Hello, World!\"\n",
    "Fun_Reverse_Str = Fun_Reverse_Str(input_string)\n",
    "print(\"Original string:\", input_string)\n",
    "print(\"Reversed string:\", Fun_Reverse_Str)\n"
   ]
  },
  {
   "cell_type": "markdown",
   "id": "fe16dad6-6557-40c6-97f7-20de39a7d4c6",
   "metadata": {},
   "source": [
    "### 8. Create a recursive Python function to calculate the power of a number (x^n).\n"
   ]
  },
  {
   "cell_type": "code",
   "execution_count": 17,
   "id": "bef327b7-37ca-4ef9-b158-cd48e97fbd5e",
   "metadata": {},
   "outputs": [
    {
     "name": "stdout",
     "output_type": "stream",
     "text": [
      "2^3 = 8\n"
     ]
    }
   ],
   "source": [
    "def Fun_Power(x, n):\n",
    "    # Base case: When n is 0, any number raised to the power of 0 is 1\n",
    "    if n == 0:\n",
    "        return 1\n",
    "    # Recursive case: When n is positive, calculate the power recursively\n",
    "    elif n > 0:\n",
    "        return x * Fun_Power(x, n - 1)\n",
    "    # Handle negative exponent by taking the reciprocal\n",
    "    elif n < 0:\n",
    "        return 1 / (x * Fun_Power(x, -n - 1))\n",
    "\n",
    "number = 2\n",
    "power = 3\n",
    "result = Fun_Power(number, power)\n",
    "print(f\"{number}^{power} =\", result)\n"
   ]
  },
  {
   "cell_type": "markdown",
   "id": "0a818249-beed-41d0-8747-e42d4e9ba225",
   "metadata": {},
   "source": [
    "### 9. Write a recursive Python function to find all permutations of a given string.\n"
   ]
  },
  {
   "cell_type": "code",
   "execution_count": 21,
   "id": "229431de-6647-41b6-88c9-0037420e2d3a",
   "metadata": {},
   "outputs": [
    {
     "name": "stdout",
     "output_type": "stream",
     "text": [
      "Permutations of abc are: ['abc', 'acb', 'bac', 'bca', 'cab', 'cba']\n"
     ]
    }
   ],
   "source": [
    "def Fun_Permutations(s):\n",
    "    # Base case: If the string has only one character, return it as a single-element list\n",
    "    if len(s) == 1:\n",
    "        return [s]\n",
    "\n",
    "    # Initialize the list to store permutations\n",
    "    permutations = []\n",
    "\n",
    "    # Iterate through each character in the string\n",
    "    for i, char in enumerate(s):\n",
    "        # Remove the current character from the string\n",
    "        remaining_chars = s[:i] + s[i+1:]\n",
    "\n",
    "        # Recursively find permutations of the remaining characters\n",
    "        sub_permutations = get_permutations(remaining_chars)\n",
    "\n",
    "        # Prepend the current character to each permutation of the remaining characters\n",
    "        for sub_permutation in sub_permutations:\n",
    "            permutations.append(char + sub_permutation)\n",
    "\n",
    "    return permutations\n",
    "\n",
    "\n",
    "input_string = \"abc\"\n",
    "permutations = get_permutations(input_string)\n",
    "print(\"Permutations of\", input_string, \"are:\", permutations)\n"
   ]
  },
  {
   "cell_type": "markdown",
   "id": "696cb3fd-0630-4b0a-aa88-754cb322f2e2",
   "metadata": {},
   "source": [
    "### 10. Write a recursive Python function to check if a string is a palindrome.\n",
    "\n"
   ]
  },
  {
   "cell_type": "code",
   "execution_count": 20,
   "id": "a9ca85f5-b54b-4b40-bd41-bd5ba98672c7",
   "metadata": {},
   "outputs": [
    {
     "name": "stdout",
     "output_type": "stream",
     "text": [
      "Is 'racecar' a palindrome? True\n"
     ]
    }
   ],
   "source": [
    "def Fun_Palindrome(string):\n",
    "    # Base case 1: An empty string is a palindrome\n",
    "    if len(string) == 0:\n",
    "        return True\n",
    "\n",
    "    # Base case 2: A single-character string is a palindrome\n",
    "    elif len(string) == 1:\n",
    "        return True\n",
    "\n",
    "    # Recursive step: Check if the first and last characters are the same\n",
    "    elif string[0] == string[-1]:\n",
    "        # Recursively check the substring without the first and last characters\n",
    "        return Fun_Palindrome(string[1:-1])\n",
    "\n",
    "    else:\n",
    "        return False\n",
    "\n",
    "input_string = \"racecar\"\n",
    "result = Fun_Palindrome(input_string)\n",
    "print(f\"Is '{input_string}' a palindrome? {result}\")\n"
   ]
  },
  {
   "cell_type": "markdown",
   "id": "a28804b3-1332-4681-9f3b-1be03c353d58",
   "metadata": {},
   "source": [
    "### 11. Create a recursive Python function to generate all possible combinations of a list of elements.\n"
   ]
  },
  {
   "cell_type": "code",
   "execution_count": 22,
   "id": "d565def1-be28-4b7b-84c9-168805d4de2a",
   "metadata": {},
   "outputs": [
    {
     "name": "stdout",
     "output_type": "stream",
     "text": [
      "Combinations of [1, 2, 3] are: [[3], [1, 3], [2, 3], [1, 2, 3]]\n"
     ]
    }
   ],
   "source": [
    "def Fun_Combinatins(lst):\n",
    "    if len(lst) == 0:\n",
    "        return [[]]  # Return an empty list as a base case\n",
    "\n",
    "    if len(lst) == 1:\n",
    "        return [lst]  # Return the single element as a base case\n",
    "\n",
    "    # Initialize the list to store combinations\n",
    "    combinations = []\n",
    "\n",
    "    # Include the first element in combinations\n",
    "    first_element = lst[0]\n",
    "\n",
    "    # Recursively find combinations without the first element\n",
    "    remaining_combinations = Fun_Combinatins(lst[1:])\n",
    "\n",
    "    # For each combination without the first element, include it both with and without the first element\n",
    "    for combination in remaining_combinations:\n",
    "        combinations.append(combination)  # Exclude the first element\n",
    "        combinations.append([first_element] + combination)  # Include the first element\n",
    "\n",
    "    return combinations\n",
    "\n",
    "\n",
    "input_list = [1, 2, 3]\n",
    "combinations = Fun_Combinatins(input_list)\n",
    "print(\"Combinations of\", input_list, \"are:\", combinations)\n"
   ]
  },
  {
   "cell_type": "markdown",
   "id": "f7dc002a-1832-4263-8469-14e77bf0bf74",
   "metadata": {},
   "source": [
    "## Basics of Functions:\n"
   ]
  },
  {
   "cell_type": "markdown",
   "id": "510c53f6-13e7-4267-a86f-5ea81f377b44",
   "metadata": {},
   "source": [
    "### 1. What is a function in Python, and why is it used?\n"
   ]
  },
  {
   "cell_type": "markdown",
   "id": "8762d620-ab99-4b03-8ae0-96f6d25f4443",
   "metadata": {},
   "source": [
    "In Python, a function is a reusable block of code that performs a specific task or set of tasks. Functions are used to:\n",
    "\n",
    "1. **Modularize Code:** Functions allow you to break down a program into smaller, more manageable pieces. Each function can handle a specific part of the program's functionality. This modular approach makes code more organized, easier to read, and maintainable.\n",
    "\n",
    "2. **Reusability:** Once you define a function, you can reuse it multiple times throughout your program. This avoids duplicating code and promotes code reusability, which can save time and effort.\n",
    "\n",
    "3. **Abstraction:** Functions provide a level of abstraction. When you call a function, you don't need to know the details of how it works internally. You only need to understand its inputs (parameters) and outputs (return values).\n",
    "\n",
    "4. **Parameterization:** Functions can accept input parameters, allowing you to customize their behavior for different situations. This parameterization makes functions versatile and adaptable.\n",
    "\n",
    "5. **Encapsulation:** Functions can encapsulate complex logic, data structures, or algorithms. This encapsulation hides the internal complexity, making the code more comprehensible.\n",
    "\n",
    "6. **Testing and Debugging:** Functions make it easier to test and debug code. You can isolate and focus on specific functions during testing and identify issues more quickly.\n",
    "\n",
    "7. **Organization:** Functions help organize code into logical units based on functionality. This organization improves code readability and maintainability.\n",
    "\n",
    "Here's a basic example of a Python function:\n",
    "\n",
    "```python\n",
    "def greet(name):\n",
    "    \"\"\"This function greets the person passed in as a parameter.\"\"\"\n",
    "    print(f\"Hello, {name}!\")\n",
    "\n",
    "# Calling the function\n",
    "greet(\"Alice\")\n",
    "```\n",
    "\n",
    "In above example, `greet` is a function that takes a `name` parameter and prints a greeting message. Functions, like `greet`, can be defined and reused throughout your Python programs, making your code more structured and efficient."
   ]
  },
  {
   "cell_type": "markdown",
   "id": "d65ad9a0-9500-41eb-84cf-102e685bbf64",
   "metadata": {},
   "source": [
    "### 2. How do you define a function in Python? Provide an example.\n"
   ]
  },
  {
   "cell_type": "markdown",
   "id": "76c123cf-e2cc-429d-ab86-7a68fd000f14",
   "metadata": {},
   "source": [
    "In Python, you can define a function using the `def` keyword, followed by the function name, a set of parentheses for parameters (if any), and a colon. The function's body is indented, and you can add code to define the function's behavior.\n",
    "\n",
    "Here's the general syntax of defining a function:\n",
    "\n",
    "```python\n",
    "def function_name(parameters):\n",
    "    \"\"\"Docstring (optional): Function description.\"\"\"\n",
    "    # Function body\n",
    "    # Code that defines what the function does\n",
    "    return result  # (optional) Return statement\n",
    "```\n",
    "\n",
    "Let's look at an example of defining and using a simple function:\n",
    "\n",
    "```python\n",
    "def greet(name):\n",
    "    \"\"\"This function greets the person passed in as a parameter.\"\"\"\n",
    "    print(f\"Hello, {name}!\")\n",
    "\n",
    "# Calling the function\n",
    "greet(\"Alice\")\n",
    "```\n",
    "\n",
    "In above example:\n",
    "\n",
    "- We define a function named `greet` that takes one parameter, `name`.\n",
    "\n",
    "- The docstring (a string enclosed in triple quotes) provides a brief description of what the function does. While it's optional, it's good practice to include docstrings to document your functions.\n",
    "\n",
    "- Inside the function body, we use the `print` statement to display a greeting message with the provided `name`.\n",
    "\n",
    "- We call the `greet` function with the argument `\"Alice\"` to greet a person named Alice.\n",
    "\n",
    "When you run this code, it will print \"Hello, Alice!\" to the console, demonstrating the use of the defined function.\n",
    "\n",
    "You can define functions with multiple parameters, and they can perform more complex tasks beyond simple print statements. Functions can also have return statements to return values to the caller."
   ]
  },
  {
   "cell_type": "markdown",
   "id": "e43e6bc3-4b28-43e5-89ec-ae4f28a02922",
   "metadata": {},
   "source": [
    "### 3. Explain the difference between a function definition and a function call.\n"
   ]
  },
  {
   "cell_type": "markdown",
   "id": "bd779745-a58f-44e8-875c-951546b2de27",
   "metadata": {},
   "source": [
    "In Python, there are two main concepts related to functions: function definitions and function calls. Here's an explanation of the difference between them:\n",
    "\n",
    "1. **Function Definition:**\n",
    "   - A function definition is the part of your code where you define what a function does and how it behaves. It outlines the function's name, parameters, and the code that gets executed when the function is called.\n",
    "   - When you define a function, you use the `def` keyword, followed by the function name, parameter list (if any), a colon, and the function body.\n",
    "   - The function definition does not execute the code inside the function. It merely specifies the behavior of the function when it's called.\n",
    "   - A function can be defined once in your code and reused multiple times by calling it from various parts of your program.\n",
    "\n",
    "   Example of a function definition:\n",
    "   ```python\n",
    "   def greet(name):\n",
    "       \"\"\"This function greets the person passed in as a parameter.\"\"\"\n",
    "       print(f\"Hello, {name}!\")\n",
    "   ```\n",
    "\n",
    "2. **Function Call:**\n",
    "   - A function call is the action of invoking or executing a function that has been previously defined. It triggers the execution of the code inside the function's body.\n",
    "   - To call a function, you use the function's name followed by parentheses. If the function expects any arguments (parameters), you pass them inside the parentheses.\n",
    "   - The code inside the function executes in the order defined when the function is called.\n",
    "   - A function call can return a value (if the function has a `return` statement) or perform some action, depending on its purpose.\n",
    "\n",
    "   Example of a function call:\n",
    "   ```python\n",
    "   greet(\"Alice\")\n",
    "   ```\n",
    "\n",
    "the function definition defines what a function does and how it behaves when called, while the function call is the actual execution of the function, where the code inside the function definition is run with specific arguments provided during the call. Function definitions allow you to encapsulate reusable code, while function calls make use of that code at different points in your program."
   ]
  },
  {
   "cell_type": "markdown",
   "id": "f6a3029b-4d0f-4afa-991f-f83335485eeb",
   "metadata": {},
   "source": [
    "### 4. Write a Python program that defines a function to calculate the sum of two numbers and then calls the function.\n"
   ]
  },
  {
   "cell_type": "code",
   "execution_count": 25,
   "id": "e0623ba6-058d-4744-a58b-2be40980c9b4",
   "metadata": {},
   "outputs": [
    {
     "data": {
      "text/plain": [
       "100"
      ]
     },
     "execution_count": 25,
     "metadata": {},
     "output_type": "execute_result"
    }
   ],
   "source": [
    "#function defination\n",
    "def Fun_Sum(a,b):\n",
    "    return a + b\n",
    "\n",
    "#function calling\n",
    "Fun_Sum(97,3)"
   ]
  },
  {
   "cell_type": "markdown",
   "id": "88f379f0-500b-4cd9-930d-f13f0d793287",
   "metadata": {},
   "source": [
    "\n",
    "### 5. What is a function signature, and what information does it typically include?\n"
   ]
  },
  {
   "cell_type": "markdown",
   "id": "5db20761-eed9-4957-b793-9fe5494eb0db",
   "metadata": {},
   "source": [
    "A function signature, also known as a function declaration or function prototype, is a fundamental part of a function definition that provides information about the function's interface, including its name, parameters, and return type. It typically includes the following information:\n",
    "\n",
    "1. **Function Name:** This is the name by which the function can be called in your code. Function names should be meaningful and descriptive to indicate their purpose.\n",
    "\n",
    "2. **Parameter List:** The parameter list specifies the input values (arguments) that the function expects when it is called. It includes the names of the parameters and their data types. If a function doesn't take any parameters, an empty parameter list is used.\n",
    "\n",
    "3. **Return Type:** The return type indicates the data type of the value that the function will return when it completes its execution. If a function doesn't return a value (i.e., it performs an action without producing a result), the return type is typically specified as `void` or omitted.\n",
    "\n",
    "Here's a general format of a function signature:\n",
    "\n",
    "```python\n",
    "def function_name(parameter1: data_type1, parameter2: data_type2, ...) -> return_type:\n",
    "```\n",
    "\n",
    "- `function_name`: The name of the function.\n",
    "- `parameter1`, `parameter2`, ...: The list of parameters, each with its name and data type.\n",
    "- `return_type`: The data type of the value the function returns.\n",
    "\n",
    " function signatures:\n",
    "\n",
    "```python\n",
    "# Function with no parameters and no return value (void)\n",
    "def greet() -> None:\n",
    "\n",
    "# Function with one parameter (name) and a return value (str)\n",
    "def get_greeting(name: str) -> str:\n",
    "\n",
    "# Function with two parameters (num1 and num2) and a return value (int)\n",
    "def add_numbers(num1: int, num2: int) -> int:\n",
    "```\n",
    "\n",
    "Function signatures serve as documentation for your functions, helping other developers understand how to use them correctly. They also guide the Python interpreter in type checking and ensure that the function is called with the right number and types of arguments."
   ]
  },
  {
   "cell_type": "markdown",
   "id": "bd29b780-2080-49ff-8c9f-3f29eac9d5f6",
   "metadata": {},
   "source": [
    "### 6. Create a Python function that takes two arguments and returns their product.\n"
   ]
  },
  {
   "cell_type": "code",
   "execution_count": 26,
   "id": "a14b3756-e265-4d52-aa06-6e57d527b02a",
   "metadata": {},
   "outputs": [
    {
     "name": "stdout",
     "output_type": "stream",
     "text": [
      "15\n"
     ]
    }
   ],
   "source": [
    "def multiply(x, y):\n",
    "    \"\"\"This function takes two numbers as input and returns their product.\"\"\"\n",
    "    result = x * y\n",
    "    return result\n",
    "\n",
    "result = multiply(5, 3)\n",
    "print(result)  "
   ]
  },
  {
   "cell_type": "markdown",
   "id": "93a59c54-b7b5-4016-ba56-b78a1362089d",
   "metadata": {},
   "source": [
    "## Function Parameters and Arguments:\n",
    "\n"
   ]
  },
  {
   "cell_type": "markdown",
   "id": "1c1cffa3-c623-42d6-adab-877132095261",
   "metadata": {},
   "source": [
    "### 1. Explain the concepts of formal parameters and actual arguments in Python functions.\n"
   ]
  },
  {
   "cell_type": "markdown",
   "id": "50fabb8e-79e1-432e-ab1f-0aad1253e00c",
   "metadata": {},
   "source": [
    "In Python functions, the concepts of formal parameters and actual arguments are essential for passing data into functions and specifying how that data should be used within the function. Let's explore these concepts in detail:\n",
    "\n",
    "1. **Formal Parameters:**\n",
    "   - Formal parameters are placeholders defined in the function's parameter list. They represent the values or data that the function expects to receive when it is called.\n",
    "   - These parameters are variables or names defined within the function's parentheses in the function definition.\n",
    "   - Formal parameters act as variables within the function's scope, and they are used to work with the data provided during the function call.\n",
    "   - Formal parameters have names and, optionally, data types (although Python is dynamically typed, so data types are not strictly enforced).\n",
    "\n",
    "   Example of a function with formal parameters:\n",
    "   ```python\n",
    "   def greet(name):\n",
    "       \"\"\"This function takes a formal parameter 'name'.\"\"\"\n",
    "       print(f\"Hello, {name}!\")\n",
    "   ```\n",
    "\n",
    "2. **Actual Arguments (Arguments):**\n",
    "   - Actual arguments, often referred to as \"arguments\" for short, are the values or expressions that are passed to a function when it is called. These values are provided within the parentheses during the function call.\n",
    "   - Arguments supply the actual data that the function will work with when executing its code.\n",
    "   - The number and order of arguments provided during the function call must match the formal parameters defined in the function's parameter list.\n",
    "\n",
    "   Example of calling a function with arguments:\n",
    "   ```python\n",
    "   greet(\"Alice\")\n",
    "   ```\n",
    "\n",
    "   In this example, `\"Alice\"` is an argument passed to the `greet` function.\n",
    "\n",
    "formal parameters are placeholders for data within a function's definition, and they guide how data should be used within the function. Actual arguments are the concrete values or expressions provided during a function call to supply the required data to the function. Matching the number and order of arguments with the formal parameters is crucial for proper function execution."
   ]
  },
  {
   "cell_type": "markdown",
   "id": "53198cac-74f8-44e1-b865-223396cb8b8f",
   "metadata": {},
   "source": [
    "### 2. Write a Python program that defines a function with default argument values.\n"
   ]
  },
  {
   "cell_type": "code",
   "execution_count": 29,
   "id": "2d58f72d-8309-4fff-ba33-2f46e420104e",
   "metadata": {},
   "outputs": [
    {
     "name": "stdout",
     "output_type": "stream",
     "text": [
      "Hello, world!\n",
      "Hello, aniruddha!\n"
     ]
    }
   ],
   "source": [
    "def greet(name=\"world\"):\n",
    "    \"\"\"This function greets the person with the provided name (or 'world' by default).\"\"\"\n",
    "    print(f\"Hello, {name}!\")\n",
    "\n",
    "# Calling the function without providing an argument\n",
    "greet()  # Output: Hello, Guest!\n",
    "\n",
    "# Calling the function with an argument\n",
    "greet(\"aniruddha\")  # Output: Hello, Alice!\n"
   ]
  },
  {
   "cell_type": "markdown",
   "id": "5e0a5d0d-24c7-40bf-8c8d-cdced9ecc849",
   "metadata": {},
   "source": [
    "### 3. How do you use keyword arguments in Python function calls? Provide an example.\n"
   ]
  },
  {
   "cell_type": "code",
   "execution_count": 32,
   "id": "97d1a3cd-a333-4ac5-be9b-b568b799d1bb",
   "metadata": {},
   "outputs": [
    {
     "name": "stdout",
     "output_type": "stream",
     "text": [
      "Hello, Alice! You are 30 years old.\n",
      "Hello, Bob! You are 25 years old.\n"
     ]
    },
    {
     "ename": "TypeError",
     "evalue": "greet() missing 1 required positional argument: 'age'",
     "output_type": "error",
     "traceback": [
      "\u001b[0;31m---------------------------------------------------------------------------\u001b[0m",
      "\u001b[0;31mTypeError\u001b[0m                                 Traceback (most recent call last)",
      "Cell \u001b[0;32mIn[32], line 12\u001b[0m\n\u001b[1;32m      9\u001b[0m greet(\u001b[38;5;124m\"\u001b[39m\u001b[38;5;124mBob\u001b[39m\u001b[38;5;124m\"\u001b[39m, age\u001b[38;5;241m=\u001b[39m\u001b[38;5;241m25\u001b[39m)  \u001b[38;5;66;03m# Output: Hello, Bob! You are 25 years old.\u001b[39;00m\n\u001b[1;32m     11\u001b[0m \u001b[38;5;66;03m# Omitting an argument with a default value\u001b[39;00m\n\u001b[0;32m---> 12\u001b[0m \u001b[43mgreet\u001b[49m\u001b[43m(\u001b[49m\u001b[43mname\u001b[49m\u001b[38;5;241;43m=\u001b[39;49m\u001b[38;5;124;43m\"\u001b[39;49m\u001b[38;5;124;43mEve\u001b[39;49m\u001b[38;5;124;43m\"\u001b[39;49m\u001b[43m)\u001b[49m  \u001b[38;5;66;03m# Output: Hello, Eve! You are {age} years old.\u001b[39;00m\n",
      "\u001b[0;31mTypeError\u001b[0m: greet() missing 1 required positional argument: 'age'"
     ]
    }
   ],
   "source": [
    "def greet(name, age):\n",
    "    \"\"\"This function greets a person with their name and age.\"\"\"\n",
    "    print(f\"Hello, {name}! You are {age} years old.\")\n",
    "\n",
    "# Calling the function with keyword arguments\n",
    "greet(name=\"Alice\", age=30)  # Output: Hello, Alice! You are 30 years old.\n",
    "\n",
    "# You can also mix positional and keyword arguments\n",
    "greet(\"Bob\", age=25)  # Output: Hello, Bob! You are 25 years old.\n",
    "\n",
    "# Omitting an argument with a default value\n",
    "greet(name=\"Eve\")  # Output: Hello, Eve! You are {age} years old.\n"
   ]
  },
  {
   "cell_type": "markdown",
   "id": "db29102f-5be4-46a6-9b88-ddb7e37f5c7a",
   "metadata": {},
   "source": [
    "### 4. Create a Python function that accepts a variable number of arguments and calculates their sum.\n"
   ]
  },
  {
   "cell_type": "code",
   "execution_count": 33,
   "id": "8c7e1696-df92-49d3-8657-eb806a8d5ee5",
   "metadata": {},
   "outputs": [
    {
     "name": "stdout",
     "output_type": "stream",
     "text": [
      "Result 1: 30\n",
      "Result 2: 20\n"
     ]
    }
   ],
   "source": [
    "def calculate_sum(*args):\n",
    "    \"\"\"This function calculates the sum of a variable number of arguments.\"\"\"\n",
    "    total = 0\n",
    "    for num in args:\n",
    "        total += num\n",
    "    return total\n",
    "\n",
    "# Calling the function with different numbers of arguments\n",
    "result1 = calculate_sum(5, 10, 15)  # Sum of 5, 10, and 15 is 30\n",
    "result2 = calculate_sum(2, 3, 4, 5, 6)  # Sum of 2, 3, 4, 5, and 6 is 20\n",
    "\n",
    "print(\"Result 1:\", result1)\n",
    "print(\"Result 2:\", result2)\n"
   ]
  },
  {
   "cell_type": "markdown",
   "id": "c6d97991-f364-45b0-87c7-d3bffaf29729",
   "metadata": {},
   "source": [
    "### 5. What is the purpose of the `*args` and `**kwargs` syntax in function parameter lists?\n"
   ]
  },
  {
   "cell_type": "markdown",
   "id": "1e5628f3-855d-4851-bd0b-fd1d37d50383",
   "metadata": {},
   "source": [
    "The `*args` and `**kwargs` syntax in function parameter lists are used to handle a variable number of arguments in Python functions, providing flexibility and allowing functions to work with different input configurations.\n",
    "\n",
    "1. **`*args` (Arbitrary Positional Arguments):**\n",
    "   - The `*args` syntax allows a function to accept a variable number of positional arguments.\n",
    "   - When `*args` is used in a function's parameter list, it collects any additional positional arguments provided during the function call into a tuple.\n",
    "   - These arguments are accessible within the function as elements of the tuple, and you can iterate through them or perform operations on them.\n",
    "\n",
    "   Example:\n",
    "   ```python\n",
    "   def calculate_sum(*args):\n",
    "       total = 0\n",
    "       for num in args:\n",
    "           total += num\n",
    "       return total\n",
    "   ```\n",
    "\n",
    "2. **`**kwargs` (Arbitrary Keyword Arguments):**\n",
    "   - The `**kwargs` syntax allows a function to accept a variable number of keyword arguments.\n",
    "   - When `**kwargs` is used in a function's parameter list, it collects any additional keyword arguments provided during the function call into a dictionary.\n",
    "   - These arguments are accessible within the function as key-value pairs in the dictionary, and you can access their values by specifying the keys.\n",
    "\n",
    "   Example:\n",
    "   ```python\n",
    "   def print_info(**kwargs):\n",
    "       for key, value in kwargs.items():\n",
    "           print(f\"{key}: {value}\")\n",
    "   ```\n",
    "\n",
    "These features are particularly useful when you want to create flexible functions that can handle different input scenarios. By using `*args` and `**kwargs`, you allow callers to provide any number of arguments without having to specify them all in the function's parameter list. This makes your code more adaptable and easier to maintain."
   ]
  },
  {
   "cell_type": "markdown",
   "id": "868634a6-8945-430c-8c60-b1426d3ffce3",
   "metadata": {},
   "source": [
    "## Return Values and Scoping:\n"
   ]
  },
  {
   "cell_type": "markdown",
   "id": "4bb69a48-2d31-4d45-b19a-b09c9c70f781",
   "metadata": {},
   "source": [
    "### 1. Describe the role of the `return` statement in Python functions and provide examples.\n"
   ]
  },
  {
   "cell_type": "markdown",
   "id": "3a6ea25d-d6e9-4b0b-843c-e24880843a87",
   "metadata": {},
   "source": [
    "The `return` statement in Python functions is used to specify what value the function should produce as its result. It serves several important roles:\n",
    "\n",
    "1. **Returning Values:** The primary purpose of the `return` statement is to return a value from a function. This value can be of any data type, including integers, floats, strings, lists, dictionaries, or even custom objects.\n",
    "\n",
    "2. **Exiting the Function:** When a `return` statement is encountered, it immediately exits the function, and no further code within the function is executed. This allows the function to return a result and terminate its execution.\n",
    "\n",
    "3. **Passing Data to the Caller:** The value specified after `return` is passed back to the caller of the function. The caller can then use or store this value as needed.\n",
    "\n",
    "Here are some examples illustrating the use of the `return` statement:\n",
    "\n",
    "**Example 1: Returning a Value**\n",
    "```python\n",
    "def add(a, b):\n",
    "    result = a + b\n",
    "    return result\n",
    "\n",
    "sum_result = add(5, 3)\n",
    "print(sum_result)  # Output: 8\n",
    "```\n",
    "\n",
    "In this example, the `add` function returns the result of adding two numbers, and the result is stored in the `sum_result` variable when the function is called.\n",
    "\n",
    "**Example 2: Early Function Exit**\n",
    "```python\n",
    "def is_even(number):\n",
    "    if number % 2 == 0:\n",
    "        return True\n",
    "    else:\n",
    "        return False\n",
    "\n",
    "result = is_even(7)\n",
    "print(result)  # Output: False\n",
    "```\n",
    "\n",
    "In this example, the `is_even` function checks if a number is even and immediately returns `True` or `False` based on the condition, exiting the function early.\n",
    "\n",
    "**Example 3: Returning Multiple Values**\n",
    "```python\n",
    "def get_name_and_age():\n",
    "    name = \"Alice\"\n",
    "    age = 30\n",
    "    return name, age\n",
    "\n",
    "name, age = get_name_and_age()\n",
    "print(f\"Name: {name}, Age: {age}\")  # Output: Name: Alice, Age: 30\n",
    "```\n",
    "\n",
    "In this example, the `get_name_and_age` function returns multiple values (a tuple), which can be unpacked by the caller into separate variables.\n",
    "\n",
    "The `return` statement is fundamental in allowing functions to produce meaningful results and communicate with the rest of the program."
   ]
  },
  {
   "cell_type": "markdown",
   "id": "e1524795-527a-4a26-922c-88fd7a88ea66",
   "metadata": {},
   "source": [
    "### 2. Explain the concept of variable scope in Python, including local and global variables.\n"
   ]
  },
  {
   "cell_type": "markdown",
   "id": "eaa2f7b2-9520-4cf2-9401-80568427a7e5",
   "metadata": {},
   "source": [
    "Variable scope in Python refers to the region of a program where a variable can be accessed or modified. Python has two main types of variable scope:\n",
    "\n",
    "1. **Local Variables:**\n",
    "   - Local variables are defined within a specific function or block of code.\n",
    "   - They are only accessible within the function or block where they are defined.\n",
    "   - Local variables have limited scope and are temporary, existing only as long as the function or block is executing.\n",
    "   - Once the function or block exits, the local variables are destroyed, and their values are no longer accessible.\n",
    "   \n",
    "   Example:\n",
    "   ```python\n",
    "   def my_function():\n",
    "       x = 10  # x is a local variable\n",
    "       print(x)\n",
    "   \n",
    "   my_function()\n",
    "   print(x)  # Raises a NameError because x is not defined outside the function\n",
    "   ```\n",
    "\n",
    "2. **Global Variables:**\n",
    "   - Global variables are defined outside of any function or block and are accessible throughout the entire program.\n",
    "   - They have a broader scope and are not limited to a specific function or block.\n",
    "   - Global variables persist throughout the program's execution, and their values can be accessed and modified from any part of the code.\n",
    "   \n",
    "   Example:\n",
    "   ```python\n",
    "   y = 20  # y is a global variable\n",
    "   \n",
    "   def another_function():\n",
    "       print(y)  # Accessing the global variable y\n",
    "   \n",
    "   another_function()\n",
    "   print(y)  # y is accessible here as well\n",
    "   ```\n",
    "\n",
    "In Python, when a variable is referenced within a function, the interpreter first checks if it's a local variable within that function. If not found, it looks in the outer scopes, including the global scope. This is known as the \"LEGB\" (Local, Enclosing, Global, Built-in) rule.\n",
    "\n",
    "Here's a summary of variable scope in Python:\n",
    "\n",
    "- Local variables have limited scope within a specific function or block.\n",
    "- Global variables are accessible throughout the entire program.\n",
    "- Variables in inner scopes can shadow (hide) variables in outer scopes with the same name.\n",
    "- To modify a global variable from within a function, you can use the `global` keyword to indicate that you intend to refer to the global variable.\n",
    "\n",
    "Understanding variable scope is crucial for writing clean and maintainable code, as it helps prevent unintended side effects and conflicts between variables with the same name in different scopes."
   ]
  },
  {
   "cell_type": "markdown",
   "id": "349dec46-2a3a-4238-82a5-1cd7ec9749dd",
   "metadata": {},
   "source": [
    "### 3. Write a Python program that demonstrates the use of global variables within functions.\n"
   ]
  },
  {
   "cell_type": "code",
   "execution_count": 34,
   "id": "811efa7c-5087-495b-8ebc-ed0b711fe442",
   "metadata": {},
   "outputs": [
    {
     "name": "stdout",
     "output_type": "stream",
     "text": [
      "Global variable: 100\n",
      "Global variable: 110\n",
      "Local variable (shadowing global): 50\n",
      "Global variable: 110\n"
     ]
    }
   ],
   "source": [
    "# Define a global variable\n",
    "global_var = 100\n",
    "\n",
    "# Function to modify the global variable\n",
    "def modify_global():\n",
    "    global global_var  # Declare global_var as global within the function\n",
    "    global_var += 10\n",
    "\n",
    "# Function to access the global variable\n",
    "def access_global():\n",
    "    print(\"Global variable:\", global_var)\n",
    "\n",
    "# Function to create a local variable with the same name\n",
    "def shadow_global():\n",
    "    global_var = 50  # This creates a local variable with the same name\n",
    "    print(\"Local variable (shadowing global):\", global_var)\n",
    "\n",
    "# Call the functions\n",
    "access_global()  # Access the global variable\n",
    "modify_global()  # Modify the global variable\n",
    "access_global()  # Access the modified global variable\n",
    "shadow_global()  # Create a local variable with the same name\n",
    "access_global()  # Access the global variable again\n"
   ]
  },
  {
   "cell_type": "markdown",
   "id": "ab746e47-24f0-4aef-aa0c-eaf90b330240",
   "metadata": {},
   "source": [
    "### 4. Create a Python function that calculates the factorial of a number and returns it.\n"
   ]
  },
  {
   "cell_type": "code",
   "execution_count": 35,
   "id": "fac6a011-f4c1-4087-a95a-9253b2e48dbc",
   "metadata": {},
   "outputs": [
    {
     "name": "stdout",
     "output_type": "stream",
     "text": [
      "The factorial of 5 is 120\n"
     ]
    }
   ],
   "source": [
    "def factorial(n):\n",
    "    if n == 0:\n",
    "        return 1  # The factorial of 0 is 1\n",
    "    else:\n",
    "        result = 1\n",
    "        for i in range(1, n + 1):\n",
    "            result *= i\n",
    "        return result\n",
    "\n",
    "# Test the function with different values\n",
    "num = 5\n",
    "fact = factorial(num)\n",
    "print(f\"The factorial of {num} is {fact}\")\n"
   ]
  },
  {
   "cell_type": "markdown",
   "id": "4ee39ad4-961c-440b-95ac-44c755a20690",
   "metadata": {},
   "source": [
    "### 5. How can you access variables defined outside a function from within the function?\n"
   ]
  },
  {
   "cell_type": "markdown",
   "id": "2292860a-2b4d-4abc-8580-5794729f0ffa",
   "metadata": {},
   "source": [
    "You can access variables defined outside a function from within the function by following these rules:\n",
    "\n",
    "1. **Global Variables:** Variables defined in the global scope (outside of any function) are automatically accessible from within any function without any special declaration.\n",
    "\n",
    "2. **Using the `global` Keyword:** If you want to modify a global variable from within a function, you should use the `global` keyword to indicate that you intend to refer to the global variable. This is necessary when you want to assign a new value to a global variable from within a function.\n",
    "\n",
    "Here's an example that illustrates both cases:\n",
    "\n",
    "```python\n",
    "# Global variable\n",
    "global_var = 100\n",
    "\n",
    "# Function to access and modify the global variable\n",
    "def access_and_modify_global():\n",
    "    global global_var  # Declare global_var as global within the function\n",
    "    access_result = global_var  # Access the global variable\n",
    "    global_var += 10  # Modify the global variable\n",
    "    return access_result\n",
    "\n",
    "# Function to access the global variable without modification\n",
    "def access_global():\n",
    "    return global_var  # Access the global variable\n",
    "\n",
    "# Call the functions\n",
    "result1 = access_and_modify_global()\n",
    "result2 = access_global()\n",
    "\n",
    "print(\"Result after modifying global variable:\", result1)\n",
    "print(\"Result without modifying global variable:\", result2)\n",
    "print(\"Global variable after modification:\", global_var)\n",
    "```\n",
    "\n",
    "Output:\n",
    "```\n",
    "Result after modifying global variable: 100\n",
    "Result without modifying global variable: 110\n",
    "Global variable after modification: 110\n",
    "```\n",
    "\n",
    "In above example:\n",
    "\n",
    "- The `access_and_modify_global` function uses the `global` keyword to declare `global_var` as global within the function, allowing it to both access and modify the global variable.\n",
    "\n",
    "- The `access_global` function only accesses the global variable without modifying it.\n",
    "\n",
    "- When we call these functions, we can see how global variables are accessed and modified from within functions."
   ]
  },
  {
   "cell_type": "markdown",
   "id": "ea02794c-4222-4399-8ac4-b919235c18a1",
   "metadata": {},
   "source": [
    "\n",
    "## Lambda Functions and Higher-Order Functions:\n"
   ]
  },
  {
   "cell_type": "markdown",
   "id": "bbcc2ad2-9b77-42e2-aa77-1a168f19d2b3",
   "metadata": {},
   "source": [
    "### 1. What are lambda functions in Python, and when are they typically used?\n"
   ]
  },
  {
   "cell_type": "markdown",
   "id": "c4243d08-182a-4a55-ac5f-e7c72f59041d",
   "metadata": {},
   "source": [
    "Lambda functions in Python, also known as anonymous functions, are small, unnamed functions defined using the `lambda` keyword. Lambda functions are typically used for short, simple operations that can be expressed in a single line of code. They have the following characteristics:\n",
    "\n",
    "1. **Anonymous:** Lambda functions are anonymous because they don't have a name like regular functions defined using the `def` keyword. Instead, they are defined in-place where they are needed.\n",
    "\n",
    "2. **Single Expression:** Lambda functions are limited to a single expression, which is evaluated and returned as the result of the function.\n",
    "\n",
    "3. **Concise:** Lambda functions are concise and are often used for small tasks that don't require a full function definition.\n",
    "\n",
    "Lambda functions are commonly used in situations where a small, throwaway function is needed as an argument to higher-order functions like `map`, `filter`, and `sorted`. They are also used in cases where defining a named function would be excessive or less readable.\n",
    "\n",
    "Here's the basic syntax of a lambda function:\n",
    "\n",
    "```python\n",
    "lambda arguments: expression\n",
    "```\n",
    "\n",
    "For example, a lambda function that calculates the square of a number can be written as:\n",
    "\n",
    "```python\n",
    "square = lambda x: x**2\n",
    "print(square(5))  # Outputs: 25\n",
    "```\n",
    "\n",
    "In above example, `lambda x: x**2` defines a lambda function that takes one argument `x` and returns its square.\n",
    "\n",
    "Lambda functions are a powerful tool for creating small, ad-hoc functions quickly and concisely in Python."
   ]
  },
  {
   "cell_type": "markdown",
   "id": "12eb011b-b324-4a9f-9e34-d2d82745d0ed",
   "metadata": {},
   "source": [
    "### 2. Write a Python program that uses lambda functions to sort a list of tuples based on the second element.\n"
   ]
  },
  {
   "cell_type": "code",
   "execution_count": 36,
   "id": "e3cbb18f-158a-45c2-870d-c73d4952bdcd",
   "metadata": {},
   "outputs": [
    {
     "name": "stdout",
     "output_type": "stream",
     "text": [
      "[(4, 1), (3, 2), (1, 5), (2, 8)]\n"
     ]
    }
   ],
   "source": [
    "# List of tuples\n",
    "data = [(1, 5), (3, 2), (2, 8), (4, 1)]\n",
    "\n",
    "# Sort the list of tuples based on the second element (index 1)\n",
    "sorted_data = sorted(data, key=lambda x: x[1])\n",
    "\n",
    "# Print the sorted list\n",
    "print(sorted_data)\n"
   ]
  },
  {
   "cell_type": "markdown",
   "id": "7d8efebf-c85c-405e-8035-7c6920567e36",
   "metadata": {},
   "source": [
    "### 3. Explain the concept of higher-order functions in Python, and provide an example.\n"
   ]
  },
  {
   "cell_type": "markdown",
   "id": "5f210816-a29c-45c8-b2fc-d470b05df61d",
   "metadata": {},
   "source": [
    "In Python, higher-order functions are functions that can take other functions as arguments, return functions as results, or both. Higher-order functions are a fundamental concept in functional programming and provide a powerful way to abstract and manipulate operations.\n",
    "\n",
    "Here's a simple example of a higher-order function in Python:\n",
    "\n",
    "```python\n",
    "# Higher-order function that takes a function as an argument\n",
    "def apply(func, x):\n",
    "    return func(x)\n",
    "\n",
    "# Function to square a number\n",
    "def square(x):\n",
    "    return x**2\n",
    "\n",
    "# Function to cube a number\n",
    "def cube(x):\n",
    "    return x**3\n",
    "\n",
    "# Apply the apply function with different functions\n",
    "result1 = apply(square, 5)  # Calls square(5)\n",
    "result2 = apply(cube, 3)    # Calls cube(3)\n",
    "\n",
    "print(\"Result 1:\", result1)  # Output: Result 1: 25\n",
    "print(\"Result 2:\", result2)  # Output: Result 2: 27\n",
    "```\n",
    "\n",
    "In this example:\n",
    "\n",
    "- We define a higher-order function `apply` that takes two arguments: `func` (a function) and `x` (a value). The `apply` function applies the given function `func` to the value `x` and returns the result.\n",
    "\n",
    "- We also define two simple functions, `square` and `cube`, that perform mathematical operations on a single argument.\n",
    "\n",
    "- When we call the `apply` function with `square` and `cube` as arguments, it applies these functions to the provided values and returns the results.\n",
    "\n",
    "Higher-order functions are commonly used in Python for various purposes, such as functional programming, abstraction, and code reusability. They allow you to write more flexible and modular code by separating the logic of a function from the specific operation it performs, enabling you to pass different functions as arguments to achieve different behavior."
   ]
  },
  {
   "cell_type": "markdown",
   "id": "d19a5008-f32c-4512-91ee-149bfb5d4e04",
   "metadata": {},
   "source": [
    "### 4. Create a Python function that takes a list of numbers and a function as arguments, applying the function to each element in the list.\n"
   ]
  },
  {
   "cell_type": "code",
   "execution_count": 37,
   "id": "8e79009d-4914-4cdd-8d53-58ad1ced1897",
   "metadata": {},
   "outputs": [
    {
     "name": "stdout",
     "output_type": "stream",
     "text": [
      "Squared numbers: [1, 4, 9, 16, 25]\n",
      "Doubled numbers: [2, 4, 6, 8, 10]\n"
     ]
    }
   ],
   "source": [
    "# Function that applies a given function to each element in a list\n",
    "def apply_function_to_list(func, num_list):\n",
    "    result = []\n",
    "    for num in num_list:\n",
    "        result.append(func(num))\n",
    "    return result\n",
    "\n",
    "# Example functions to be applied\n",
    "def square(x):\n",
    "    return x ** 2\n",
    "\n",
    "def double(x):\n",
    "    return x * 2\n",
    "\n",
    "# List of numbers\n",
    "numbers = [1, 2, 3, 4, 5]\n",
    "\n",
    "# Apply the square function to the list\n",
    "squared_numbers = apply_function_to_list(square, numbers)\n",
    "print(\"Squared numbers:\", squared_numbers)\n",
    "\n",
    "# Apply the double function to the list\n",
    "doubled_numbers = apply_function_to_list(double, numbers)\n",
    "print(\"Doubled numbers:\", doubled_numbers)\n"
   ]
  },
  {
   "cell_type": "markdown",
   "id": "92e5d25d-d79f-4460-a57e-63b253cca594",
   "metadata": {},
   "source": [
    "## Built-in Functions:"
   ]
  },
  {
   "cell_type": "markdown",
   "id": "93c11859-f51f-48e7-b23b-8b158854c2cd",
   "metadata": {},
   "source": [
    "### 1. Describe the role of built-in functions like `len()`, `max()`, and `min()` in Python.\n"
   ]
  },
  {
   "cell_type": "markdown",
   "id": "73b9e495-c678-40da-b9b9-78d229585f40",
   "metadata": {},
   "source": [
    "Built-in functions like `len()`, `max()`, and `min()` in Python serve specific purposes and provide essential functionality for working with various data types and collections. Here's a brief description of their roles:\n",
    "\n",
    "1. **`len()` Function:**\n",
    "   - Role: The `len()` function is used to determine the length or the number of elements in a sequence or collection, such as strings, lists, tuples, dictionaries, and sets.\n",
    "   - Usage: `len(sequence)`\n",
    "   - Example:\n",
    "     ```python\n",
    "     text = \"Hello, World!\"\n",
    "     length = len(text)\n",
    "     print(length)  # Outputs: 13\n",
    "     ```\n",
    "\n",
    "2. **`max()` Function:**\n",
    "   - Role: The `max()` function is used to find the maximum element in an iterable (e.g., list, tuple) or among multiple arguments.\n",
    "   - Usage: `max(iterable, key=optional_key_function, default=optional_default_value)`\n",
    "   - Example:\n",
    "     ```python\n",
    "     numbers = [3, 8, 1, 6, 5]\n",
    "     maximum = max(numbers)\n",
    "     print(maximum)  # Outputs: 8\n",
    "     ```\n",
    "\n",
    "3. **`min()` Function:**\n",
    "   - Role: The `min()` function is used to find the minimum element in an iterable or among multiple arguments.\n",
    "   - Usage: `min(iterable, key=optional_key_function, default=optional_default_value)`\n",
    "   - Example:\n",
    "     ```python\n",
    "     numbers = [3, 8, 1, 6, 5]\n",
    "     minimum = min(numbers)\n",
    "     print(minimum)  # Outputs: 1\n",
    "     ```\n",
    "\n",
    "These built-in functions are convenient and widely used for common tasks in Python. \n",
    "They help simplify code and make it more readable when you need to perform basic operations on data structures and collections. \n",
    "Additionally, the optional `key` and `default` arguments in `max()` and `min()` provide flexibility in handling more complex scenarios, \n",
    "such as finding the maximum or minimum element based on a custom key function or handling cases where the iterable is empty."
   ]
  },
  {
   "cell_type": "markdown",
   "id": "92dff626-eb9d-43f2-9e5b-b1d86b3cb88b",
   "metadata": {},
   "source": [
    "### 2. Write a Python program that uses the `map()` function to apply a function to each element of a list.\n"
   ]
  },
  {
   "cell_type": "code",
   "execution_count": 38,
   "id": "87954d1a-1838-42a5-a610-7a22c7a210ca",
   "metadata": {},
   "outputs": [
    {
     "name": "stdout",
     "output_type": "stream",
     "text": [
      "Squared numbers: [1, 4, 9, 16, 25]\n"
     ]
    }
   ],
   "source": [
    "# Function to square a number\n",
    "def square(x):\n",
    "    return x ** 2\n",
    "\n",
    "# List of numbers\n",
    "numbers = [1, 2, 3, 4, 5]\n",
    "\n",
    "# Use map() to apply the square function to each element in the list\n",
    "squared_numbers = list(map(square, numbers))\n",
    "\n",
    "# Print the squared numbers\n",
    "print(\"Squared numbers:\", squared_numbers)\n"
   ]
  },
  {
   "cell_type": "markdown",
   "id": "c45e38ad-3600-434b-b5bf-88ee5da605cc",
   "metadata": {},
   "source": [
    "### 3. How does the `filter()` function work in Python, and when would you use it?\n"
   ]
  },
  {
   "cell_type": "markdown",
   "id": "efd68550-e337-4d19-bda2-ebee375a011b",
   "metadata": {},
   "source": [
    "The `filter()` function in Python is used to filter elements from an iterable (such as a list, tuple, or other sequence) based on a specified condition or predicate function. It returns an iterable containing only the elements that satisfy the given condition.\n",
    "\n",
    "Here's how the `filter()` function works:\n",
    "\n",
    "1. It takes two arguments:\n",
    "   - The first argument is the predicate function, which defines the condition for filtering. This function should return `True` for elements that should be included in the result and `False` for elements that should be excluded.\n",
    "   - The second argument is the iterable from which you want to filter elements.\n",
    "\n",
    "2. It applies the predicate function to each element in the iterable.\n",
    "\n",
    "3. It includes only the elements for which the predicate function returns `True` in the result.\n",
    "\n",
    "Here's an example of using the `filter()` function to filter even numbers from a list:\n",
    "\n",
    "```python\n",
    "# Predicate function to check if a number is even\n",
    "def is_even(num):\n",
    "    return num % 2 == 0\n",
    "\n",
    "# List of numbers\n",
    "numbers = [1, 2, 3, 4, 5, 6, 7, 8, 9, 10]\n",
    "\n",
    "# Use filter() to filter even numbers from the list\n",
    "even_numbers = list(filter(is_even, numbers))\n",
    "\n",
    "# Print the even numbers\n",
    "print(\"Even numbers:\", even_numbers)\n",
    "```\n",
    "\n",
    "Output:\n",
    "```\n",
    "Even numbers: [2, 4, 6, 8, 10]\n",
    "```\n",
    "\n",
    "In above example, the `is_even` function is the predicate function, and it checks whether a given number is even or not. The `filter()` function is used to filter even numbers from the `numbers` list based on the condition defined by `is_even`.\n",
    "\n",
    "You would use the `filter()` function when you need to selectively extract elements from a collection or iterable that meet specific criteria. It's a concise and efficient way to perform filtering operations on data without manually iterating through the elements and applying the condition."
   ]
  },
  {
   "cell_type": "markdown",
   "id": "6ec95500-9e8f-4103-98d5-f949bc8fc7c1",
   "metadata": {},
   "source": [
    "### 4. Create a Python program that uses the `reduce()` function to find the product of all elements in a list.\n"
   ]
  },
  {
   "cell_type": "code",
   "execution_count": 39,
   "id": "596012db-c368-49ec-85dd-70acf158d7a0",
   "metadata": {},
   "outputs": [
    {
     "name": "stdout",
     "output_type": "stream",
     "text": [
      "Product of all elements: 120\n"
     ]
    }
   ],
   "source": [
    "from functools import reduce\n",
    "\n",
    "# Function to calculate the product of two numbers\n",
    "def multiply(x, y):\n",
    "    return x * y\n",
    "\n",
    "# List of numbers\n",
    "numbers = [1, 2, 3, 4, 5]\n",
    "\n",
    "# Use reduce() to find the product of all elements in the list\n",
    "product = reduce(multiply, numbers)\n",
    "\n",
    "# Print the product\n",
    "print(\"Product of all elements:\", product)\n"
   ]
  },
  {
   "cell_type": "markdown",
   "id": "5082137c-a756-478c-934b-6bb9d6014a92",
   "metadata": {},
   "source": [
    "\n",
    "## Function Documentation and Best Practices:\n",
    "\n"
   ]
  },
  {
   "cell_type": "markdown",
   "id": "bb412d62-ae0d-4485-951e-15583d585cf7",
   "metadata": {},
   "source": [
    "### 1. Explain the purpose of docstrings in Python functions and how to write them.\n"
   ]
  },
  {
   "cell_type": "markdown",
   "id": "61a8117f-3b59-403c-b576-d6a76a2eb9df",
   "metadata": {},
   "source": [
    "Docstrings (documentation strings) in Python are used to provide documentation and information about functions, classes, modules, or methods. They serve as a form of inline documentation that helps developers understand the purpose, usage, and behavior of code entities without needing to read the source code itself. Docstrings are typically enclosed in triple-quotes (`'''` or `\"\"\"`) and appear as the first statement in a function, class, or module.\n",
    "\n",
    "The main purposes of docstrings are:\n",
    "\n",
    "1. **Documentation:** Docstrings provide human-readable documentation that describes what a function, class, or module does, its parameters, return values, and any other relevant information.\n",
    "\n",
    "2. **Auto-generating Documentation:** Docstrings can be automatically extracted and used to generate documentation in various formats, such as HTML, PDF, or plain text, using documentation tools like Sphinx.\n",
    "\n",
    "3. **Interactive Help:** Docstrings are accessible interactively in Python environments (e.g., in the Python REPL or Jupyter Notebook), allowing developers to access documentation for functions and classes without leaving the environment.\n",
    "\n",
    "Here's how to write docstrings for functions, classes, and modules in Python:\n",
    "\n",
    "1. **Function Docstring:**\n",
    "   - Place the docstring as the first statement in a function.\n",
    "   - Use triple-quotes (`'''` or `\"\"\"`) to enclose the docstring.\n",
    "   - Provide a concise and clear description of what the function does.\n",
    "   - Include information about parameters, return values, and any exceptions raised.\n",
    "   - Follow the [PEP 257](https://www.python.org/dev/peps/pep-0257/) guidelines for docstring conventions.\n",
    "\n",
    "   Example:\n",
    "   ```python\n",
    "   def add(x, y):\n",
    "       '''\n",
    "       Adds two numbers.\n",
    "\n",
    "       Parameters:\n",
    "       x (int): The first number.\n",
    "       y (int): The second number.\n",
    "\n",
    "       Returns:\n",
    "       int: The sum of x and y.\n",
    "       '''\n",
    "       return x + y\n",
    "   ```\n",
    "\n",
    "2. **Class Docstring:**\n",
    "   - Place the docstring as the first statement in a class definition.\n",
    "   - Use triple-quotes to enclose the docstring.\n",
    "   - Describe the purpose and usage of the class.\n",
    "   - Include information about class attributes, methods, and any special behavior.\n",
    "   - Follow the [PEP 257](https://www.python.org/dev/peps/pep-0257/) guidelines for docstring conventions.\n",
    "\n",
    "   Example:\n",
    "   ```python\n",
    "   class Rectangle:\n",
    "       '''\n",
    "       Represents a rectangle with width and height.\n",
    "\n",
    "       Attributes:\n",
    "       width (float): The width of the rectangle.\n",
    "       height (float): The height of the rectangle.\n",
    "       '''\n",
    "\n",
    "       def __init__(self, width, height):\n",
    "           self.width = width\n",
    "           self.height = height\n",
    "\n",
    "       def area(self):\n",
    "           '''\n",
    "           Calculates the area of the rectangle.\n",
    "\n",
    "           Returns:\n",
    "           float: The area of the rectangle.\n",
    "           '''\n",
    "           return self.width * self.height\n",
    "   ```\n",
    "\n",
    "3. **Module Docstring:**\n",
    "   - Place the docstring at the top of the module file (before any code).\n",
    "   - Use triple-quotes to enclose the docstring.\n",
    "   - Provide an overview of the module's purpose, contents, and any important information.\n",
    "   - Follow the [PEP 257](https://www.python.org/dev/peps/pep-0257/) guidelines for docstring conventions.\n",
    "\n",
    "   Example:\n",
    "   ```python\n",
    "   '''\n",
    "   Math utilities module\n",
    "\n",
    "   This module provides various mathematical functions and constants.\n",
    "\n",
    "   Functions:\n",
    "   - add(x, y): Adds two numbers.\n",
    "   - subtract(x, y): Subtracts y from x.\n",
    "\n",
    "   Constants:\n",
    "   - PI: The mathematical constant pi.\n",
    "   '''\n",
    "\n",
    "   PI = 3.14159265359\n",
    "\n",
    "   def add(x, y):\n",
    "       # Function implementation here...\n",
    "\n",
    "   def subtract(x, y):\n",
    "       # Function implementation here...\n",
    "   ```\n",
    "\n",
    "By following these conventions and including informative docstrings, you can make your code more understandable and maintainable, as well as facilitate collaboration with other developers."
   ]
  },
  {
   "cell_type": "markdown",
   "id": "5139747b-1043-49b2-9970-768befdc07cf",
   "metadata": {},
   "source": [
    "### 2. Describe some best practices for naming functions and variables in Python, including naming conventions and guidelines.\n"
   ]
  },
  {
   "cell_type": "markdown",
   "id": "c124f386-d8e8-4cae-b736-9862d5646aa5",
   "metadata": {},
   "source": [
    "Naming functions and variables in Python is a crucial aspect of writing clean, readable, and maintainable code. Following naming conventions and best practices helps make your code more understandable and consistent. Here are some best practices for naming functions and variables in Python:\n",
    "\n",
    "**1. Use Descriptive Names:**\n",
    "   - Choose names that accurately describe the purpose or role of the function or variable.\n",
    "   - Aim for clarity and readability so that someone reading your code can easily understand its intent.\n",
    "\n",
    "**2. Follow PEP 8:**\n",
    "   - PEP 8 is the Python Enhancement Proposal that provides style guidelines for writing clean, readable code.\n",
    "   - It recommends using lowercase letters for function and variable names, separating words with underscores (snake_case).\n",
    "   - Function and variable names should be lowercase, with words separated by underscores, e.g., `calculate_average`, `user_input`.\n",
    "\n",
    "**3. Use Verb-Noun Naming for Functions:**\n",
    "   - When naming functions, start with a verb that describes the action the function performs, followed by a noun that represents the object or subject of the action.\n",
    "   - For example, `calculate_average`, `get_user_input`.\n",
    "\n",
    "**4. Be Consistent:**\n",
    "   - Maintain consistency in naming throughout your codebase. Use the same naming style for functions and variables.\n",
    "   - Consistency makes it easier for developers to understand and work with your code.\n",
    "\n",
    "**5. Avoid Single-Letter or Ambiguous Names:**\n",
    "   - Avoid using single-letter variable names like `i`, `j`, or `x` unless they have a specific purpose within a small scope (e.g., loop counters).\n",
    "   - Choose names that convey meaning rather than relying on cryptic abbreviations.\n",
    "\n",
    "**6. Use Plural Nouns for Collections:**\n",
    "   - When naming variables that represent collections (lists, dictionaries, etc.), use plural nouns to indicate that it's a collection.\n",
    "   - For example, `students`, `employees`, `user_data`.\n",
    "\n",
    "**7. Be Mindful of Variable Scope:**\n",
    "   - Use meaningful variable names to avoid naming conflicts and to clarify variable scope.\n",
    "   - Local variables in functions should have descriptive names to distinguish them from global variables.\n",
    "\n",
    "**8. Avoid Reserved Words:**\n",
    "   - Avoid using Python's reserved words (keywords) as function or variable names, as they have special meanings in the language.\n",
    "\n",
    "**9. Follow Conventions for Constants:**\n",
    "   - Use uppercase letters with underscores (UPPER_CASE) for constants to distinguish them from regular variables.\n",
    "   - For example, `PI`, `MAX_VALUE`.\n",
    "\n",
    "**10. Use CamelCase for Class Names:**\n",
    "    - When naming classes, use CamelCase, where each word is capitalized without spaces or underscores.\n",
    "    - For example, `UserInfo`, `RectangleShape`.\n",
    "\n",
    "**11. Document Using Docstrings:**\n",
    "    - Include informative docstrings for functions, classes, and modules to provide context and usage information.\n",
    "\n",
    "**12. Consider the Domain and Problem Space:**\n",
    "    - When working on domain-specific code, consider using domain-related terminology in function and variable names to align with the problem space.\n",
    "\n",
    "**13. Review and Refactor:**\n",
    "    - Periodically review your codebase for naming consistency and clarity. Refactor when necessary to improve names.\n",
    "\n",
    "Here's an example that follows these best practices:\n",
    "\n",
    "```python\n",
    "# Function with a descriptive name in snake_case\n",
    "def calculate_average(scores):\n",
    "    '''\n",
    "    Calculates the average of a list of scores.\n",
    "\n",
    "    Parameters:\n",
    "    scores (list): A list of numeric scores.\n",
    "\n",
    "    Returns:\n",
    "    float: The calculated average.\n",
    "    '''\n",
    "    if not scores:\n",
    "        return 0.0\n",
    "    total = sum(scores)\n",
    "    return total / len(scores)\n",
    "\n",
    "# Descriptive variable names\n",
    "student_names = ['Alice', 'Bob', 'Charlie']\n",
    "total_students = len(student_names)\n",
    "```\n",
    "\n",
    "By adhering to these best practices, you can write code that is more readable, maintainable, and collaborative, making it easier for you and others to work with the codebase."
   ]
  }
 ],
 "metadata": {
  "kernelspec": {
   "display_name": "Python 3 (ipykernel)",
   "language": "python",
   "name": "python3"
  },
  "language_info": {
   "codemirror_mode": {
    "name": "ipython",
    "version": 3
   },
   "file_extension": ".py",
   "mimetype": "text/x-python",
   "name": "python",
   "nbconvert_exporter": "python",
   "pygments_lexer": "ipython3",
   "version": "3.10.8"
  }
 },
 "nbformat": 4,
 "nbformat_minor": 5
}
