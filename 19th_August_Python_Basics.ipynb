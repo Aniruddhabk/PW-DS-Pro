{
 "cells": [
  {
   "cell_type": "markdown",
   "id": "46b5ee36-22ca-4412-b4ef-02a56fb8cbdb",
   "metadata": {},
   "source": [
    "## TOPIC: Python Basics Variable\n"
   ]
  },
  {
   "cell_type": "markdown",
   "id": "d66c16e5-c898-4a61-85bd-db1391a55929",
   "metadata": {},
   "source": [
    "### 1. Declare two variables, `x` and `y`, and assign them integer values. Swap the values of these variables without using any temporary variable."
   ]
  },
  {
   "cell_type": "code",
   "execution_count": 1,
   "id": "ea32da13-3e35-43dc-8498-46455f365e1d",
   "metadata": {},
   "outputs": [
    {
     "name": "stdout",
     "output_type": "stream",
     "text": [
      "After swapping:\n",
      "x = 200\n",
      "y = 100\n"
     ]
    }
   ],
   "source": [
    "# declaration\n",
    "x = 100\n",
    "y = 200\n",
    "\n",
    "\n",
    "x = x + y\n",
    "y = x - y\n",
    "x = x - y\n",
    "\n",
    "print(\"After swapping:\")\n",
    "print(\"x =\", x)\n",
    "print(\"y =\", y)\n"
   ]
  },
  {
   "cell_type": "markdown",
   "id": "18c0097d-aee2-4c54-9a95-bb012231bdfc",
   "metadata": {},
   "source": []
  },
  {
   "cell_type": "markdown",
   "id": "82cf9213-b769-4e6f-941a-e7978feeb83d",
   "metadata": {},
   "source": [
    "### 2. Create a program that calculates the area of a rectangle. Take the length and width as inputs from the user and store them in variables. Calculate and display the area."
   ]
  },
  {
   "cell_type": "code",
   "execution_count": 3,
   "id": "e06395e0-8536-45ad-ac26-6a5547c39443",
   "metadata": {},
   "outputs": [
    {
     "name": "stdin",
     "output_type": "stream",
     "text": [
      "Enter the length of the rectangle:  10\n",
      "Enter the width of the rectangle:  10\n"
     ]
    },
    {
     "name": "stdout",
     "output_type": "stream",
     "text": [
      "The area of the rectangle is: 100.0\n"
     ]
    }
   ],
   "source": [
    "# Taking input from the user for length and width\n",
    "length = float(input(\"Enter the length of the rectangle: \"))\n",
    "width = float(input(\"Enter the width of the rectangle: \"))\n",
    "\n",
    "# Calculating the area of the rectangle\n",
    "area = length * width\n",
    "\n",
    "# Displaying the calculated area\n",
    "print(\"The area of the rectangle is:\", area)\n"
   ]
  },
  {
   "cell_type": "markdown",
   "id": "82d80667-77d1-4c79-b680-3a5f65286572",
   "metadata": {},
   "source": []
  },
  {
   "cell_type": "markdown",
   "id": "3ebce60f-030a-4dd0-a886-b8a576057569",
   "metadata": {},
   "source": [
    "### 3. Write a Python program that converts temperatures from Celsius to Fahrenheit. Take the temperature in Celsius as input, store it in a variable,convert it to Fahrenheit, and display the result."
   ]
  },
  {
   "cell_type": "code",
   "execution_count": 4,
   "id": "14f829f3-eefc-4516-87f9-e57460a7e46c",
   "metadata": {},
   "outputs": [
    {
     "name": "stdin",
     "output_type": "stream",
     "text": [
      "Enter the temperature in Celsius:  1\n"
     ]
    },
    {
     "name": "stdout",
     "output_type": "stream",
     "text": [
      "Temperature in Fahrenheit: 33.8\n"
     ]
    }
   ],
   "source": [
    "# Taking input from the user for temperature in Celsius\n",
    "celsius = float(input(\"Enter the temperature in Celsius: \"))\n",
    "\n",
    "# Converting Celsius to Fahrenheit\n",
    "fahrenheit = (celsius * 9/5) + 32\n",
    "\n",
    "# Displaying the converted temperature in Fahrenheit\n",
    "print(\"Temperature in Fahrenheit:\", fahrenheit)\n"
   ]
  },
  {
   "cell_type": "markdown",
   "id": "5a2f41cd-6a72-421d-a70e-9bc020508d50",
   "metadata": {},
   "source": []
  },
  {
   "cell_type": "markdown",
   "id": "5b005475-9bb9-4d70-a657-d3e496d62761",
   "metadata": {},
   "source": [
    "## TOPIC: String Based Questions"
   ]
  },
  {
   "cell_type": "markdown",
   "id": "715c3474-2545-4b3b-8fef-01febaf2d367",
   "metadata": {},
   "source": [
    "### 1. Write a Python program that takes a string as input and prints the length of the string."
   ]
  },
  {
   "cell_type": "code",
   "execution_count": 10,
   "id": "f87d9f9a-390c-43c9-b868-718a89ac448c",
   "metadata": {},
   "outputs": [
    {
     "name": "stdin",
     "output_type": "stream",
     "text": [
      "enter any string  aniruddha\n"
     ]
    },
    {
     "name": "stdout",
     "output_type": "stream",
     "text": [
      "length of the string  aniruddha is : 9\n"
     ]
    }
   ],
   "source": [
    "# Taking input from user as a string\n",
    "string1 = input(\"enter any string \")\n",
    "\n",
    "# storing length of the string in a varible\n",
    "length = len(string1)\n",
    "\n",
    "# showing length of the string\n",
    "print(\"length of the string \", string1 ,\"is :\",length) "
   ]
  },
  {
   "cell_type": "markdown",
   "id": "b7be3dd9-67c3-42fe-8052-c29f712b4dd2",
   "metadata": {},
   "source": []
  },
  {
   "cell_type": "markdown",
   "id": "8a81d35f-cf45-4356-9194-477f2492c472",
   "metadata": {},
   "source": [
    "### 2. Create a program that takes a sentence from the user and counts the number of vowels (a, e, i, o, u) in the string."
   ]
  },
  {
   "cell_type": "code",
   "execution_count": 9,
   "id": "f323e0ec-0bf6-4059-ab9b-649bfdf3879e",
   "metadata": {},
   "outputs": [
    {
     "name": "stdin",
     "output_type": "stream",
     "text": [
      "Enter a sentence:  hello, my name is aniruddha\n"
     ]
    },
    {
     "name": "stdout",
     "output_type": "stream",
     "text": [
      "Number of vowels in the sentence: 9\n"
     ]
    }
   ],
   "source": [
    "# without using for\n",
    "# Taking input from the user\n",
    "sentence = input(\"Enter a sentence: \")\n",
    "\n",
    "# Converting the sentence to lowercase\n",
    "sentence = sentence.lower()\n",
    "\n",
    "# Counting the number of each vowel\n",
    "a_count = sentence.count('a')\n",
    "e_count = sentence.count('e')\n",
    "i_count = sentence.count('i')\n",
    "o_count = sentence.count('o')\n",
    "u_count = sentence.count('u')\n",
    "\n",
    "# Calculating the total vowel count\n",
    "total_vowel_count = a_count + e_count + i_count + o_count + u_count\n",
    "\n",
    "# Displaying the total vowel count\n",
    "print(\"Number of vowels in the sentence:\", total_vowel_count)\n"
   ]
  },
  {
   "cell_type": "markdown",
   "id": "d2b5401a-f23d-4801-9b5c-fbb712b9a1e4",
   "metadata": {},
   "source": []
  },
  {
   "cell_type": "markdown",
   "id": "12650205-d2b0-4ffb-b51f-ca9bb1a2dd11",
   "metadata": {},
   "source": [
    "### 3. Given a string, reverse the order of characters using string slicing and print the reversed string."
   ]
  },
  {
   "cell_type": "code",
   "execution_count": 20,
   "id": "10b3115f-5eab-4d25-935d-93d968864710",
   "metadata": {},
   "outputs": [
    {
     "name": "stdin",
     "output_type": "stream",
     "text": [
      "enter any string aniruddha kokate\n"
     ]
    },
    {
     "name": "stdout",
     "output_type": "stream",
     "text": [
      "reversed string :  etakok ahddurina\n"
     ]
    }
   ],
   "source": [
    "# taking input as a string form the user\n",
    "string2 = input(\"enter any string\")\n",
    "\n",
    "#using slicing method to reverse the string order\n",
    "string3 = string2[::-1]\n",
    "\n",
    "# display reversed string\n",
    "print(\"reversed string : \",string3)"
   ]
  },
  {
   "cell_type": "markdown",
   "id": "5bd1c3c8-2922-45ab-b460-26b1ebd3d98d",
   "metadata": {},
   "source": []
  },
  {
   "cell_type": "markdown",
   "id": "e85932b1-1251-4d58-bb48-cce704adc9af",
   "metadata": {},
   "source": [
    "### 4. Write a program that takes a string as input and checks if it is a palindrome (reads the same forwards and backwards)."
   ]
  },
  {
   "cell_type": "code",
   "execution_count": 22,
   "id": "593f21f9-c0ac-4773-b616-60b44c6481bd",
   "metadata": {},
   "outputs": [
    {
     "name": "stdin",
     "output_type": "stream",
     "text": [
      "enter any string aniruddha \n"
     ]
    },
    {
     "name": "stdout",
     "output_type": "stream",
     "text": [
      "The input string is not a palindrome.\n"
     ]
    }
   ],
   "source": [
    "# taking input as a string form the user\n",
    "string4 = input(\"enter any string\")\n",
    "\n",
    "\n",
    "# Removing spaces and converting the string to lowercase\n",
    "cleaned_string = string4.replace(\" \", \"\").lower()\n",
    "\n",
    "# Reversing the string using slicing\n",
    "reversed_string = cleaned_string[::-1]\n",
    "\n",
    "# Checking if the original and reversed strings are the same\n",
    "if cleaned_string == reversed_string:\n",
    "    print(\"The input string is a palindrome.\")\n",
    "else:\n",
    "    print(\"The input string is not a palindrome.\")\n",
    "\n"
   ]
  },
  {
   "cell_type": "markdown",
   "id": "8eb18505-ef3a-48c5-90fb-70ee6f5d105f",
   "metadata": {},
   "source": []
  },
  {
   "cell_type": "markdown",
   "id": "af3c05b8-2846-494b-90bf-1d2aeacc3a1b",
   "metadata": {},
   "source": [
    "### 5. Create a program that takes a string as input and removes all the spaces from it. Print the modified string without spaces."
   ]
  },
  {
   "cell_type": "code",
   "execution_count": 25,
   "id": "49beb67d-8989-41ed-b52f-42277ac5b2fc",
   "metadata": {},
   "outputs": [
    {
     "name": "stdin",
     "output_type": "stream",
     "text": [
      "enter any string aniruddha kokate\n"
     ]
    },
    {
     "name": "stdout",
     "output_type": "stream",
     "text": [
      "aniruddhakokate\n"
     ]
    }
   ],
   "source": [
    "# taking input as a string form the user\n",
    "string5 = input(\"enter any string\")\n",
    "\n",
    "# Removing spaces\n",
    "cleaned_string = string5.replace(\" \", \"\")\n",
    "\n",
    "#output\n",
    "print(cleaned_string)"
   ]
  }
 ],
 "metadata": {
  "kernelspec": {
   "display_name": "Python 3 (ipykernel)",
   "language": "python",
   "name": "python3"
  },
  "language_info": {
   "codemirror_mode": {
    "name": "ipython",
    "version": 3
   },
   "file_extension": ".py",
   "mimetype": "text/x-python",
   "name": "python",
   "nbconvert_exporter": "python",
   "pygments_lexer": "ipython3",
   "version": "3.10.8"
  }
 },
 "nbformat": 4,
 "nbformat_minor": 5
}
