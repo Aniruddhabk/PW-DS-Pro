{
 "cells": [
  {
   "cell_type": "markdown",
   "id": "46b5ee36-22ca-4412-b4ef-02a56fb8cbdb",
   "metadata": {},
   "source": [
    "## TOPIC: For Loop Based Assignment Problem\n"
   ]
  },
  {
   "cell_type": "markdown",
   "id": "8190219b-c6e4-4f35-957b-04032c02eb40",
   "metadata": {},
   "source": [
    "### Basic Level:\n",
    "\n",
    "\n",
    "\n"
   ]
  },
  {
   "cell_type": "markdown",
   "id": "18c0097d-aee2-4c54-9a95-bb012231bdfc",
   "metadata": {},
   "source": [
    "#### 1. Write a Python program to print the numbers from 1 to 10 using a `for` loop."
   ]
  },
  {
   "cell_type": "code",
   "execution_count": 1,
   "id": "9b05471a-e6b9-45ce-930c-979874e5169a",
   "metadata": {},
   "outputs": [
    {
     "name": "stdout",
     "output_type": "stream",
     "text": [
      "1\n",
      "2\n",
      "3\n",
      "4\n",
      "5\n",
      "6\n",
      "7\n",
      "8\n",
      "9\n",
      "10\n"
     ]
    }
   ],
   "source": [
    "#use for loop \n",
    "for i in range(1,11):\n",
    "    print(i)\n"
   ]
  },
  {
   "cell_type": "markdown",
   "id": "8f0e62a0-8550-4aa8-9701-0f688aa999f4",
   "metadata": {},
   "source": [
    "* This code uses the range() function to generate a sequence of numbers from 1 to 10 (inclusive), and the for loop iterates through each number in the sequence, printing it to the console"
   ]
  },
  {
   "cell_type": "markdown",
   "id": "82cf9213-b769-4e6f-941a-e7978feeb83d",
   "metadata": {},
   "source": [
    "### 2. Create a program that calculates the sum of all numbers in a list using a `for` loop."
   ]
  },
  {
   "cell_type": "code",
   "execution_count": 9,
   "id": "e06395e0-8536-45ad-ac26-6a5547c39443",
   "metadata": {},
   "outputs": [
    {
     "name": "stdout",
     "output_type": "stream",
     "text": [
      "120\n"
     ]
    }
   ],
   "source": [
    "# step 1 : create alist\n",
    "list_of_num = [ 1,2,3,4,5,6,7,8,9,10,11,12,13,14,15]\n",
    "\n",
    "#step 2 : create a varible for total \n",
    "total_num = 0\n",
    "\n",
    "# step 3 : use for loop for itration and add list numbers into total_num \n",
    "for num in list_of_num:\n",
    "    total_num = total_num + num \n",
    "print(total_num)\n",
    "\n"
   ]
  },
  {
   "cell_type": "markdown",
   "id": "82d80667-77d1-4c79-b680-3a5f65286572",
   "metadata": {},
   "source": [
    "* In this program, we first define a list called numbers, and then we initialize a variable called total to store the sum of the numbers. The for loop iterates through each element in the numbers list, and in each iteration, it adds the current number to the total variable. Finally, we print the total sum."
   ]
  },
  {
   "cell_type": "markdown",
   "id": "3ebce60f-030a-4dd0-a886-b8a576057569",
   "metadata": {},
   "source": [
    "### 3. Write a program to print the characters of a string in reverse order using a `for` loop."
   ]
  },
  {
   "cell_type": "code",
   "execution_count": 11,
   "id": "14f829f3-eefc-4516-87f9-e57460a7e46c",
   "metadata": {},
   "outputs": [
    {
     "name": "stdin",
     "output_type": "stream",
     "text": [
      "enter any string anir\n"
     ]
    },
    {
     "name": "stdout",
     "output_type": "stream",
     "text": [
      "Reversed string: rina\n"
     ]
    }
   ],
   "source": [
    "# Taking input from the user\n",
    "input_string1 = input(\"enter any string\")\n",
    "\n",
    "# Initialize an empty string to store the reversed characters\n",
    "reversed_string = \"\"\n",
    "\n",
    "# Use a for loop to iterate through the string in reverse order\n",
    "for char in reversed(input_string1):\n",
    "    reversed_string += char\n",
    "\n",
    "# Print the reversed string\n",
    "print(\"Reversed string:\", reversed_string)"
   ]
  },
  {
   "cell_type": "markdown",
   "id": "36a2437b-9812-432c-8325-a52de6cd21d2",
   "metadata": {},
   "source": [
    "* In this program, we start with an input string (input_string) and initialize an empty string (reversed_string) to store the reversed characters. The for loop iterates through the input_string in reverse order using the reversed() function and appends each character to the reversed_string. Finally, we print the reversed string."
   ]
  },
  {
   "cell_type": "markdown",
   "id": "5a2f41cd-6a72-421d-a70e-9bc020508d50",
   "metadata": {},
   "source": [
    "### 4. Develop a program that finds the factorial of a given number using a `for` loop.\n"
   ]
  },
  {
   "cell_type": "code",
   "execution_count": 18,
   "id": "2ff54baf-7e03-41da-9d98-d59d4db79dce",
   "metadata": {},
   "outputs": [
    {
     "data": {
      "text/plain": [
       "6"
      ]
     },
     "execution_count": 18,
     "metadata": {},
     "output_type": "execute_result"
    }
   ],
   "source": [
    "# create a fucntion for factorial number\n",
    "def fact_num(num):\n",
    "    fact = 1\n",
    "    for i in range(1,num+1):\n",
    "        fact = fact * i\n",
    "    return fact\n",
    "fact_num(3)"
   ]
  },
  {
   "cell_type": "markdown",
   "id": "b7abaaef-f1c1-4453-810f-45da50f2c834",
   "metadata": {},
   "source": [
    "* In this program:\n",
    "\n",
    "We first get the input number from the user using input(). Since input() returns a string, we convert it to an integer using int().\n",
    "\n",
    "We initialize a variable factorial to 1. This variable will be used to store the factorial value.\n",
    "\n",
    "We use a for loop to iterate from 1 to the given number (num) using range(1, num + 1). In each iteration, we multiply the factorial by the current value of i.\n",
    "\n",
    "Finally, we print the calculated factorial."
   ]
  },
  {
   "cell_type": "markdown",
   "id": "2988dbc2-e491-42a3-b0a7-4407c5dbfccd",
   "metadata": {},
   "source": [
    "### 5. Create a program to print the multiplication table of a given number using a `for` loop.\n"
   ]
  },
  {
   "cell_type": "code",
   "execution_count": 21,
   "id": "f0c0d80a-1413-49c9-bf55-922900bdd5dd",
   "metadata": {},
   "outputs": [
    {
     "name": "stdin",
     "output_type": "stream",
     "text": [
      "enter table number 5\n"
     ]
    },
    {
     "name": "stdout",
     "output_type": "stream",
     "text": [
      "5 * 1 = 5\n",
      "5 * 2 = 10\n",
      "5 * 3 = 15\n",
      "5 * 4 = 20\n",
      "5 * 5 = 25\n",
      "5 * 6 = 30\n",
      "5 * 7 = 35\n",
      "5 * 8 = 40\n",
      "5 * 9 = 45\n",
      "5 * 10 = 50\n"
     ]
    }
   ],
   "source": [
    "# taking input from user\n",
    "num1 = int(input(\"enter table number\"))\n",
    "\n",
    "#create a varible for storing \n",
    "total = 1\n",
    "\n",
    "# use for loop for calculating table\n",
    "for i in range(1,11):\n",
    "    total = num1 * i\n",
    "    print(f\"{num1} * {i} = { total}\")\n"
   ]
  },
  {
   "cell_type": "markdown",
   "id": "e611b070-3f39-4464-b9d2-6811bd22d59f",
   "metadata": {},
   "source": [
    "* In this program:\n",
    "\n",
    "We first get the input number from the user using input() and convert it to an integer using int().\n",
    "\n",
    "We use a for loop to iterate from 1 to 10 using range(1, 11). In each iteration, we calculate the product of the input number (num) and the current value of i.\n",
    "\n",
    "We print each multiplication operation in the format \"num x i = product\" where num is the input number, i is the current value of the loop variable, and product is the result of the multiplication."
   ]
  },
  {
   "cell_type": "markdown",
   "id": "eb37e471-4d0b-4844-b386-7862f23855a3",
   "metadata": {},
   "source": [
    "### 6. Write a program that counts the number of even and odd numbers in a list using a `for` loop.\n"
   ]
  },
  {
   "cell_type": "code",
   "execution_count": 25,
   "id": "23500ce1-cc58-4644-a2e0-fa6777adb957",
   "metadata": {},
   "outputs": [
    {
     "name": "stdout",
     "output_type": "stream",
     "text": [
      "even count = 30 and odd count = 25\n"
     ]
    }
   ],
   "source": [
    "# creat a list\n",
    "list_of_num1 = [1,2,3,4,5,6,7,8,9,10]\n",
    "\n",
    "#create a count varible for storing count\n",
    "even_count = 0\n",
    "odd_count = 0\n",
    "#calculate using for loop\n",
    "for i in list_of_num1:\n",
    "    if i %2==0 :\n",
    "        even_count = even_count + i\n",
    "    else :\n",
    "        odd_count = odd_count + i\n",
    "\n",
    "#print output\n",
    "print(f\"even count = {even_count} and odd count = {odd_count}\")"
   ]
  },
  {
   "cell_type": "markdown",
   "id": "2a538e77-7a1e-4ef5-bf02-abdccdff987b",
   "metadata": {},
   "source": [
    "* In this program:\n",
    "\n",
    "We start by defining a list called numbers that contains a set of numbers.\n",
    "\n",
    "We initialize two variables, even_count and odd_count, to zero. These variables will be used to count the even and odd numbers, respectively.\n",
    "\n",
    "We use a for loop to iterate through each number in the numbers list. Inside the loop, we use the modulo operator % to check if the number is even (i.e., its remainder when divided by 2 is 0). If it's even, we increment the even_count variable; otherwise, we increment the odd_count variable.\n",
    "\n",
    "Finally, we print the counts of even and odd numbers."
   ]
  },
  {
   "cell_type": "markdown",
   "id": "a8910c45-18d5-456d-bc79-6ff0b7cc7e78",
   "metadata": {},
   "source": [
    "### 7. Develop a program that prints the squares of numbers from 1 to 5 using a `for` loop.\n"
   ]
  },
  {
   "cell_type": "code",
   "execution_count": 31,
   "id": "fb7a6e7d-30c5-4ac1-8737-b12c1d7154f6",
   "metadata": {},
   "outputs": [
    {
     "name": "stdout",
     "output_type": "stream",
     "text": [
      "1^2 = 1\n",
      "2^2 = 4\n",
      "3^2 = 9\n",
      "4^2 = 16\n",
      "5^2 = 25\n"
     ]
    }
   ],
   "source": [
    "#create a varible for squares of t\n",
    "sqr = 1\n",
    "\n",
    "#calculate using for \n",
    "for i in range(1,6):\n",
    "    sqr = i*i\n",
    "    print(f\"{i}^2 = {sqr}\")"
   ]
  },
  {
   "cell_type": "markdown",
   "id": "4b65e0f8-bba1-4e9f-9397-74585e955fcd",
   "metadata": {},
   "source": [
    "* In this program:\n",
    "\n",
    "We use a for loop with the range() function to iterate from 1 to 5 (inclusive). The range(1, 6) generates numbers from 1 to 5.\n",
    "\n",
    "In each iteration, we calculate the square of the current number (num) by raising it to the power of 2 using the ** operator and store it in the square variable.\n",
    "\n",
    "We then print the square of the number in the format \"The square of num is square,\" where num is the current number, and square is its square.\n"
   ]
  },
  {
   "cell_type": "markdown",
   "id": "3baef75f-92ce-40c0-bb2c-de0244f9fa20",
   "metadata": {},
   "source": [
    "### 8. Create a program to find the length of a string without using the `len()` function.\n"
   ]
  },
  {
   "cell_type": "code",
   "execution_count": 35,
   "id": "a2854cb2-eab9-4319-9876-2547e94244fe",
   "metadata": {},
   "outputs": [
    {
     "name": "stdin",
     "output_type": "stream",
     "text": [
      "enter any string nn\n"
     ]
    },
    {
     "name": "stdout",
     "output_type": "stream",
     "text": [
      "2\n"
     ]
    }
   ],
   "source": [
    "# take string from user\n",
    "str = input(\"enter any string\")\n",
    "\n",
    "#create a varible for counting \n",
    "count = 0\n",
    "\n",
    "# calculate using for\n",
    "for i in str:\n",
    "    count = count+1\n",
    "    \n",
    "print(count)\n",
    "    "
   ]
  },
  {
   "cell_type": "markdown",
   "id": "823b0fab-c964-4668-ae35-cb9fa022cf4e",
   "metadata": {},
   "source": [
    "* We first get the input string from the user using input().\n",
    "\n",
    "We initialize a variable called count to 0. This variable will be used to count the characters in the string.\n",
    "\n",
    "We use a for loop to iterate through each character in the input string. In each iteration, we increment the count variable by 1.\n",
    "\n",
    "After the loop has finished iterating through all the characters in the string, we print the value of count, which represents the length of the string"
   ]
  },
  {
   "cell_type": "markdown",
   "id": "810f6fcf-6148-449d-b3a3-62e3bbd34dbb",
   "metadata": {},
   "source": [
    "### 9. Write a program that calculates the average of a list of numbers using a `for` loop.\n"
   ]
  },
  {
   "cell_type": "code",
   "execution_count": 42,
   "id": "900e03e5-f4b7-4690-bf81-9d18655330c1",
   "metadata": {},
   "outputs": [
    {
     "name": "stdout",
     "output_type": "stream",
     "text": [
      "average = 550.0\n"
     ]
    }
   ],
   "source": [
    "#take list \n",
    "listnum = [100,200,300,500,400,600,700,800,900,1000]\n",
    "\n",
    "#create a varible for average ,totalnum\n",
    "average =0\n",
    "totalnum=0\n",
    "#calculate using for\n",
    "for i in listnum:\n",
    "    totalnum = totalnum +i\n",
    "average = totalnum / len(listnum)\n",
    "\n",
    "print(f\"average = {average}\")"
   ]
  },
  {
   "cell_type": "markdown",
   "id": "001a001b-fb6f-4edd-997c-1bd3b988c9e9",
   "metadata": {},
   "source": [
    "### 10. Develop a program that prints the first `n` Fibonacci numbers using a `for` loop."
   ]
  },
  {
   "cell_type": "code",
   "execution_count": 57,
   "id": "c809f377-bbe2-441b-8cad-e68bf24e46b6",
   "metadata": {},
   "outputs": [
    {
     "name": "stdout",
     "output_type": "stream",
     "text": [
      "0 1 1 2 3 5 8 13 "
     ]
    }
   ],
   "source": [
    "def fibonacci_numbers(num):\n",
    "    if num == 0:\n",
    "        return 0\n",
    "    elif num == 1:\n",
    "        return 1\n",
    "    else:\n",
    "        # printing fibonacci numbers\n",
    "        return fibonacci_numbers(num-2)+fibonacci_numbers(num-1)\n",
    "\n",
    "\n",
    "n = 8\n",
    "for i in range(0, n):\n",
    "    print(fibonacci_numbers(i), end=\" \")\n"
   ]
  },
  {
   "cell_type": "code",
   "execution_count": null,
   "id": "638eb6b1-6156-4355-9a99-eedf1abd73ba",
   "metadata": {},
   "outputs": [],
   "source": []
  },
  {
   "cell_type": "code",
   "execution_count": null,
   "id": "50321942-4fe2-4ad2-9d33-f3ef219548b0",
   "metadata": {},
   "outputs": [],
   "source": []
  },
  {
   "cell_type": "markdown",
   "id": "aae700c4-3506-4aaa-b30a-22bb59e1a756",
   "metadata": {},
   "source": [
    "### Intermediate Level:\n",
    "\n",
    "\n",
    "\n",
    "\n",
    "\n"
   ]
  },
  {
   "cell_type": "markdown",
   "id": "69b93f26-2a52-4bea-8d1a-7700d8280a62",
   "metadata": {},
   "source": [
    "### 11. Write a program to check if a given list contains any duplicates using a `for` loop."
   ]
  },
  {
   "cell_type": "code",
   "execution_count": 59,
   "id": "518efe19-25a9-492f-bc37-a7f55abb48c4",
   "metadata": {},
   "outputs": [
    {
     "name": "stdout",
     "output_type": "stream",
     "text": [
      "The list contains duplicates.\n"
     ]
    }
   ],
   "source": [
    "# take list with duplicates \n",
    "list1 = (1, 2, 3, 4, 5, 6, 7, 8, 9, 5)  # Example tuple with a duplicate\n",
    "\n",
    "# Convert the list to a set\n",
    "unique_set = set(list1)\n",
    "\n",
    "# Check if the length of the set is different from the length of the list\n",
    "if len(unique_set) != len(list1):\n",
    "    print(\"The list contains duplicates.\")\n",
    "else:\n",
    "    print(\"The list does not contain duplicates.\")\n"
   ]
  },
  {
   "cell_type": "markdown",
   "id": "78b14c3a-1f9f-49bc-9cd1-4532b84b6c47",
   "metadata": {},
   "source": [
    "### 12. Create a program that prints the prime numbers in a given range using a `for` loop."
   ]
  },
  {
   "cell_type": "code",
   "execution_count": 60,
   "id": "47c4478a-96e6-4b53-b682-b977556d32ad",
   "metadata": {},
   "outputs": [
    {
     "name": "stdin",
     "output_type": "stream",
     "text": [
      "Enter the start of the range:  1\n",
      "Enter the end of the range:  20\n"
     ]
    },
    {
     "name": "stdout",
     "output_type": "stream",
     "text": [
      "Prime numbers in the range:\n",
      "2 3 5 7 11 13 17 19 "
     ]
    }
   ],
   "source": [
    "# Input: Get the range from the user\n",
    "start = int(input(\"Enter the start of the range: \"))\n",
    "end = int(input(\"Enter the end of the range: \"))\n",
    "\n",
    "# Function to check if a number is prime\n",
    "def is_prime(num):\n",
    "    if num <= 1:\n",
    "        return False\n",
    "    for i in range(2, int(num**0.5) + 1):\n",
    "        if num % i == 0:\n",
    "            return False\n",
    "    return True\n",
    "\n",
    "# Use a for loop to iterate through the range and print prime numbers\n",
    "print(\"Prime numbers in the range:\")\n",
    "for num in range(start, end + 1):\n",
    "    if is_prime(num):\n",
    "        print(num, end=\" \")\n"
   ]
  },
  {
   "cell_type": "markdown",
   "id": "915c0d83-5d7d-4805-8f86-fa92c08e4b0e",
   "metadata": {},
   "source": [
    "### 13. Develop a program that counts the number of vowels in a string using a `for` loop."
   ]
  },
  {
   "cell_type": "code",
   "execution_count": 79,
   "id": "bd6b0c72-2d67-4a29-bcb4-55c1d12495ef",
   "metadata": {},
   "outputs": [
    {
     "name": "stdin",
     "output_type": "stream",
     "text": [
      "enter any string arfghkGYUJBKI\n"
     ]
    },
    {
     "name": "stdout",
     "output_type": "stream",
     "text": [
      "string contains vowels\n"
     ]
    }
   ],
   "source": [
    "# enter a string\n",
    "str1 = input(\"enter any string\").lower()\n",
    "vowels =\"aeiou\"\n",
    "# calculate usnig for loop \n",
    "for char in str1:\n",
    "    if char in vowels:\n",
    "        \n",
    "        print(\"string contains vowels\")\n",
    "        break\n",
    "    else:\n",
    "        print(\"string dose not contains vowels\")"
   ]
  },
  {
   "cell_type": "markdown",
   "id": "b9bf8668-80c6-4074-ab28-09f83838bd36",
   "metadata": {},
   "source": [
    "### 14. Write a program to find the maximum element in a 2D list using a nested `for` loop."
   ]
  },
  {
   "cell_type": "code",
   "execution_count": 80,
   "id": "7998fe14-f1ec-4bbd-9a39-cd7353666f23",
   "metadata": {},
   "outputs": [
    {
     "name": "stdout",
     "output_type": "stream",
     "text": [
      "The maximum element in the 2D list is: 15\n"
     ]
    }
   ],
   "source": [
    "# Define a 2D list\n",
    "matrix = [\n",
    "    [10, 5, 8],\n",
    "    [7, 3, 12],\n",
    "    [6, 9, 15]\n",
    "]\n",
    "\n",
    "# Initialize a variable to store the maximum element\n",
    "max_element = matrix[0][0]  # Assume the first element is the maximum\n",
    "\n",
    "# Use nested for loops to iterate through the 2D list\n",
    "for row in matrix:\n",
    "    for element in row:\n",
    "        if element > max_element:\n",
    "            max_element = element\n",
    "\n",
    "# Print the maximum element\n",
    "print(\"The maximum element in the 2D list is:\", max_element)\n"
   ]
  },
  {
   "cell_type": "markdown",
   "id": "8d70dc5b-ef38-471e-9fa7-bd1690d6b41e",
   "metadata": {},
   "source": [
    "### 15. Create a program that removes all occurrences of a specific element from a list using a `for` loop.\n"
   ]
  },
  {
   "cell_type": "code",
   "execution_count": 88,
   "id": "67eea755-c5e9-4414-ac44-9ca34f6f6257",
   "metadata": {},
   "outputs": [
    {
     "name": "stdin",
     "output_type": "stream",
     "text": [
      "Enter the element to remove:  5\n"
     ]
    },
    {
     "name": "stdout",
     "output_type": "stream",
     "text": [
      "List after removing all occurrences of 5 : [1, 2, 3, 4, 2, 2]\n"
     ]
    }
   ],
   "source": [
    "##### Define a list\n",
    "my_list = [1, 2, 3, 4, 2,5,5,5,5,5,5,5, 5, 2]\n",
    "\n",
    "# Input: Get the element to remove from the user\n",
    "element_to_remove = int(input(\"Enter the element to remove: \"))\n",
    "\n",
    "# Use a for loop to remove all occurrences of the element\n",
    "for i in range(my_list.count(element_to_remove)):\n",
    "    my_list.remove(element_to_remove)\n",
    "\n",
    "# Print the updated list\n",
    "print(\"List after removing all occurrences of\", element_to_remove, \":\", my_list)\n"
   ]
  },
  {
   "cell_type": "markdown",
   "id": "acb3fbdb-a925-4537-932a-c602b0cf6e6b",
   "metadata": {},
   "source": [
    "### 16. Develop a program that generates a multiplication table for numbers from 1 to 5 using a nested `for` loop.\n"
   ]
  },
  {
   "cell_type": "code",
   "execution_count": 90,
   "id": "119229fb-8c09-4a39-b294-e8428f0b5ff6",
   "metadata": {},
   "outputs": [
    {
     "name": "stdout",
     "output_type": "stream",
     "text": [
      "Multiplication table for 1:\n",
      "1 x 1 = 1\n",
      "1 x 2 = 2\n",
      "1 x 3 = 3\n",
      "1 x 4 = 4\n",
      "1 x 5 = 5\n",
      "1 x 6 = 6\n",
      "1 x 7 = 7\n",
      "1 x 8 = 8\n",
      "1 x 9 = 9\n",
      "1 x 10 = 10\n",
      "\n",
      "Multiplication table for 2:\n",
      "2 x 1 = 2\n",
      "2 x 2 = 4\n",
      "2 x 3 = 6\n",
      "2 x 4 = 8\n",
      "2 x 5 = 10\n",
      "2 x 6 = 12\n",
      "2 x 7 = 14\n",
      "2 x 8 = 16\n",
      "2 x 9 = 18\n",
      "2 x 10 = 20\n",
      "\n",
      "Multiplication table for 3:\n",
      "3 x 1 = 3\n",
      "3 x 2 = 6\n",
      "3 x 3 = 9\n",
      "3 x 4 = 12\n",
      "3 x 5 = 15\n",
      "3 x 6 = 18\n",
      "3 x 7 = 21\n",
      "3 x 8 = 24\n",
      "3 x 9 = 27\n",
      "3 x 10 = 30\n",
      "\n",
      "Multiplication table for 4:\n",
      "4 x 1 = 4\n",
      "4 x 2 = 8\n",
      "4 x 3 = 12\n",
      "4 x 4 = 16\n",
      "4 x 5 = 20\n",
      "4 x 6 = 24\n",
      "4 x 7 = 28\n",
      "4 x 8 = 32\n",
      "4 x 9 = 36\n",
      "4 x 10 = 40\n",
      "\n",
      "Multiplication table for 5:\n",
      "5 x 1 = 5\n",
      "5 x 2 = 10\n",
      "5 x 3 = 15\n",
      "5 x 4 = 20\n",
      "5 x 5 = 25\n",
      "5 x 6 = 30\n",
      "5 x 7 = 35\n",
      "5 x 8 = 40\n",
      "5 x 9 = 45\n",
      "5 x 10 = 50\n",
      "\n"
     ]
    }
   ],
   "source": [
    "# Define the range of numbers for the multiplication table\n",
    "start = 1\n",
    "end = 5\n",
    "\n",
    "# Use nested for loops to generate the multiplication table\n",
    "for i in range(start, end + 1):\n",
    "    print(f\"Multiplication table for {i}:\")\n",
    "\n",
    "    for j in range(1, 11):\n",
    "        product = i * j\n",
    "        print(f\"{i} x {j} = {product}\")\n",
    "\n",
    "    # Add a newline to separate tables\n",
    "    print()\n"
   ]
  },
  {
   "cell_type": "markdown",
   "id": "de91444e-26bb-4b93-8a63-d56aa3dafdd6",
   "metadata": {},
   "source": [
    "### 17. Write a program that converts a list of Fahrenheit temperatures to Celsius using a `for` loop.\n"
   ]
  },
  {
   "cell_type": "code",
   "execution_count": 98,
   "id": "84ad96ed-2d1d-47d9-a8d7-bd73672cc5c2",
   "metadata": {},
   "outputs": [
    {
     "name": "stdout",
     "output_type": "stream",
     "text": [
      "Fahrenheit Temperatures: [32, 68, 104, 212, 50] Celsius Temperatures: [0.0, 20.0, 40.0, 100.0, 10.0]\n"
     ]
    }
   ],
   "source": [
    "# take list of temperatures in farenheit \n",
    "temp_list = [32, 68, 104, 212, 50]\n",
    "\n",
    "# create a empty list for celcsius temperatures\n",
    "cels_temp = []\n",
    "\n",
    "#use for loop for calculation\n",
    "for frht in temp_list:\n",
    "    celsius = (frht - 32) * 5/9\n",
    "    cels_temp.append(celsius)\n",
    "\n",
    "# Print the converted Celsius temperatures\n",
    "print(\"Fahrenheit Temperatures:\", temp_list  ,\"Celsius Temperatures:\", cels_temp)"
   ]
  },
  {
   "cell_type": "markdown",
   "id": "e99648af-252f-4fc5-9582-494e37315c3a",
   "metadata": {},
   "source": [
    "### 18. Create a program to print the common elements from two lists using a `for` loop.\n"
   ]
  },
  {
   "cell_type": "code",
   "execution_count": 99,
   "id": "9b8eb5ce-44f2-4320-b5ce-c2c5a700fedc",
   "metadata": {},
   "outputs": [
    {
     "name": "stdout",
     "output_type": "stream",
     "text": [
      "Common elements: [3, 4, 5]\n"
     ]
    }
   ],
   "source": [
    "# Define two lists\n",
    "list1 = [1, 2, 3, 4, 5]\n",
    "list2 = [3, 4, 5, 6, 7]\n",
    "\n",
    "# create an empty list to store common elements\n",
    "common_elements = []\n",
    "\n",
    "# Use a for loop to check for common elements\n",
    "for element1 in list1:\n",
    "    for element2 in list2:\n",
    "        if element1 == element2:\n",
    "            common_elements.append(element1)\n",
    "\n",
    "# Print the common elements\n",
    "print(\"Common elements:\", common_elements)\n"
   ]
  },
  {
   "cell_type": "markdown",
   "id": "c68c5cdb-a434-4bec-979e-cd8a03860d2d",
   "metadata": {},
   "source": [
    "### 19. Develop a program that prints the pattern of right-angled triangles using a `for` loop. Use ‘*’ to draw thepattern\n"
   ]
  },
  {
   "cell_type": "code",
   "execution_count": 100,
   "id": "c408191c-8c17-4ae1-9824-e4afa13fd0a1",
   "metadata": {},
   "outputs": [
    {
     "name": "stdin",
     "output_type": "stream",
     "text": [
      "Enter the height of the triangle:  5\n"
     ]
    },
    {
     "name": "stdout",
     "output_type": "stream",
     "text": [
      "*\n",
      "**\n",
      "***\n",
      "****\n",
      "*****\n"
     ]
    }
   ],
   "source": [
    "# Input: Get the height of the triangle from the user\n",
    "height = int(input(\"Enter the height of the triangle: \"))\n",
    "\n",
    "# Use a for loop to print the right-angled triangle pattern\n",
    "for i in range(1, height + 1):\n",
    "    print(\"*\" * i)\n"
   ]
  },
  {
   "cell_type": "markdown",
   "id": "fcc986ab-ddad-449d-aa80-37e841b9feee",
   "metadata": {},
   "source": [
    "### 20. Write a program to find the greatest common divisor (GCD) of two numbers using a `for` loop."
   ]
  },
  {
   "cell_type": "code",
   "execution_count": 101,
   "id": "2d741bd7-e9fe-4070-9e7a-31a79d548782",
   "metadata": {},
   "outputs": [
    {
     "name": "stdin",
     "output_type": "stream",
     "text": [
      "Enter the first number:  12\n",
      "Enter the second number:  25\n"
     ]
    },
    {
     "name": "stdout",
     "output_type": "stream",
     "text": [
      "The greatest common divisor (GCD) of 12 and 25 is 1\n"
     ]
    }
   ],
   "source": [
    "# Input: Get two numbers from the user\n",
    "num1 = int(input(\"Enter the first number: \"))\n",
    "num2 = int(input(\"Enter the second number: \"))\n",
    "\n",
    "# Initialize variables to store the two numbers\n",
    "a = num1\n",
    "b = num2\n",
    "\n",
    "# Use a for loop to find the GCD using the Euclidean algorithm\n",
    "while b:\n",
    "    a, b = b, a % b\n",
    "\n",
    "# Print the GCD\n",
    "print(\"The greatest common divisor (GCD) of\", num1, \"and\", num2, \"is\", a)\n"
   ]
  },
  {
   "cell_type": "code",
   "execution_count": null,
   "id": "557e31c2-cf8f-4775-86a5-87a87a6c392c",
   "metadata": {},
   "outputs": [],
   "source": []
  },
  {
   "cell_type": "markdown",
   "id": "f0926ebe-e5a4-4077-8aec-f40b8905a560",
   "metadata": {},
   "source": [
    "## Advance level"
   ]
  },
  {
   "cell_type": "markdown",
   "id": "79dedf6e-3026-4f9b-bcf1-11b042a6f198",
   "metadata": {},
   "source": [
    "### 21. Create a program that calculates the sum of the digits of numbers in a list using a list comprehension."
   ]
  },
  {
   "cell_type": "code",
   "execution_count": 106,
   "id": "de95b499-ffc8-4bdb-ad08-cf5ee3f26871",
   "metadata": {},
   "outputs": [],
   "source": [
    "# Define a list of numbers\n",
    "numbers = [123, 45, 678, 9]\n",
    "\n",
    "# Use a list comprehension to calculate the sum of digits for each number\n",
    "sums_of_digits = [sum(int(digit) for digit in str(num)) for num in numbers]\n",
    "\n",
    "# Print the list of sums\n",
    "print(\"Sums of digits for each number:\", sums_of_digits)\n",
    "\n"
   ]
  },
  {
   "cell_type": "markdown",
   "id": "9908e2a0-52e5-4942-a0d0-b19baae7bfa0",
   "metadata": {},
   "source": [
    "### 22. Write a program to find the prime factors of a given number using a `for` loop and list comprehension."
   ]
  },
  {
   "cell_type": "code",
   "execution_count": 114,
   "id": "d55ef0c1-a272-41cf-812f-82b983dafbee",
   "metadata": {},
   "outputs": [
    {
     "name": "stdin",
     "output_type": "stream",
     "text": [
      "Enter a number to find its prime factors:  100\n"
     ]
    },
    {
     "name": "stdout",
     "output_type": "stream",
     "text": [
      "Prime factors of 100 are: [2, 2, 5, 5]\n"
     ]
    }
   ],
   "source": [
    "# Function to find prime factors of a number\n",
    "def prime_factors(n):\n",
    "    factors = []\n",
    "    divisor = 2\n",
    "\n",
    "    while divisor <= n:\n",
    "        if n % divisor == 0:\n",
    "            factors.append(divisor)\n",
    "            n = n // divisor\n",
    "        else:\n",
    "            divisor += 1\n",
    "\n",
    "    return factors\n",
    "\n",
    "# Input: Get the number from the user\n",
    "number = int(input(\"Enter a number to find its prime factors: \"))\n",
    "\n",
    "# Find the prime factors using the prime_factors function and list comprehension\n",
    "factors = prime_factors(number)\n",
    "\n",
    "# Print the prime factors\n",
    "print(\"Prime factors of\", number, \"are:\", factors)\n"
   ]
  },
  {
   "cell_type": "markdown",
   "id": "e72b6fe5-f42b-4696-880c-4283d121da6a",
   "metadata": {},
   "source": [
    "### 23. Develop a program that extracts unique elements from a list and stores them in a new list using a list comprehension."
   ]
  },
  {
   "cell_type": "code",
   "execution_count": 115,
   "id": "b98e27d5-d0d6-49e7-b1cd-615bb6cc61af",
   "metadata": {},
   "outputs": [
    {
     "name": "stdout",
     "output_type": "stream",
     "text": [
      "Unique elements: [1, 2, 3, 4, 5, 6, 7]\n"
     ]
    }
   ],
   "source": [
    "# Define a list with duplicate elements\n",
    "original_list = [1, 2, 2, 3, 4, 4, 5, 6, 6, 7]\n",
    "\n",
    "# Use a list comprehension to extract unique elements\n",
    "unique_list = [x for i, x in enumerate(original_list) if x not in original_list[:i]]\n",
    "\n",
    "# Print the unique elements\n",
    "print(\"Unique elements:\", unique_list)\n"
   ]
  },
  {
   "cell_type": "markdown",
   "id": "f7af2412-4804-423d-8602-9900f8af8ac1",
   "metadata": {},
   "source": [
    "### 24. Create a program that generates a list of all palindromic numbers up to a specified limit using a list comprehension"
   ]
  },
  {
   "cell_type": "code",
   "execution_count": 119,
   "id": "7bd7aee7-8517-402b-8577-5584bef49f46",
   "metadata": {},
   "outputs": [],
   "source": [
    "# Function to check if a number is palindromic\n",
    "def is_palindromic(number):\n",
    "    return str(number) == str(number)[::-1]\n",
    "\n",
    "# Input: Get the limit from the user\n",
    "limit = int(input(\"Enter the limit: \"))\n",
    "\n",
    "# Use a list comprehension to generate a list of palindromic numbers\n",
    "palindromic_numbers = [num for num in range(limit + 1) if is_palindromic(num)]\n",
    "\n",
    "# Print the list of palindromic numbers\n",
    "print(\"Palindromic numbers up to\", limit, \"are:\", palindromic_numbers)\n"
   ]
  },
  {
   "cell_type": "markdown",
   "id": "6cd78857-400b-4f79-95bd-6dbb93cee755",
   "metadata": {},
   "source": [
    "### 25. Write a program to flatten a nested list using list comprehension."
   ]
  },
  {
   "cell_type": "code",
   "execution_count": 120,
   "id": "848483f3-d1d7-48d0-971f-579f65e18509",
   "metadata": {},
   "outputs": [
    {
     "name": "stdout",
     "output_type": "stream",
     "text": [
      "Flattened list: [1, 2, 3, 4, 5, 6, 7, 8, 9]\n"
     ]
    }
   ],
   "source": [
    "# Nested list with sublists\n",
    "nested_list = [[1, 2, 3], [4, 5], [6, 7, 8, 9]]\n",
    "\n",
    "# Use a list comprehension to flatten the nested list\n",
    "flattened_list = [item for sublist in nested_list for item in sublist]\n",
    "\n",
    "# Print the flattened list\n",
    "print(\"Flattened list:\", flattened_list)\n"
   ]
  },
  {
   "cell_type": "markdown",
   "id": "302ee407-1f80-48d6-b020-5aa219790c4a",
   "metadata": {},
   "source": [
    "### 26. Develop a program that computes the sum of even and odd numbers in a list separately using list comprehension."
   ]
  },
  {
   "cell_type": "code",
   "execution_count": 121,
   "id": "ed715ec3-50cf-41df-a8b6-3250fcfc594d",
   "metadata": {},
   "outputs": [
    {
     "name": "stdout",
     "output_type": "stream",
     "text": [
      "Even numbers: [2, 4, 6, 8]\n",
      "Odd numbers: [1, 3, 5, 7, 9]\n",
      "Sum of even numbers: 20\n",
      "Sum of odd numbers: 25\n"
     ]
    }
   ],
   "source": [
    "# Define a list of numbers\n",
    "numbers = [1, 2, 3, 4, 5, 6, 7, 8, 9]\n",
    "\n",
    "# Use list comprehension to separate even and odd numbers\n",
    "even_numbers = [num for num in numbers if num % 2 == 0]\n",
    "odd_numbers = [num for num in numbers if num % 2 != 0]\n",
    "\n",
    "# Compute the sum of even and odd numbers using built-in sum() function\n",
    "sum_even = sum(even_numbers)\n",
    "sum_odd = sum(odd_numbers)\n",
    "\n",
    "# Print the sums\n",
    "print(\"Even numbers:\", even_numbers)\n",
    "print(\"Odd numbers:\", odd_numbers)\n",
    "print(\"Sum of even numbers:\", sum_even)\n",
    "print(\"Sum of odd numbers:\", sum_odd)\n"
   ]
  },
  {
   "cell_type": "markdown",
   "id": "a04c785b-15a9-40a9-95e2-b554ec8656e0",
   "metadata": {},
   "source": [
    "### 27. Create a program that generates a list of squares of odd numbers between 1 and 10 using list comprehension.\n"
   ]
  },
  {
   "cell_type": "code",
   "execution_count": 123,
   "id": "fb1b1a68-214e-433d-ad7a-54405f9eb376",
   "metadata": {},
   "outputs": [
    {
     "name": "stdout",
     "output_type": "stream",
     "text": [
      "Squares Odd numbers: [1, 9, 25, 49, 81]\n"
     ]
    }
   ],
   "source": [
    "# Define a list of numbers\n",
    "numbers = [1, 2, 3, 4, 5, 6, 7, 8, 9,10]\n",
    "\n",
    "# Use list comprehension to separate even and odd numbers\n",
    "odd_numbers = [num**2 for num in numbers if num % 2 != 0]\n",
    "\n",
    "\n",
    "# Print the sums\n",
    "print(\"Squares Odd numbers:\", odd_numbers)"
   ]
  },
  {
   "cell_type": "markdown",
   "id": "266d3232-3099-4c20-b157-df798b489c4d",
   "metadata": {},
   "source": [
    "### 28. Write a program that combines two lists into a dictionary using list comprehension.\n"
   ]
  },
  {
   "cell_type": "code",
   "execution_count": 133,
   "id": "a26643f7-19c4-4562-bce6-a77cd29edb01",
   "metadata": {},
   "outputs": [
    {
     "name": "stdout",
     "output_type": "stream",
     "text": [
      "Combined dictionary: {1: 'INDIA', 2: 'AMERICA', 3: 'ENGLAND', 4: 'JAPAN'}\n"
     ]
    }
   ],
   "source": [
    "# Define two lists\n",
    "keys = [1, 2, 3, 4]\n",
    "values = [\"INDIA\",\"AMERICA\",\"ENGLAND\",\"JAPAN\",\"NORTH KOREA\"]\n",
    "\n",
    "# Use list comprehension to create a dictionary\n",
    "combined_dict = {keys[i]: values[i] for i in range(min(len(keys), len(values)))}\n",
    "\n",
    "# Print the combined dictionary\n",
    "print(\"Combined dictionary:\", combined_dict)\n"
   ]
  },
  {
   "cell_type": "markdown",
   "id": "e011be25-0450-4062-be4f-4626ace29524",
   "metadata": {},
   "source": [
    "### 29. Develop a program that extracts the vowels from a string and stores them in a list using list comprehension.\n"
   ]
  },
  {
   "cell_type": "code",
   "execution_count": 136,
   "id": "4cb52bf9-5208-4aa8-aa2a-647821a301c7",
   "metadata": {},
   "outputs": [
    {
     "name": "stdin",
     "output_type": "stream",
     "text": [
      "enter any string aniruddha\n"
     ]
    },
    {
     "data": {
      "text/plain": [
       "['a', 'i', 'u', 'a']"
      ]
     },
     "execution_count": 136,
     "metadata": {},
     "output_type": "execute_result"
    }
   ],
   "source": [
    "# take a string from user\n",
    "str2 = input(\"enter any string\")\n",
    "\n",
    "#create a empty list for storing vowels\n",
    "vowels = [\"a\",\"e\",\"i\",\"o\",\"u\"]\n",
    "\n",
    "# calculate using list comprehension\n",
    "vowels_list = [i for i in str2 if i in vowels ]\n",
    "\n",
    "vowels_list"
   ]
  },
  {
   "cell_type": "markdown",
   "id": "fe003df7-8791-47a5-b9b0-2e793ba8b2af",
   "metadata": {},
   "source": [
    "### 30. Create a program that removes all non-numeric characters from a list of strings using list comprehension.\n"
   ]
  },
  {
   "cell_type": "code",
   "execution_count": 171,
   "id": "ba5c219e-1d9a-40d8-8ba0-97c6d7150500",
   "metadata": {},
   "outputs": [],
   "source": [
    "# Define a list of strings with non-numeric characters\n",
    "string_list = [\"abc123\", \"456def\", \"789\", \"xyz\"]\n",
    "\n",
    "# Use list comprehension to remove non-numeric characters from each string\n",
    "numeric_strings = [\"\".join(filter(str.isdigit)) for s in string_list]\n",
    "\n",
    "# Print the list of numeric strings\n",
    "print(\"Numeric strings:\", numeric_strings)\n"
   ]
  },
  {
   "cell_type": "markdown",
   "id": "a1330752-09a5-46c1-a53e-1181c5637c60",
   "metadata": {},
   "source": [
    "### Challenge Level:\n",
    "\n",
    "\n",
    "\n"
   ]
  },
  {
   "cell_type": "markdown",
   "id": "2b709094-b7bc-4fac-afdd-4971c3071845",
   "metadata": {},
   "source": [
    "### 31. Write a program to generate a list of prime numbers using the Sieve of Eratosthenes algorithm and list comprehension."
   ]
  },
  {
   "cell_type": "code",
   "execution_count": 152,
   "id": "1af3b4c8-2bc8-4204-bc3a-580ed49903e1",
   "metadata": {},
   "outputs": [
    {
     "name": "stdin",
     "output_type": "stream",
     "text": [
      "Enter the upper limit:  5\n"
     ]
    },
    {
     "name": "stdout",
     "output_type": "stream",
     "text": [
      "Prime numbers up to 5 are: [2, 3, 5]\n"
     ]
    }
   ],
   "source": [
    "def sieve_of_eratosthenes(n):\n",
    "    # Create a boolean list \"prime[0..n]\" and initialize\n",
    "    # all entries as true. A value in prime[i] will\n",
    "    # finally be false if i is Not a prime, else true.\n",
    "    prime = [True for _ in range(n+1)]\n",
    "    p = 2\n",
    "    while p**2 <= n:\n",
    "        # If prime[i] is not changed, then it is a prime\n",
    "        if prime[p] == True:\n",
    "            # Set all multiples of p to false\n",
    "            for i in range(p**2, n+1, p):\n",
    "                prime[i] = False\n",
    "        p += 1\n",
    "    # Use list comprehension to generate a list of prime numbers\n",
    "    return [i for i in range(2, n+1) if prime[i]]\n",
    "\n",
    "# Input: Get the upper limit from the user\n",
    "limit = int(input(\"Enter the upper limit: \"))\n",
    "\n",
    "# Generate a list of prime numbers up to the limit using the Sieve of Eratosthenes\n",
    "prime_numbers = sieve_of_eratosthenes(limit)\n",
    "\n",
    "# Print the list of prime numbers\n",
    "print(\"Prime numbers up to\", limit, \"are:\", prime_numbers)\n"
   ]
  },
  {
   "cell_type": "markdown",
   "id": "d90eb877-122f-407b-911a-d112354e69d0",
   "metadata": {},
   "source": [
    "### 32. Create a program that generates a list of all Pythagorean triplets up to a specified limit using list comprehension."
   ]
  },
  {
   "cell_type": "code",
   "execution_count": 153,
   "id": "651151bf-a449-4e08-8899-c48eed2bb90a",
   "metadata": {},
   "outputs": [
    {
     "name": "stdin",
     "output_type": "stream",
     "text": [
      "Enter the upper limit for Pythagorean triplets:  5\n"
     ]
    },
    {
     "name": "stdout",
     "output_type": "stream",
     "text": [
      "Pythagorean triplets up to 5 are: [(3, 4, 5)]\n"
     ]
    }
   ],
   "source": [
    "# Input: Get the upper limit from the user\n",
    "limit = int(input(\"Enter the upper limit for Pythagorean triplets: \"))\n",
    "\n",
    "# Use list comprehension to generate a list of Pythagorean triplets\n",
    "pythagorean_triplets = [(a, b, c) for a in range(1, limit+1)\n",
    "                         for b in range(a, limit+1)\n",
    "                         for c in range(b, limit+1)\n",
    "                         if a**2 + b**2 == c**2]\n",
    "\n",
    "# Print the list of Pythagorean triplets\n",
    "print(\"Pythagorean triplets up to\", limit, \"are:\", pythagorean_triplets)\n"
   ]
  },
  {
   "cell_type": "markdown",
   "id": "f02b5e8b-6dd7-408c-a720-94a8bc7ec0ab",
   "metadata": {},
   "source": [
    "### 33. Develop a program that generates a list of all possible combinations of two lists using list comprehension."
   ]
  },
  {
   "cell_type": "code",
   "execution_count": 154,
   "id": "5d96ba7e-ab08-41bf-a0b6-6487e328adfe",
   "metadata": {},
   "outputs": [
    {
     "name": "stdout",
     "output_type": "stream",
     "text": [
      "All possible combinations of the two lists:\n",
      "(1, 'a')\n",
      "(1, 'b')\n",
      "(2, 'a')\n",
      "(2, 'b')\n",
      "(3, 'a')\n",
      "(3, 'b')\n"
     ]
    }
   ],
   "source": [
    "# Define two lists\n",
    "list1 = [1, 2, 3]\n",
    "list2 = ['a', 'b']\n",
    "\n",
    "# Use list comprehension to generate all possible combinations\n",
    "combinations = [(x, y) for x in list1 for y in list2]\n",
    "\n",
    "# Print the list of combinations\n",
    "print(\"All possible combinations of the two lists:\")\n",
    "for combination in combinations:\n",
    "    print(combination)\n"
   ]
  },
  {
   "cell_type": "markdown",
   "id": "b5e737e2-0e78-4abf-9c1b-459fe4a7513b",
   "metadata": {},
   "source": [
    "### 34. Write a program that calculates the mean, median, and mode of a list of numbers using list comprehension.\n"
   ]
  },
  {
   "cell_type": "code",
   "execution_count": 155,
   "id": "7692c4cd-d5ed-4c51-b11f-135c937ddb53",
   "metadata": {},
   "outputs": [
    {
     "name": "stdin",
     "output_type": "stream",
     "text": [
      "Enter a list of numbers separated by spaces:  100 12 456\n"
     ]
    },
    {
     "name": "stdout",
     "output_type": "stream",
     "text": [
      "Mean: 189.33333333333334\n",
      "Median: 100.0\n",
      "Mode: 100.0\n"
     ]
    }
   ],
   "source": [
    "from statistics import mean, median, mode\n",
    "\n",
    "# Input: Get a list of numbers from the user\n",
    "numbers = [float(x) for x in input(\"Enter a list of numbers separated by spaces: \").split()]\n",
    "\n",
    "# Calculate the mean using list comprehension\n",
    "mean_value = mean(numbers)\n",
    "\n",
    "# Calculate the median using list comprehension\n",
    "median_value = median(numbers)\n",
    "\n",
    "# Calculate the mode using list comprehension\n",
    "try:\n",
    "    mode_value = mode(numbers)\n",
    "except StatisticsError:\n",
    "    mode_value = \"No unique mode found\"\n",
    "\n",
    "# Print the results\n",
    "print(\"Mean:\", mean_value)\n",
    "print(\"Median:\", median_value)\n",
    "print(\"Mode:\", mode_value)\n"
   ]
  },
  {
   "cell_type": "markdown",
   "id": "db5cccd4-1d28-412e-a06a-14ed91728c19",
   "metadata": {},
   "source": [
    "### 35. Create a program that generates Pascal's triangle up to a specified number of rows using list comprehension."
   ]
  },
  {
   "cell_type": "code",
   "execution_count": 161,
   "id": "d857ce4d-f49f-4788-85df-1e2c59b1e27f",
   "metadata": {},
   "outputs": [
    {
     "name": "stdin",
     "output_type": "stream",
     "text": [
      "Enter the number of rows for Pascal's triangle:  4\n"
     ]
    },
    {
     "name": "stdout",
     "output_type": "stream",
     "text": [
      "Pascal's Triangle:\n"
     ]
    }
   ],
   "source": [
    "def generate_pascals_triangle(n):\n",
    "    if n <= 0:\n",
    "        return []\n",
    "    \n",
    "    pascals_triangle = [[1]]\n",
    "    \n",
    "    for i in range(1, n):\n",
    "        # Calculate the next row using the previous row\n",
    "        previous_row = pascals_triangle[-1]\n",
    "        next_row = [1] + [previous_row[j] + previous_row[j+1] for j in range(len(previous_row) - 1)] + [1]\n",
    "        \n",
    "        pascals_triangle.append(next_row)\n",
    "    \n",
    "    return pascals_triangle\n",
    "\n",
    "# Input: Get the number of rows from the user\n",
    "num_rows = int(input(\"Enter the number of rows for Pascal's triangle: \"))\n",
    "\n",
    "# Generate Pascal's triangle up to the specified number of rows\n",
    "triangle = generate_pascals_triangle(num_rows)\n",
    "\n",
    "# Print Pascal's triangle\n",
    "print(\"Pascal's Triangle:\")\n",
    "for row in triangle:\n",
    "    print(' '.join(map(str, row)))\n",
    "   "
   ]
  },
  {
   "cell_type": "markdown",
   "id": "1ed18afe-176c-47b3-a674-b88ba33eeb73",
   "metadata": {},
   "source": [
    "### 36. Develop a program that calculates the sum of the digits of a factorial of numbers from 1 to 5 using list comprehension.\n"
   ]
  },
  {
   "cell_type": "code",
   "execution_count": 163,
   "id": "ee7c4c31-afbe-4579-bffc-6f7d4bf0d477",
   "metadata": {},
   "outputs": [],
   "source": [
    "Function to calculate the factorial of a number\n",
    "def factorial(n):\n",
    "    if n == 0 or n == 1:\n",
    "        return 1\n",
    "    else:\n",
    "        return n * factorial(n - 1)\n",
    "\n",
    "# Calculate the factorial of numbers from 1 to 5 and store in a list\n",
    "factorials = [factorial(n) for n in range(1, 6)]\n",
    "\n",
    "# Function to calculate the sum of the digits of a number\n",
    "def sum_of_digits(number):\n",
    "    return sum(int(digit) for digit in str(number))\n",
    "\n",
    "# Calculate the sum of digits for each factorial and store in a list\n",
    "sums_of_digits = [sum_of_digits(f) for f in factorials]\n",
    "\n",
    "# Print the list of sums of digits\n",
    "print(\"Sum of digits of factorials from 1 to 5:\", sums_of_digits)\n"
   ]
  },
  {
   "cell_type": "markdown",
   "id": "dd43eede-0f62-4802-938b-8f954baf68fa",
   "metadata": {},
   "source": [
    "### 37. Write a program that finds the longest word in a sentence using list comprehension.\n"
   ]
  },
  {
   "cell_type": "code",
   "execution_count": 164,
   "id": "e2cb6c5e-fb74-46b8-93fd-535decdeec5c",
   "metadata": {},
   "outputs": [
    {
     "name": "stdin",
     "output_type": "stream",
     "text": [
      "Enter a sentence:  hi how are you\n"
     ]
    },
    {
     "name": "stdout",
     "output_type": "stream",
     "text": [
      "Longest word in the sentence: how\n"
     ]
    }
   ],
   "source": [
    "# Input: Get a sentence from the user\n",
    "sentence = input(\"Enter a sentence: \")\n",
    "\n",
    "# Split the sentence into words using list comprehension\n",
    "words = sentence.split()\n",
    "\n",
    "# Find the longest word using list comprehension\n",
    "longest_word = max(words, key=lambda word: len(word))\n",
    "\n",
    "# Print the longest word\n",
    "print(\"Longest word in the sentence:\", longest_word)\n"
   ]
  },
  {
   "cell_type": "markdown",
   "id": "b8f72543-cd5e-4ab6-a946-92a1e6467b6b",
   "metadata": {},
   "source": [
    "### 38. Create a program that filters a list of strings to include only those with more than three vowels using list comprehension.\n"
   ]
  },
  {
   "cell_type": "code",
   "execution_count": 166,
   "id": "71055540-f372-4923-a402-82217522d5c1",
   "metadata": {},
   "outputs": [
    {
     "name": "stdout",
     "output_type": "stream",
     "text": [
      "Strings with more than three vowels: []\n"
     ]
    }
   ],
   "source": [
    "# Function to count the number of vowels in a string\n",
    "def count_vowels(string):\n",
    "    vowels = \"AEIOUaeiou\"\n",
    "    return sum(1 for char in string if char in vowels)\n",
    "\n",
    "# List of strings\n",
    "string_list = [\"apple\", \"banana\", \"cherry\", \"elephant\", \"orange\", \"grape\"]\n",
    "\n",
    "# Use list comprehension to filter strings with more than three vowels\n",
    "filtered_strings = [string for string in string_list if count_vowels(string) > 3]\n",
    "\n",
    "# Print the filtered strings\n",
    "print(\"Strings with more than three vowels:\", filtered_strings)\n"
   ]
  },
  {
   "cell_type": "markdown",
   "id": "3eecd984-ad77-4e08-9a64-fef72882de98",
   "metadata": {},
   "source": [
    "### 39. Develop a program that calculates the sum of the digits of numbers from 1 to 1000 using list comprehension.\n"
   ]
  },
  {
   "cell_type": "code",
   "execution_count": 168,
   "id": "baa7e895-b7d5-4a13-92e1-379e14c7bf00",
   "metadata": {},
   "outputs": [],
   "source": [
    "# Function to calculate the sum of the digits of a number\n",
    "def sum_of_digits(number):\n",
    "    return sum(int(digit) for digit in str(number))\n",
    "\n",
    "# Use list comprehension to generate numbers from 1 to 1000 and calculate their sum of digits\n",
    "sums_of_digits = [sum_of_digits(n) for n in range(1, 1001)]\n",
    "\n",
    "# Calculate the total sum of all digit sums\n",
    "total_sum = sum(sums_of_digits)\n",
    "\n",
    "# Print the total sum\n",
    "print(\"Total sum of digits from 1 to 1000:\", total_sum)\n"
   ]
  },
  {
   "cell_type": "markdown",
   "id": "b1acc8e2-4708-4d96-a69d-54c415586424",
   "metadata": {},
   "source": [
    "### 40. Write a program that generates a list of prime palindromic numbers using list comprehension."
   ]
  },
  {
   "cell_type": "code",
   "execution_count": 170,
   "id": "675cda53-1a7d-483c-b4e0-23da3b91fa32",
   "metadata": {},
   "outputs": [],
   "source": [
    "# Function to check if a number is prime\n",
    "def is_prime(number):\n",
    "    if number <= 1:\n",
    "        return False\n",
    "    if number <= 3:\n",
    "        return True\n",
    "    if number % 2 == 0 or number % 3 == 0:\n",
    "        return False\n",
    "    i = 5\n",
    "    while i * i <= number:\n",
    "        if number % i == 0 or number % (i + 2) == 0:\n",
    "            return False\n",
    "        i += 6\n",
    "    return True\n",
    "\n",
    "# Function to check if a number is palindromic\n",
    "def is_palindromic(number):\n",
    "    return str(number) == str(number)[::-1]\n",
    "\n",
    "# Use list comprehension to generate prime palindromic numbers\n",
    "prime_palindromic_numbers = [num for num in range(1, 1001) if is_prime(num) and is_palindromic(num)]\n",
    "\n",
    "# Print the list of prime palindromic numbers\n",
    "print(\"Prime palindromic numbers up to 1000:\", prime_palindromic_numbers)\n"
   ]
  }
 ],
 "metadata": {
  "kernelspec": {
   "display_name": "Python 3 (ipykernel)",
   "language": "python",
   "name": "python3"
  },
  "language_info": {
   "codemirror_mode": {
    "name": "ipython",
    "version": 3
   },
   "file_extension": ".py",
   "mimetype": "text/x-python",
   "name": "python",
   "nbconvert_exporter": "python",
   "pygments_lexer": "ipython3",
   "version": "3.10.8"
  }
 },
 "nbformat": 4,
 "nbformat_minor": 5
}
