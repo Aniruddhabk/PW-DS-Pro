{
 "cells": [
  {
   "cell_type": "markdown",
   "id": "d859e8f2-fd75-4519-9778-051c0cff37a2",
   "metadata": {},
   "source": [
    "## Basic If-Else Statements:\n"
   ]
  },
  {
   "cell_type": "markdown",
   "id": "c7c782a7-a1c0-4fd2-889c-086adb6c41ce",
   "metadata": {},
   "source": [
    "### 1. Write a Python program to check if a given number is positive or negative.\n"
   ]
  },
  {
   "cell_type": "code",
   "execution_count": 1,
   "id": "64c8e55f-06eb-441a-9ba8-80db7d8fc156",
   "metadata": {},
   "outputs": [
    {
     "name": "stdout",
     "output_type": "stream",
     "text": [
      "number is positive\n"
     ]
    }
   ],
   "source": [
    "def Check_Number(num):\n",
    "    #check for positvive number\n",
    "    if num >0:\n",
    "        print(\"number is positive\")\n",
    "    else:\n",
    "        print(\"number is negative\")\n",
    "    \n",
    "Check_Number(12)"
   ]
  },
  {
   "cell_type": "markdown",
   "id": "822d8fcd-b495-494d-894c-ec3d0eee2642",
   "metadata": {},
   "source": [
    "### 2. Create a program that determines if a person is eligible to vote based on their age.\n"
   ]
  },
  {
   "cell_type": "code",
   "execution_count": 5,
   "id": "b2da9b0d-cfd5-46ca-996b-2646cd1d52a9",
   "metadata": {},
   "outputs": [
    {
     "name": "stdout",
     "output_type": "stream",
     "text": [
      "voter is eligible for voting\n"
     ]
    }
   ],
   "source": [
    "#create a function with age asa a parameter\n",
    "def Check_Age(age):\n",
    "    if age >0:\n",
    "        print(\"voter is eligible for voting\")\n",
    "    else:\n",
    "        print(\"voter is not eligible for voting\")\n",
    "        \n",
    "Check_Age(101)"
   ]
  },
  {
   "cell_type": "markdown",
   "id": "4b1ea3aa-4ebf-478d-b79f-e521c3ea67a7",
   "metadata": {},
   "source": [
    "### 3. Develop a program to find the maximum of two numbers using if-else statements.\n"
   ]
  },
  {
   "cell_type": "code",
   "execution_count": 7,
   "id": "c4600638-4d59-49bc-beb1-1aaee086f380",
   "metadata": {},
   "outputs": [
    {
     "name": "stdout",
     "output_type": "stream",
     "text": [
      "45 is maximum\n"
     ]
    }
   ],
   "source": [
    "def Max_Num(num1,num2):\n",
    "    if num1>num2:\n",
    "        print(f\"{num1} is maximum\")\n",
    "    else:\n",
    "        print(f\"{num2} is maximum\")\n",
    "    \n",
    "Max_Num(12,45)"
   ]
  },
  {
   "cell_type": "markdown",
   "id": "671e683f-cf16-4afb-9643-f1c56d218c54",
   "metadata": {},
   "source": [
    "### 4. Write a Python script to classify a given year as a leap year or not.\n"
   ]
  },
  {
   "cell_type": "code",
   "execution_count": 8,
   "id": "98a8847d-b5ef-408f-b08d-8ad5d2b84387",
   "metadata": {},
   "outputs": [
    {
     "name": "stdout",
     "output_type": "stream",
     "text": [
      "2016 is a leap year\n"
     ]
    }
   ],
   "source": [
    "def check_Leap_Year(year):\n",
    "    if year%4==0:\n",
    "        print(f\"{year} is a leap year\")\n",
    "    else:\n",
    "        print(f\"{year} is not a leap year\")\n",
    "\n",
    "check_Leap_Year(2016)"
   ]
  },
  {
   "cell_type": "markdown",
   "id": "376191fb-a2a3-402a-8395-e7c533d6dafc",
   "metadata": {},
   "source": [
    "### 5. Create a program that checks whether a character is a vowel or a consonant.\n"
   ]
  },
  {
   "cell_type": "code",
   "execution_count": 3,
   "id": "3956eca5-bdb6-45b4-b5a4-3e4934e48093",
   "metadata": {},
   "outputs": [
    {
     "name": "stdout",
     "output_type": "stream",
     "text": [
      "a is vowel\n"
     ]
    }
   ],
   "source": [
    "def Check_Char(char):\n",
    "    if char.lower() in \"aeiou\":\n",
    "        print(f\"{char} is vowel\")\n",
    "    else:\n",
    "        print(f\"{char} is consonant\")\n",
    "    \n",
    "Check_Char(\"a\")"
   ]
  },
  {
   "cell_type": "markdown",
   "id": "53325fe2-31af-4fa3-80c0-2eb35165f1d0",
   "metadata": {},
   "source": [
    "### 6. Implement a program to determine whether a given number is even or odd.\n"
   ]
  },
  {
   "cell_type": "code",
   "execution_count": 19,
   "id": "3dc7bdc8-cdaf-4b87-86b3-02ea0f804a2a",
   "metadata": {},
   "outputs": [
    {
     "name": "stdin",
     "output_type": "stream",
     "text": [
      "Enter any number:  5\n"
     ]
    },
    {
     "name": "stdout",
     "output_type": "stream",
     "text": [
      "5 is an odd number.\n"
     ]
    }
   ],
   "source": [
    "# Input a number from the user\n",
    "input_number = input(\"Enter any number: \")\n",
    "\n",
    "# Check if the input is not empty\n",
    "if len(input_number) == 0:\n",
    "    print(\"Please enter a valid input.\")\n",
    "else:\n",
    "    # Convert the input to an integer\n",
    "    input_number = int(input_number)\n",
    "\n",
    "    # Check if the number is even or odd\n",
    "    if input_number == 0:\n",
    "        print(\"enter other number instead of 0 \")\n",
    "    elif input_number % 2 == 0:\n",
    "        print(f\"{input_number} is an even number.\")\n",
    "    else:\n",
    "        print(f\"{input_number} is an odd number.\")\n"
   ]
  },
  {
   "cell_type": "markdown",
   "id": "788c3413-e55c-499e-97e2-026b4d41ae52",
   "metadata": {},
   "source": [
    "### 7. Write a Python function to calculate the absolute value of a number without using the `abs()` function.\n"
   ]
  },
  {
   "cell_type": "code",
   "execution_count": 28,
   "id": "801e1c79-cfe6-4ff0-9990-cfd89044d07a",
   "metadata": {},
   "outputs": [
    {
     "name": "stdin",
     "output_type": "stream",
     "text": [
      "enter any number -5\n"
     ]
    },
    {
     "name": "stdout",
     "output_type": "stream",
     "text": [
      " absolute value of number -5 is 5\n"
     ]
    }
   ],
   "source": [
    "input_number1 = int(input(\"enter any number\"))\n",
    "\n",
    "if input_number1 < 0:\n",
    "    input_number2 = -(input_number1)\n",
    "    print(f\" absolute value of number {input_number1} is {input_number2}\")\n",
    "else:\n",
    "    print(f\" absolute value of number {input_number1} is {input_number1}\")"
   ]
  },
  {
   "cell_type": "markdown",
   "id": "372516b3-a69e-43df-aa2b-a8b4215dbd66",
   "metadata": {},
   "source": [
    "### 8. Develop a program that determines the largest of three given numbers using if-else statements.\n"
   ]
  },
  {
   "cell_type": "code",
   "execution_count": 29,
   "id": "851f69dc-5bca-496a-9e91-734eb0c77179",
   "metadata": {},
   "outputs": [
    {
     "name": "stdin",
     "output_type": "stream",
     "text": [
      "enter first number 5\n",
      "enter second number 4\n",
      "enter third number 2586\n"
     ]
    },
    {
     "name": "stdout",
     "output_type": "stream",
     "text": [
      "2586 is greater\n"
     ]
    }
   ],
   "source": [
    "#get three nukmber from user\n",
    "num1 = int(input(\"enter first number\"))\n",
    "num2 = int(input(\"enter second number\"))\n",
    "num3 = int(input(\"enter third number\"))\n",
    "\n",
    "if num1>num2 and num1>num3:\n",
    "    print(f\"{num1} is greater \")\n",
    "elif num2>num3 and num2>num1 :\n",
    "    print(f\"{num2} is greater \")\n",
    "else:\n",
    "    print(f\"{num3} is greater\")"
   ]
  },
  {
   "cell_type": "markdown",
   "id": "66d1f138-43a1-4a05-a22b-c9cd40793d23",
   "metadata": {},
   "source": [
    "### 9. Create a program that checks if a given string is a palindrome.\n"
   ]
  },
  {
   "cell_type": "code",
   "execution_count": 34,
   "id": "181b56f2-03eb-4845-9b1a-17be9344414a",
   "metadata": {},
   "outputs": [
    {
     "name": "stdin",
     "output_type": "stream",
     "text": [
      "enter any string hihihihi\n"
     ]
    },
    {
     "name": "stdout",
     "output_type": "stream",
     "text": [
      "hihihihi is not a palindrome\n"
     ]
    }
   ],
   "source": [
    "string = input(\"enter any string\")\n",
    "\n",
    "if string == string[::-1]:\n",
    "    print(f\"{string} is a palindrome\")\n",
    "else:\n",
    "    print(f\"{string} is not a palindrome\")"
   ]
  },
  {
   "cell_type": "markdown",
   "id": "a9671a97-2cd8-47af-9045-b94f0890d6b5",
   "metadata": {},
   "source": [
    "### 10. Write a Python program to calculate the grade based on a student's score.\n"
   ]
  },
  {
   "cell_type": "code",
   "execution_count": 35,
   "id": "a2259f11-f29e-4ef9-9d5d-7183572e29fe",
   "metadata": {},
   "outputs": [
    {
     "name": "stdin",
     "output_type": "stream",
     "text": [
      "Enter the student's score:  89\n"
     ]
    },
    {
     "name": "stdout",
     "output_type": "stream",
     "text": [
      "The student's grade is: B\n"
     ]
    }
   ],
   "source": [
    "# Get the student's score from the user\n",
    "score = float(input(\"Enter the student's score: \"))\n",
    "\n",
    "# Check if the score is within a valid range (0 to 100)\n",
    "if 0 <= score <= 100:\n",
    "    # Determine the grade based on the score\n",
    "    if score >= 90:\n",
    "        grade = \"A\"\n",
    "    elif score >= 80:\n",
    "        grade = \"B\"\n",
    "    elif score >= 70:\n",
    "        grade = \"C\"\n",
    "    elif score >= 60:\n",
    "        grade = \"D\"\n",
    "    else:\n",
    "        grade = \"F\"\n",
    "\n",
    "    # Print the grade\n",
    "    print(f\"The student's grade is: {grade}\")\n",
    "else:\n",
    "    print(\"Invalid score. Please enter a score between 0 and 100.\")\n"
   ]
  },
  {
   "cell_type": "markdown",
   "id": "471cc27c-1d29-446c-b11c-6a509d5ca2b1",
   "metadata": {},
   "source": [
    "## Nested If-Else Statements:\n"
   ]
  },
  {
   "cell_type": "markdown",
   "id": "9e6afd26-01a1-47fd-94b7-6afbaa53239a",
   "metadata": {},
   "source": [
    "### 11. Write a program to find the largest among three numbers using nested if-else statements.\n"
   ]
  },
  {
   "cell_type": "code",
   "execution_count": 3,
   "id": "21a8d52c-e21b-4996-9b71-49d73cbb177c",
   "metadata": {},
   "outputs": [
    {
     "name": "stdin",
     "output_type": "stream",
     "text": [
      "Enter the first number:  55\n",
      "Enter the second number:  44\n",
      "Enter the third number:  66\n"
     ]
    },
    {
     "name": "stdout",
     "output_type": "stream",
     "text": [
      "The largest number among 55, 44, and 66 is 66.\n"
     ]
    }
   ],
   "source": [
    "# Input three numbers from the user\n",
    "num1 = int(input(\"Enter the first number: \"))\n",
    "num2 = int(input(\"Enter the second number: \"))\n",
    "num3 = int(input(\"Enter the third number: \"))\n",
    "\n",
    "# Compare the numbers to find the largest\n",
    "if num1 >= num2:\n",
    "    if num1 >= num3:\n",
    "        largest = num1\n",
    "    else:\n",
    "        largest = num3\n",
    "else:\n",
    "    if num2 >= num3:\n",
    "        largest = num2\n",
    "    else:\n",
    "        largest = num3\n",
    "\n",
    "# Print the largest number\n",
    "print(f\"The largest number among {num1}, {num2}, and {num3} is {largest}.\")\n"
   ]
  },
  {
   "cell_type": "markdown",
   "id": "ead932b1-774f-4cd7-997d-a46b6daac4c5",
   "metadata": {},
   "source": [
    "### 12. Implement a program to determine if a triangle is equilateral, isosceles, or scalene.\n"
   ]
  },
  {
   "cell_type": "code",
   "execution_count": 4,
   "id": "e74e81dd-e487-4f00-b284-886ce4ec4249",
   "metadata": {},
   "outputs": [
    {
     "name": "stdin",
     "output_type": "stream",
     "text": [
      "Enter the length of the first side:  5.55\n",
      "Enter the length of the second side:  4.69\n",
      "Enter the length of the third side:  4.55\n"
     ]
    },
    {
     "name": "stdout",
     "output_type": "stream",
     "text": [
      "The triangle with sides 5.55, 4.69, and 4.55 is scalene.\n"
     ]
    }
   ],
   "source": [
    "# Input the lengths of the three sides of the triangle\n",
    "side1 = float(input(\"Enter the length of the first side: \"))\n",
    "side2 = float(input(\"Enter the length of the second side: \"))\n",
    "side3 = float(input(\"Enter the length of the third side: \"))\n",
    "\n",
    "# Check if the input sides can form a triangle\n",
    "if side1 + side2 > side3 and side1 + side3 > side2 and side2 + side3 > side1:\n",
    "    # Determine the type of triangle based on side lengths\n",
    "    if side1 == side2 == side3:\n",
    "        triangle_type = \"equilateral\"\n",
    "    elif side1 == side2 or side1 == side3 or side2 == side3:\n",
    "        triangle_type = \"isosceles\"\n",
    "    else:\n",
    "        triangle_type = \"scalene\"\n",
    "\n",
    "    # Print the type of triangle\n",
    "    print(f\"The triangle with sides {side1}, {side2}, and {side3} is {triangle_type}.\")\n",
    "else:\n",
    "    print(\"The given side lengths cannot form a triangle.\")\n"
   ]
  },
  {
   "cell_type": "markdown",
   "id": "550d399c-610c-487e-9741-b0e38269b618",
   "metadata": {},
   "source": [
    "### 13. Develop a program that checks if a year is a leap year and also if it is a century year.\n"
   ]
  },
  {
   "cell_type": "code",
   "execution_count": 5,
   "id": "be15c920-3008-4cf8-838a-1a8706c07dc5",
   "metadata": {},
   "outputs": [
    {
     "name": "stdin",
     "output_type": "stream",
     "text": [
      "Enter a year:  2016\n"
     ]
    },
    {
     "name": "stdout",
     "output_type": "stream",
     "text": [
      "2016 is a leap year.\n",
      "2016 is not a century year.\n"
     ]
    }
   ],
   "source": [
    "# Input a year from the user\n",
    "year = int(input(\"Enter a year: \"))\n",
    "\n",
    "# Check if the year is a leap year\n",
    "is_leap_year = (year % 4 == 0 and year % 100 != 0) or (year % 400 == 0)\n",
    "\n",
    "# Check if the year is a century year\n",
    "is_century_year = year % 100 == 0\n",
    "\n",
    "# Display the results\n",
    "if is_leap_year:\n",
    "    print(f\"{year} is a leap year.\")\n",
    "else:\n",
    "    print(f\"{year} is not a leap year.\")\n",
    "\n",
    "if is_century_year:\n",
    "    print(f\"{year} is a century year.\")\n",
    "else:\n",
    "    print(f\"{year} is not a century year.\")\n"
   ]
  },
  {
   "cell_type": "markdown",
   "id": "1b45b524-0041-4bd2-a6de-84848b301104",
   "metadata": {},
   "source": [
    "### 14. Write a Python script to determine if a number is positive, negative, or zero.\n"
   ]
  },
  {
   "cell_type": "code",
   "execution_count": 6,
   "id": "27c295ef-5dfe-4cee-9387-8b45c5f75304",
   "metadata": {},
   "outputs": [
    {
     "name": "stdin",
     "output_type": "stream",
     "text": [
      "Enter a number:  78.5\n"
     ]
    },
    {
     "name": "stdout",
     "output_type": "stream",
     "text": [
      "The number is positive.\n"
     ]
    }
   ],
   "source": [
    "# Input a number from the user\n",
    "number = float(input(\"Enter a number: \"))\n",
    "\n",
    "# Check if the number is positive, negative, or zero\n",
    "if number > 0:\n",
    "    print(\"The number is positive.\")\n",
    "elif number < 0:\n",
    "    print(\"The number is negative.\")\n",
    "else:\n",
    "    print(\"The number is zero.\")\n"
   ]
  },
  {
   "cell_type": "markdown",
   "id": "8c8baa25-9c90-4623-b145-87dfc0f0b759",
   "metadata": {},
   "source": [
    "### 15. Create a program to check if a person is a teenager (between 13 and 19 years old).\n"
   ]
  },
  {
   "cell_type": "code",
   "execution_count": 7,
   "id": "5ed2cdbf-47d9-4fab-9e3d-42e57b713f64",
   "metadata": {},
   "outputs": [
    {
     "name": "stdin",
     "output_type": "stream",
     "text": [
      "Enter the person's age:  26\n"
     ]
    },
    {
     "name": "stdout",
     "output_type": "stream",
     "text": [
      "The person is not a teenager.\n"
     ]
    }
   ],
   "source": [
    "# Input the age of the person\n",
    "age = int(input(\"Enter the person's age: \"))\n",
    "\n",
    "# Check if the age is within the teenager range (13 to 19)\n",
    "if 13 <= age <= 19:\n",
    "    print(\"The person is a teenager.\")\n",
    "else:\n",
    "    print(\"The person is not a teenager.\")\n"
   ]
  },
  {
   "cell_type": "markdown",
   "id": "68740796-7e45-4551-b2e1-fefbb69c6dbd",
   "metadata": {},
   "source": [
    "### 16. Develop a program that determines the type of angle based on its measure (acute, obtuse, or right).\n"
   ]
  },
  {
   "cell_type": "code",
   "execution_count": 8,
   "id": "9bfc3b61-7fb7-4fc8-aa24-bb9aacfaafb7",
   "metadata": {},
   "outputs": [
    {
     "name": "stdin",
     "output_type": "stream",
     "text": [
      "Enter the measure of the angle (in degrees):  48.63\n"
     ]
    },
    {
     "name": "stdout",
     "output_type": "stream",
     "text": [
      "The angle is acute.\n"
     ]
    }
   ],
   "source": [
    "# Input the measure of the angle\n",
    "angle = float(input(\"Enter the measure of the angle (in degrees): \"))\n",
    "\n",
    "# Check the type of angle\n",
    "if angle < 90:\n",
    "    print(\"The angle is acute.\")\n",
    "elif angle == 90:\n",
    "    print(\"The angle is right.\")\n",
    "else:\n",
    "    print(\"The angle is obtuse.\")\n"
   ]
  },
  {
   "cell_type": "markdown",
   "id": "f8fc4d55-2aca-4a2f-a29e-e76e83056488",
   "metadata": {},
   "source": [
    "### 17. Write a Python program to calculate the roots of a quadratic equation.\n"
   ]
  },
  {
   "cell_type": "code",
   "execution_count": 9,
   "id": "41fe17aa-451d-49df-a281-f93c61087260",
   "metadata": {},
   "outputs": [
    {
     "name": "stdin",
     "output_type": "stream",
     "text": [
      "Enter coefficient a:  10\n",
      "Enter coefficient b:  15\n",
      "Enter coefficient c:  16\n"
     ]
    },
    {
     "name": "stdout",
     "output_type": "stream",
     "text": [
      "Roots are complex: (-0.75+1.0185774393731681j) and (-0.75-1.0185774393731681j)\n"
     ]
    }
   ],
   "source": [
    "import math\n",
    "\n",
    "# Input coefficients a, b, and c of the quadratic equation ax^2 + bx + c = 0\n",
    "a = float(input(\"Enter coefficient a: \"))\n",
    "b = float(input(\"Enter coefficient b: \"))\n",
    "c = float(input(\"Enter coefficient c: \"))\n",
    "\n",
    "# Calculate the discriminant (D)\n",
    "D = b**2 - 4*a*c\n",
    "\n",
    "# Check the value of the discriminant\n",
    "if D > 0:\n",
    "    # Two real and distinct roots\n",
    "    root1 = (-b + math.sqrt(D)) / (2*a)\n",
    "    root2 = (-b - math.sqrt(D)) / (2*a)\n",
    "    print(f\"Roots are real and distinct: {root1} and {root2}\")\n",
    "elif D == 0:\n",
    "    # One real root (repeated)\n",
    "    root = -b / (2*a)\n",
    "    print(f\"Root is real and repeated: {root}\")\n",
    "else:\n",
    "    # Complex roots\n",
    "    real_part = -b / (2*a)\n",
    "    imaginary_part = math.sqrt(-D) / (2*a)\n",
    "    root1 = complex(real_part, imaginary_part)\n",
    "    root2 = complex(real_part, -imaginary_part)\n",
    "    print(f\"Roots are complex: {root1} and {root2}\")\n"
   ]
  },
  {
   "cell_type": "markdown",
   "id": "51252c86-2bcf-4781-ac51-cabdbb439d9e",
   "metadata": {},
   "source": [
    "### 18. Implement a program to determine the day of the week based on a user-provided number (1 for Monday, 2 for Tuesday, etc.).\n"
   ]
  },
  {
   "cell_type": "code",
   "execution_count": 10,
   "id": "b2c40ab1-9832-4add-bab5-34f11b775aa3",
   "metadata": {},
   "outputs": [
    {
     "name": "stdin",
     "output_type": "stream",
     "text": [
      "Enter a number (1 for Monday, 2 for Tuesday, etc.):  6\n"
     ]
    },
    {
     "name": "stdout",
     "output_type": "stream",
     "text": [
      "The day corresponding to 6 is Saturday.\n"
     ]
    }
   ],
   "source": [
    "# Input the day number\n",
    "day_number = int(input(\"Enter a number (1 for Monday, 2 for Tuesday, etc.): \"))\n",
    "\n",
    "# Check the day number and determine the day of the week\n",
    "if day_number == 1:\n",
    "    day = \"Monday\"\n",
    "elif day_number == 2:\n",
    "    day = \"Tuesday\"\n",
    "elif day_number == 3:\n",
    "    day = \"Wednesday\"\n",
    "elif day_number == 4:\n",
    "    day = \"Thursday\"\n",
    "elif day_number == 5:\n",
    "    day = \"Friday\"\n",
    "elif day_number == 6:\n",
    "    day = \"Saturday\"\n",
    "elif day_number == 7:\n",
    "    day = \"Sunday\"\n",
    "else:\n",
    "    day = \"Invalid day number\"\n",
    "\n",
    "# Print the day of the week\n",
    "print(f\"The day corresponding to {day_number} is {day}.\")\n"
   ]
  },
  {
   "cell_type": "markdown",
   "id": "5f02be75-32d4-4495-89cb-b740653c70ff",
   "metadata": {},
   "source": [
    "### 19. Create a program that determines if a year is a leap year and also if it is evenly divisible by 400.\n"
   ]
  },
  {
   "cell_type": "code",
   "execution_count": 11,
   "id": "12aff27d-63a4-457e-8e10-7b1a37e5d3fb",
   "metadata": {},
   "outputs": [
    {
     "name": "stdin",
     "output_type": "stream",
     "text": [
      "Enter a year:  2024\n"
     ]
    },
    {
     "name": "stdout",
     "output_type": "stream",
     "text": [
      "2024 is a leap year.\n"
     ]
    }
   ],
   "source": [
    "# Input the year\n",
    "year = int(input(\"Enter a year: \"))\n",
    "\n",
    "# Check if it's a leap year\n",
    "if (year % 4 == 0 and year % 100 != 0) or (year % 400 == 0):\n",
    "    print(f\"{year} is a leap year.\")\n",
    "else:\n",
    "    print(f\"{year} is not a leap year.\")\n"
   ]
  },
  {
   "cell_type": "markdown",
   "id": "873fcc73-6bbc-492d-b7b0-69f7b1c4ca71",
   "metadata": {},
   "source": [
    "### 20. Develop a program that checks if a given number is prime or not using nested if-else statements."
   ]
  },
  {
   "cell_type": "code",
   "execution_count": 12,
   "id": "1dc86dc0-6478-4b7e-a647-1501b9d7c653",
   "metadata": {},
   "outputs": [
    {
     "name": "stdin",
     "output_type": "stream",
     "text": [
      "Enter a number:  156\n"
     ]
    },
    {
     "name": "stdout",
     "output_type": "stream",
     "text": [
      "156 is not a prime number.\n"
     ]
    }
   ],
   "source": [
    "# Input the number to check for primality\n",
    "num = int(input(\"Enter a number: \"))\n",
    "\n",
    "# Check if the number is less than 2 (not prime)\n",
    "if num < 2:\n",
    "    print(f\"{num} is not a prime number.\")\n",
    "else:\n",
    "    is_prime = True  # Assume it's prime unless proven otherwise\n",
    "    \n",
    "    # Check for factors from 2 to the square root of the number\n",
    "    for i in range(2, int(num**0.5) + 1):\n",
    "        if num % i == 0:\n",
    "            is_prime = False  # It has a factor other than 1 and itself\n",
    "            break\n",
    "    \n",
    "    # Determine and print the result\n",
    "    if is_prime:\n",
    "        print(f\"{num} is a prime number.\")\n",
    "    else:\n",
    "        print(f\"{num} is not a prime number.\")\n"
   ]
  },
  {
   "cell_type": "markdown",
   "id": "2d2a2868-62bc-422b-9e92-8e68d3b47f05",
   "metadata": {},
   "source": [
    "## Elif Statements:"
   ]
  },
  {
   "cell_type": "markdown",
   "id": "0e286802-961b-4ed2-8966-231312c88cc8",
   "metadata": {},
   "source": [
    "\n",
    "\n",
    "### 21. Write a Python program to assign grades based on different ranges of scores using elif statements.\n"
   ]
  },
  {
   "cell_type": "code",
   "execution_count": 13,
   "id": "73d283ef-1278-438d-a51a-0b39940f3ad4",
   "metadata": {},
   "outputs": [
    {
     "name": "stdin",
     "output_type": "stream",
     "text": [
      "Enter the score:  55\n"
     ]
    },
    {
     "name": "stdout",
     "output_type": "stream",
     "text": [
      "Grade: F\n"
     ]
    }
   ],
   "source": [
    "# Get the score from the user\n",
    "score = float(input(\"Enter the score: \"))\n",
    "\n",
    "# Assign grades based on score ranges\n",
    "if score >= 90:\n",
    "    grade = \"A\"\n",
    "elif score >= 80:\n",
    "    grade = \"B\"\n",
    "elif score >= 70:\n",
    "    grade = \"C\"\n",
    "elif score >= 60:\n",
    "    grade = \"D\"\n",
    "else:\n",
    "    grade = \"F\"\n",
    "\n",
    "# Display the grade\n",
    "print(f\"Grade: {grade}\")\n"
   ]
  },
  {
   "cell_type": "markdown",
   "id": "20d763a0-e757-4940-9a5e-cfbc553400d8",
   "metadata": {},
   "source": [
    "### 22. Implement a program to determine the type of a triangle based on its angles.\n"
   ]
  },
  {
   "cell_type": "code",
   "execution_count": 1,
   "id": "4d7f58ea-e2a7-45e8-9c0f-270f8c6e8d43",
   "metadata": {},
   "outputs": [
    {
     "name": "stdin",
     "output_type": "stream",
     "text": [
      "Enter the first angle in degrees:  44.5\n",
      "Enter the second angle in degrees:  55.6\n",
      "Enter the third angle in degrees:  89.3\n"
     ]
    },
    {
     "name": "stdout",
     "output_type": "stream",
     "text": [
      "This is a Not a Triangle.\n"
     ]
    }
   ],
   "source": [
    "# Get the angles from the user\n",
    "angle1 = float(input(\"Enter the first angle in degrees: \"))\n",
    "angle2 = float(input(\"Enter the second angle in degrees: \"))\n",
    "angle3 = float(input(\"Enter the third angle in degrees: \"))\n",
    "\n",
    "# Check the type of triangle based on angles\n",
    "if angle1 + angle2 + angle3 == 180:\n",
    "    if angle1 < 90 and angle2 < 90 and angle3 < 90:\n",
    "        triangle_type = \"Acute Triangle\"\n",
    "    elif angle1 == 90 or angle2 == 90 or angle3 == 90:\n",
    "        triangle_type = \"Right Triangle\"\n",
    "    else:\n",
    "        triangle_type = \"Obtuse Triangle\"\n",
    "else:\n",
    "    triangle_type = \"Not a Triangle\"\n",
    "\n",
    "# Display the type of triangle\n",
    "print(f\"This is a {triangle_type}.\")\n"
   ]
  },
  {
   "cell_type": "markdown",
   "id": "018fe38e-f6bb-4f28-9e09-f07f4f09e54f",
   "metadata": {},
   "source": [
    "### 23. Develop a program to categorize a given person's BMI into underweight, normal, overweight, or obese using elif statements.\n"
   ]
  },
  {
   "cell_type": "code",
   "execution_count": 2,
   "id": "d2dcca26-e403-4a7a-aade-5b34419bc519",
   "metadata": {},
   "outputs": [
    {
     "name": "stdin",
     "output_type": "stream",
     "text": [
      "Enter your weight in kilograms:  70\n",
      "Enter your height in meters:  169\n"
     ]
    },
    {
     "name": "stdout",
     "output_type": "stream",
     "text": [
      "Your BMI is 0.00, which categorizes you as Underweight.\n"
     ]
    }
   ],
   "source": [
    "# Get the user's weight (in kilograms) and height (in meters)\n",
    "weight = float(input(\"Enter your weight in kilograms: \"))\n",
    "height = float(input(\"Enter your height in meters: \"))\n",
    "\n",
    "# Calculate BMI\n",
    "bmi = weight / (height ** 2)\n",
    "\n",
    "# Categorize BMI\n",
    "if bmi < 18.5:\n",
    "    category = \"Underweight\"\n",
    "elif 18.5 <= bmi < 24.9:\n",
    "    category = \"Normal Weight\"\n",
    "elif 24.9 <= bmi < 29.9:\n",
    "    category = \"Overweight\"\n",
    "else:\n",
    "    category = \"Obese\"\n",
    "\n",
    "# Display the BMI category\n",
    "print(f\"Your BMI is {bmi:.2f}, which categorizes you as {category}.\")\n"
   ]
  },
  {
   "cell_type": "markdown",
   "id": "a9068830-d826-4cd4-8a7c-274b18b859e2",
   "metadata": {},
   "source": [
    "### 24. Create a program that determines whether a given number is positive, negative, or zero using elif statements.\n"
   ]
  },
  {
   "cell_type": "code",
   "execution_count": 3,
   "id": "5bb15a13-1a7d-4ab8-bb10-46167a33b1d0",
   "metadata": {},
   "outputs": [
    {
     "name": "stdin",
     "output_type": "stream",
     "text": [
      "Enter a number:  55\n"
     ]
    },
    {
     "name": "stdout",
     "output_type": "stream",
     "text": [
      "The number is positive.\n"
     ]
    }
   ],
   "source": [
    "# Get the number from the user\n",
    "number = float(input(\"Enter a number: \"))\n",
    "\n",
    "# Determine whether the number is positive, negative, or zero\n",
    "if number > 0:\n",
    "    print(\"The number is positive.\")\n",
    "elif number < 0:\n",
    "    print(\"The number is negative.\")\n",
    "else:\n",
    "    print(\"The number is zero.\")"
   ]
  },
  {
   "cell_type": "markdown",
   "id": "294118b6-345c-4f43-95d1-768d1a09493a",
   "metadata": {},
   "source": [
    "### 25. Write a Python script to determine the type of a character (uppercase, lowercase, or special) using elif statements.\n"
   ]
  },
  {
   "cell_type": "code",
   "execution_count": 4,
   "id": "13a78f3e-ef02-433d-8555-51799a7ff1fe",
   "metadata": {},
   "outputs": [
    {
     "name": "stdin",
     "output_type": "stream",
     "text": [
      "Enter a character:  s\n"
     ]
    },
    {
     "name": "stdout",
     "output_type": "stream",
     "text": [
      "The character 's' is a Lowercase character.\n"
     ]
    }
   ],
   "source": [
    "# Get a character from the user\n",
    "char = input(\"Enter a character: \")\n",
    "\n",
    "# Check the type of character\n",
    "if char.isalpha():\n",
    "    if char.isupper():\n",
    "        char_type = \"Uppercase\"\n",
    "    elif char.islower():\n",
    "        char_type = \"Lowercase\"\n",
    "else:\n",
    "    char_type = \"Special\"\n",
    "\n",
    "# Display the type of character\n",
    "print(f\"The character '{char}' is a {char_type} character.\")\n"
   ]
  },
  {
   "cell_type": "markdown",
   "id": "ac0121e1-58b2-4445-b4c3-89dbcf5dac56",
   "metadata": {},
   "source": [
    "### 26. Implement a program to calculate the discounted price based on different purchase amounts using elif statements.\n"
   ]
  },
  {
   "cell_type": "code",
   "execution_count": 5,
   "id": "e8a79e22-48f1-4323-9aba-ce8d521823b1",
   "metadata": {},
   "outputs": [
    {
     "name": "stdin",
     "output_type": "stream",
     "text": [
      "Enter the purchase amount:  1500\n"
     ]
    },
    {
     "name": "stdout",
     "output_type": "stream",
     "text": [
      "Discounted Price: $1350.00\n"
     ]
    }
   ],
   "source": [
    "# Get the purchase amount from the user\n",
    "purchase_amount = float(input(\"Enter the purchase amount: \"))\n",
    "\n",
    "# Initialize a variable to store the discount rate\n",
    "discount_rate = 0.0\n",
    "\n",
    "# Determine the discount rate based on purchase amount\n",
    "if purchase_amount >= 1000:\n",
    "    discount_rate = 0.1  # 10% discount for purchases of $1000 or more\n",
    "elif purchase_amount >= 500:\n",
    "    discount_rate = 0.05  # 5% discount for purchases between $500 and $999\n",
    "elif purchase_amount >= 200:\n",
    "    discount_rate = 0.03  # 3% discount for purchases between $200 and $499\n",
    "\n",
    "# Calculate the discounted price\n",
    "discounted_price = purchase_amount - (purchase_amount * discount_rate)\n",
    "\n",
    "# Display the discounted price\n",
    "print(f\"Discounted Price: ${discounted_price:.2f}\")\n"
   ]
  },
  {
   "cell_type": "markdown",
   "id": "c4e9ba44-f6d7-4726-879a-bd195ad818ad",
   "metadata": {},
   "source": [
    "### 27. Develop a program to calculate the electricity bill based on different consumption slabs using elif statements.\n"
   ]
  },
  {
   "cell_type": "code",
   "execution_count": 6,
   "id": "4b809e22-1773-4c41-87f9-2c3b446ed122",
   "metadata": {},
   "outputs": [
    {
     "name": "stdin",
     "output_type": "stream",
     "text": [
      "Enter your electricity consumption in kilowatt-hours (kWh):  123\n"
     ]
    },
    {
     "name": "stdout",
     "output_type": "stream",
     "text": [
      "Your electricity bill for 123.0 kWh is $344.00\n"
     ]
    }
   ],
   "source": [
    "# Get the electricity consumption from the user\n",
    "consumption = float(input(\"Enter your electricity consumption in kilowatt-hours (kWh): \"))\n",
    "\n",
    "# Initialize variables for the bill amount and rates\n",
    "bill_amount = 0.0\n",
    "rate_per_unit = 0.0\n",
    "\n",
    "# Determine the rate per unit and calculate the bill amount based on consumption slabs\n",
    "if consumption <= 50:\n",
    "    rate_per_unit = 2.50  # Rate for the first 50 kWh\n",
    "    bill_amount = consumption * rate_per_unit\n",
    "elif consumption <= 150:\n",
    "    rate_per_unit = 3.00  # Rate for the next 100 kWh\n",
    "    bill_amount = 50 * 2.50 + (consumption - 50) * rate_per_unit\n",
    "elif consumption <= 300:\n",
    "    rate_per_unit = 4.50  # Rate for the next 150 kWh\n",
    "    bill_amount = 50 * 2.50 + 100 * 3.00 + (consumption - 150) * rate_per_unit\n",
    "else:\n",
    "    rate_per_unit = 6.00  # Rate for consumption above 300 kWh\n",
    "    bill_amount = 50 * 2.50 + 100 * 3.00 + 150 * 4.50 + (consumption - 300) * rate_per_unit\n",
    "\n",
    "# Display the electricity bill\n",
    "print(f\"Your electricity bill for {consumption} kWh is ${bill_amount:.2f}\")\n"
   ]
  },
  {
   "cell_type": "markdown",
   "id": "d5f4244c-d626-490d-ae2a-bfa59008d4cb",
   "metadata": {},
   "source": [
    "### 28. Create a program to determine the type of quadrilateral based on its angles and sides using elif statements.\n"
   ]
  },
  {
   "cell_type": "code",
   "execution_count": 7,
   "id": "c1be71da-a029-4462-be0e-89cee6d1e0f6",
   "metadata": {},
   "outputs": [
    {
     "name": "stdin",
     "output_type": "stream",
     "text": [
      "Enter the first angle in degrees:  45.6\n",
      "Enter the second angle in degrees:  47.3\n",
      "Enter the third angle in degrees:  125.3\n",
      "Enter the fourth angle in degrees:  145.6\n",
      "Enter the length of the first side:  145\n",
      "Enter the length of the second side:  14\n",
      "Enter the length of the third side:  123\n",
      "Enter the length of the fourth side:  1236\n"
     ]
    },
    {
     "name": "stdout",
     "output_type": "stream",
     "text": [
      "This is a General Quadrilateral.\n"
     ]
    }
   ],
   "source": [
    "# Get input from the user for angles and sides\n",
    "angle1 = float(input(\"Enter the first angle in degrees: \"))\n",
    "angle2 = float(input(\"Enter the second angle in degrees: \"))\n",
    "angle3 = float(input(\"Enter the third angle in degrees: \"))\n",
    "angle4 = float(input(\"Enter the fourth angle in degrees: \"))\n",
    "\n",
    "side1 = float(input(\"Enter the length of the first side: \"))\n",
    "side2 = float(input(\"Enter the length of the second side: \"))\n",
    "side3 = float(input(\"Enter the length of the third side: \"))\n",
    "side4 = float(input(\"Enter the length of the fourth side: \"))\n",
    "\n",
    "# Determine the type of quadrilateral\n",
    "if angle1 == angle2 == angle3 == angle4 == 90:\n",
    "    if side1 == side2 == side3 == side4:\n",
    "        quadrilateral_type = \"Square\"\n",
    "    else:\n",
    "        quadrilateral_type = \"Rectangle\"\n",
    "elif side1 == side2 == side3 == side4:\n",
    "    quadrilateral_type = \"Parallelogram\"\n",
    "elif (angle1 == angle3 and angle2 == angle4) or (angle1 == angle2 and angle3 == angle4):\n",
    "    if side1 == side2 == side3 == side4:\n",
    "        quadrilateral_type = \"Rhombus\"\n",
    "    else:\n",
    "        quadrilateral_type = \"Kite\"\n",
    "elif side1 == side3 and side2 == side4:\n",
    "    quadrilateral_type = \"Trapezoid\"\n",
    "else:\n",
    "    quadrilateral_type = \"General Quadrilateral\"\n",
    "\n",
    "# Display the type of quadrilateral\n",
    "print(f\"This is a {quadrilateral_type}.\")\n"
   ]
  },
  {
   "cell_type": "markdown",
   "id": "e8cab7b3-1b06-476a-b43e-2b097d5484ff",
   "metadata": {},
   "source": [
    "### 29. Write a Python script to determine the season based on a user-provided month using elif statements.\n"
   ]
  },
  {
   "cell_type": "code",
   "execution_count": 8,
   "id": "db59aca5-1e91-4d0d-bb03-e99d9d2e4e34",
   "metadata": {},
   "outputs": [
    {
     "name": "stdin",
     "output_type": "stream",
     "text": [
      "Enter a month (e.g., January, February, etc.):  september\n"
     ]
    },
    {
     "name": "stdout",
     "output_type": "stream",
     "text": [
      "The season for September is Autumn (Fall).\n"
     ]
    }
   ],
   "source": [
    "# Get the month from the user\n",
    "month = input(\"Enter a month (e.g., January, February, etc.): \")\n",
    "\n",
    "# Convert the month to lowercase for case-insensitive comparison\n",
    "month = month.lower()\n",
    "\n",
    "# Determine the season based on the month\n",
    "if month in [\"december\", \"january\", \"february\"]:\n",
    "    season = \"Winter\"\n",
    "elif month in [\"march\", \"april\", \"may\"]:\n",
    "    season = \"Spring\"\n",
    "elif month in [\"june\", \"july\", \"august\"]:\n",
    "    season = \"Summer\"\n",
    "elif month in [\"september\", \"october\", \"november\"]:\n",
    "    season = \"Autumn (Fall)\"\n",
    "else:\n",
    "    season = \"Invalid Month\"\n",
    "\n",
    "# Display the season\n",
    "print(f\"The season for {month.capitalize()} is {season}.\")\n"
   ]
  },
  {
   "cell_type": "markdown",
   "id": "ad1ff33c-d698-46b4-81b6-b784f14b2146",
   "metadata": {},
   "source": [
    "### 30. Implement a program to determine the type of a year (leap or common) and month (30 or 31 days) using elif statements.\n"
   ]
  },
  {
   "cell_type": "code",
   "execution_count": 9,
   "id": "bf261125-5ef0-4135-bdaa-8e8027210532",
   "metadata": {},
   "outputs": [
    {
     "name": "stdin",
     "output_type": "stream",
     "text": [
      "Enter a year (e.g., 2023):  2023\n",
      "Enter a month (e.g., January, February, etc.):  september\n"
     ]
    },
    {
     "name": "stdout",
     "output_type": "stream",
     "text": [
      "2023 is a Common Year.\n",
      "September has 30 days.\n"
     ]
    }
   ],
   "source": [
    "# Get the year from the user\n",
    "year = int(input(\"Enter a year (e.g., 2023): \"))\n",
    "\n",
    "# Get the month from the user\n",
    "month = input(\"Enter a month (e.g., January, February, etc.): \")\n",
    "\n",
    "# Convert the month to lowercase for case-insensitive comparison\n",
    "month = month.lower()\n",
    "\n",
    "# Determine if the year is leap or common\n",
    "if (year % 4 == 0 and year % 100 != 0) or (year % 400 == 0):\n",
    "    year_type = \"Leap Year\"\n",
    "else:\n",
    "    year_type = \"Common Year\"\n",
    "\n",
    "# Determine the number of days in the month\n",
    "if month in [\"january\", \"march\", \"may\", \"july\", \"august\", \"october\", \"december\"]:\n",
    "    days = 31\n",
    "elif month in [\"april\", \"june\", \"september\", \"november\"]:\n",
    "    days = 30\n",
    "elif month == \"february\":\n",
    "    if year_type == \"Leap Year\":\n",
    "        days = 29\n",
    "    else:\n",
    "        days = 28\n",
    "else:\n",
    "    days = \"Invalid Month\"\n",
    "\n",
    "# Display the type of year and the number of days in the month\n",
    "print(f\"{year} is a {year_type}.\")\n",
    "if days == \"Invalid Month\":\n",
    "    print(\"Invalid Month. Please enter a valid month name.\")\n",
    "else:\n",
    "    print(f\"{month.capitalize()} has {days} days.\")\n"
   ]
  },
  {
   "cell_type": "markdown",
   "id": "d50f1bd0-2de4-474b-837c-adf320f6b2c6",
   "metadata": {},
   "source": []
  },
  {
   "cell_type": "markdown",
   "id": "68de2ea2-1cdb-43b3-9a76-53de47daadb2",
   "metadata": {},
   "source": [
    "## Basic Level:"
   ]
  },
  {
   "cell_type": "markdown",
   "id": "88de7c70-5435-4967-bb14-a4ebe521f87f",
   "metadata": {},
   "source": [
    "\n",
    "\n",
    "### 1. Write a Python program that checks if a given number is positive, negative, or zero.\n"
   ]
  },
  {
   "cell_type": "code",
   "execution_count": 10,
   "id": "176d03a2-c38d-4520-b952-0e8baf885547",
   "metadata": {},
   "outputs": [
    {
     "name": "stdin",
     "output_type": "stream",
     "text": [
      "Enter a number:  45.33\n"
     ]
    },
    {
     "name": "stdout",
     "output_type": "stream",
     "text": [
      "The number is positive.\n"
     ]
    }
   ],
   "source": [
    "# Get the number from the user\n",
    "number = float(input(\"Enter a number: \"))\n",
    "\n",
    "# Check if the number is positive, negative, or zero\n",
    "if number > 0:\n",
    "    print(\"The number is positive.\")\n",
    "elif number < 0:\n",
    "    print(\"The number is negative.\")\n",
    "else:\n",
    "    print(\"The number is zero.\")\n"
   ]
  },
  {
   "cell_type": "markdown",
   "id": "ca5de992-f41c-46b0-9185-97c0f1f5593f",
   "metadata": {},
   "source": [
    "### 2. Create a program to determine if a person is eligible to vote based on their age.\n"
   ]
  },
  {
   "cell_type": "code",
   "execution_count": 11,
   "id": "b1b57616-69f6-47db-a7ac-d67baf2307db",
   "metadata": {},
   "outputs": [
    {
     "name": "stdin",
     "output_type": "stream",
     "text": [
      "Enter your age:  45\n"
     ]
    },
    {
     "name": "stdout",
     "output_type": "stream",
     "text": [
      "You are eligible to vote.\n"
     ]
    }
   ],
   "source": [
    "# Get the person's age from the user\n",
    "age = int(input(\"Enter your age: \"))\n",
    "\n",
    "# Check if the person is eligible to vote\n",
    "voting_age = 18  # Assuming the voting age is 18\n",
    "if age >= voting_age:\n",
    "    print(\"You are eligible to vote.\")\n",
    "else:\n",
    "    print(\"You are not eligible to vote yet.\")\n"
   ]
  },
  {
   "cell_type": "markdown",
   "id": "16023d68-5467-4a38-8344-2a15b9a861b0",
   "metadata": {},
   "source": [
    "### 3. Write a program to find the maximum of two given numbers using conditional statements.\n"
   ]
  },
  {
   "cell_type": "code",
   "execution_count": 13,
   "id": "428d4a16-d311-49fe-9de8-5e59b298127c",
   "metadata": {},
   "outputs": [
    {
     "name": "stdin",
     "output_type": "stream",
     "text": [
      "Enter the first number:  45\n",
      "Enter the second number:  56\n"
     ]
    },
    {
     "name": "stdout",
     "output_type": "stream",
     "text": [
      "The maximum number is: 56.0\n"
     ]
    }
   ],
   "source": [
    "# Get two numbers from the user\n",
    "number1 = float(input(\"Enter the first number: \"))\n",
    "number2 = float(input(\"Enter the second number: \"))\n",
    "\n",
    "# Find the maximum of the two numbers\n",
    "if number1 > number2:\n",
    "    maximum = number1\n",
    "else:\n",
    "    maximum = number2\n",
    "\n",
    "# Display the maximum number\n",
    "print(f\"The maximum number is: {maximum}\")\n"
   ]
  },
  {
   "cell_type": "markdown",
   "id": "28af3cc8-1dda-4499-9177-6fb5ae618fc8",
   "metadata": {},
   "source": [
    "### 4. Develop a program that calculates the grade of a student based on their exam score.\n"
   ]
  },
  {
   "cell_type": "code",
   "execution_count": 21,
   "id": "59701129-8f83-4ae1-8c52-7a1848f9ad56",
   "metadata": {},
   "outputs": [
    {
     "name": "stdin",
     "output_type": "stream",
     "text": [
      "Enter the exam score (out of 100):  98\n"
     ]
    },
    {
     "name": "stdout",
     "output_type": "stream",
     "text": [
      "Your grade is: A\n"
     ]
    }
   ],
   "source": [
    "# Get the exam score from the user\n",
    "score = float(input(\"Enter the exam score (out of 100): \"))\n",
    "\n",
    "# Calculate the grade based on the score\n",
    "if 90 <= score <= 100:\n",
    "    grade = \"A\"\n",
    "elif 80 <= score < 90:\n",
    "    grade = \"B\"\n",
    "elif 70 <= score < 80:\n",
    "    grade = \"C\"\n",
    "elif 60 <= score < 70:\n",
    "    grade = \"D\"\n",
    "else:\n",
    "    grade = \"F\"\n",
    "\n",
    "# Display the calculated grade\n",
    "print(f\"Your grade is: {grade}\")\n"
   ]
  },
  {
   "cell_type": "markdown",
   "id": "1db3ab40-e0ce-487a-8a9a-4231b586394a",
   "metadata": {},
   "source": [
    "### 5. Create a program that checks if a year is a leap year or not.\n"
   ]
  },
  {
   "cell_type": "code",
   "execution_count": 20,
   "id": "68d4a6a2-1cfa-4dad-a005-5e11c6ce460e",
   "metadata": {},
   "outputs": [
    {
     "name": "stdin",
     "output_type": "stream",
     "text": [
      "Enter a year:  2016\n"
     ]
    },
    {
     "name": "stdout",
     "output_type": "stream",
     "text": [
      "2016 is a leap year.\n"
     ]
    }
   ],
   "source": [
    "# Get the year from the user\n",
    "year = int(input(\"Enter a year: \"))\n",
    "\n",
    "# Check if it's a leap year\n",
    "if (year % 4 == 0 and year % 100 != 0) or (year % 400 == 0):\n",
    "    print(f\"{year} is a leap year.\")\n",
    "else:\n",
    "    print(f\"{year} is not a leap year.\")\n"
   ]
  },
  {
   "cell_type": "markdown",
   "id": "a6351c4a-b7ce-406e-b68c-ea4d7e59e018",
   "metadata": {},
   "source": [
    "### 6. Write a program to classify a triangle based on its sides' lengths.\n"
   ]
  },
  {
   "cell_type": "code",
   "execution_count": 19,
   "id": "4cf137ab-b555-4686-b475-751e8dfc373a",
   "metadata": {},
   "outputs": [
    {
     "name": "stdin",
     "output_type": "stream",
     "text": [
      "Enter the length of the first side:  14\n",
      "Enter the length of the second side:  45\n",
      "Enter the length of the third side:  78\n"
     ]
    },
    {
     "name": "stdout",
     "output_type": "stream",
     "text": [
      "This is a Scalene triangle.\n"
     ]
    }
   ],
   "source": [
    "# Get the lengths of the three sides from the user\n",
    "side1 = float(input(\"Enter the length of the first side: \"))\n",
    "side2 = float(input(\"Enter the length of the second side: \"))\n",
    "side3 = float(input(\"Enter the length of the third side: \"))\n",
    "\n",
    "# Check the type of triangle based on side lengths\n",
    "if side1 == side2 == side3:\n",
    "    triangle_type = \"Equilateral\"\n",
    "elif side1 == side2 or side1 == side3 or side2 == side3:\n",
    "    triangle_type = \"Isosceles\"\n",
    "else:\n",
    "    triangle_type = \"Scalene\"\n",
    "\n",
    "# Display the type of triangle\n",
    "print(f\"This is a {triangle_type} triangle.\")\n"
   ]
  },
  {
   "cell_type": "markdown",
   "id": "b952f3d6-43c6-4229-aae7-c18116b18f84",
   "metadata": {},
   "source": [
    "### 7. Build a program that determines the largest of three given numbers.\n"
   ]
  },
  {
   "cell_type": "code",
   "execution_count": 18,
   "id": "5461315e-444c-4bf4-a433-2d8da6f2f35f",
   "metadata": {},
   "outputs": [
    {
     "name": "stdin",
     "output_type": "stream",
     "text": [
      "Enter the first number:  12\n",
      "Enter the second number:  45\n",
      "Enter the third number:  69\n"
     ]
    },
    {
     "name": "stdout",
     "output_type": "stream",
     "text": [
      "The largest number is: 69.0\n"
     ]
    }
   ],
   "source": [
    "# Get three numbers from the user\n",
    "number1 = float(input(\"Enter the first number: \"))\n",
    "number2 = float(input(\"Enter the second number: \"))\n",
    "number3 = float(input(\"Enter the third number: \"))\n",
    "\n",
    "# Find the largest number\n",
    "if number1 >= number2 and number1 >= number3:\n",
    "    largest = number1\n",
    "elif number2 >= number1 and number2 >= number3:\n",
    "    largest = number2\n",
    "else:\n",
    "    largest = number3\n",
    "\n",
    "# Display the largest number\n",
    "print(f\"The largest number is: {largest}\")\n"
   ]
  },
  {
   "cell_type": "markdown",
   "id": "fd36245f-33fa-4685-a669-e43fb9309bba",
   "metadata": {},
   "source": [
    "### 8. Develop a program that checks whether a character is a vowel or a consonant.\n"
   ]
  },
  {
   "cell_type": "code",
   "execution_count": 17,
   "id": "089466cd-3005-401b-b148-6d15950f24ae",
   "metadata": {},
   "outputs": [
    {
     "name": "stdin",
     "output_type": "stream",
     "text": [
      "Enter a character:  a\n"
     ]
    },
    {
     "name": "stdout",
     "output_type": "stream",
     "text": [
      "The character 'a' is a vowel.\n"
     ]
    }
   ],
   "source": [
    "# Get a character from the user\n",
    "char = input(\"Enter a character: \")\n",
    "\n",
    "# Convert the character to lowercase for case-insensitive comparison\n",
    "char = char.lower()\n",
    "\n",
    "# Check if the character is a vowel or a consonant\n",
    "if char.isalpha():\n",
    "    if char in 'aeiou':\n",
    "        result = \"vowel\"\n",
    "    else:\n",
    "        result = \"consonant\"\n",
    "else:\n",
    "    result = \"not a valid alphabet character\"\n",
    "\n",
    "# Display the result\n",
    "print(f\"The character '{char}' is a {result}.\")\n"
   ]
  },
  {
   "cell_type": "markdown",
   "id": "3c275a2c-ddd3-44ce-bfd0-0af46c6a1237",
   "metadata": {},
   "source": [
    "### 9. Create a program to calculate the total cost of a shopping cart based on discounts.\n"
   ]
  },
  {
   "cell_type": "code",
   "execution_count": 15,
   "id": "e0942241-822b-4fbd-abea-bc3a4fcd871a",
   "metadata": {},
   "outputs": [
    {
     "name": "stdin",
     "output_type": "stream",
     "text": [
      "Enter the number of items in your shopping cart:  12\n",
      "Enter the price of item 1:  4\n",
      "Enter the price of item 2:  55\n",
      "Enter the price of item 3:  4654\n",
      "Enter the price of item 4:  46\n",
      "Enter the price of item 5:  1\n",
      "Enter the price of item 6:  12\n",
      "Enter the price of item 7:  54\n",
      "Enter the price of item 8:  546\n",
      "Enter the price of item 9:  45\n",
      "Enter the price of item 10:  785\n",
      "Enter the price of item 11:  466\n",
      "Enter the price of item 12:  78\n"
     ]
    },
    {
     "name": "stdout",
     "output_type": "stream",
     "text": [
      "Total cost before discount: $6746.00\n",
      "Discount applied: $674.60\n",
      "Final total after discount: $6071.40\n"
     ]
    }
   ],
   "source": [
    "# Define discount thresholds and corresponding discount percentages\n",
    "discount_thresholds = [100, 200, 300]\n",
    "discount_percentages = [0.1, 0.15, 0.2, 0.25]  # Discounts for reaching each threshold\n",
    "\n",
    "# Get the number of items and their prices from the user\n",
    "num_items = int(input(\"Enter the number of items in your shopping cart: \"))\n",
    "total_cost = 0\n",
    "\n",
    "# Calculate the total cost based on item prices\n",
    "for item in range(1, num_items + 1):\n",
    "    item_price = float(input(f\"Enter the price of item {item}: \"))\n",
    "    total_cost += item_price\n",
    "\n",
    "# Calculate the discount based on the total cost\n",
    "discount = 0\n",
    "for threshold, percentage in zip(discount_thresholds, discount_percentages):\n",
    "    if total_cost >= threshold:\n",
    "        discount = total_cost * percentage\n",
    "        break\n",
    "\n",
    "# Calculate the final total after applying the discount\n",
    "final_total = total_cost - discount\n",
    "\n",
    "# Display the total cost, discount, and final total\n",
    "print(f\"Total cost before discount: ${total_cost:.2f}\")\n",
    "print(f\"Discount applied: ${discount:.2f}\")\n",
    "print(f\"Final total after discount: ${final_total:.2f}\")\n"
   ]
  },
  {
   "cell_type": "markdown",
   "id": "59186f1f-32c9-4d60-b9bc-28c0a275b698",
   "metadata": {},
   "source": [
    "### 10. Write a program that checks if a given number is even or odd.\n"
   ]
  },
  {
   "cell_type": "code",
   "execution_count": 14,
   "id": "42cd5345-cd32-40a0-be3f-8ea66975e2db",
   "metadata": {},
   "outputs": [
    {
     "name": "stdin",
     "output_type": "stream",
     "text": [
      "Enter a number:  85\n"
     ]
    },
    {
     "name": "stdout",
     "output_type": "stream",
     "text": [
      "85 is odd.\n"
     ]
    }
   ],
   "source": [
    "# Get the number from the user\n",
    "number = int(input(\"Enter a number: \"))\n",
    "\n",
    "# Check if the number is even or odd\n",
    "if number % 2 == 0:\n",
    "    print(f\"{number} is even.\")\n",
    "else:\n",
    "    print(f\"{number} is odd.\")\n"
   ]
  },
  {
   "cell_type": "markdown",
   "id": "ec215f04-e5f3-46af-b6dd-f3a276aac200",
   "metadata": {},
   "source": []
  },
  {
   "cell_type": "markdown",
   "id": "3b33ddd9-625b-4342-b5e3-8530fb983877",
   "metadata": {},
   "source": [
    "## Intermediate Level:\n"
   ]
  },
  {
   "cell_type": "markdown",
   "id": "b2a3d311-b471-4968-a615-7f4ef13fd6be",
   "metadata": {},
   "source": [
    "### 11. Write a program that calculates the roots of a quadratic equation .\n"
   ]
  },
  {
   "cell_type": "code",
   "execution_count": null,
   "id": "8fdaa0cb-23cd-4bf5-bb4e-e65a8dfcc4c1",
   "metadata": {},
   "outputs": [],
   "source": [
    "import math\n",
    "\n",
    "# Get the coefficients a, b, and c from the user\n",
    "a = float(input(\"Enter the coefficient a: \"))\n",
    "b = float(input(\"Enter the coefficient b: \"))\n",
    "c = float(input(\"Enter the coefficient c: \"))\n",
    "\n",
    "# Calculate the discriminant (the value inside the square root)\n",
    "discriminant = b**2 - 4*a*c\n",
    "\n",
    "# Check if the discriminant is positive, negative, or zero\n",
    "if discriminant > 0:\n",
    "    # Two real and distinct roots\n",
    "    root1 = (-b + math.sqrt(discriminant)) / (2*a)\n",
    "    root2 = (-b - math.sqrt(discriminant)) / (2*a)\n",
    "    print(f\"Root 1: {root1}\")\n",
    "    print(f\"Root 2: {root2}\")\n",
    "elif discriminant == 0:\n",
    "    # One real root (repeated)\n",
    "    root = -b / (2*a)\n",
    "    print(f\"Root: {root}\")\n",
    "else:\n",
    "    # Complex roots\n",
    "    real_part = -b / (2*a)\n",
    "    imaginary_part = math.sqrt(-discriminant) / (2*a)\n",
    "    root1 = complex(real_part, imaginary_part)\n",
    "    root2 = complex(real_part, -imaginary_part)\n",
    "    print(f\"Root 1: {root1}\")\n",
    "    print(f\"Root 2: {root2}\")\n"
   ]
  },
  {
   "cell_type": "markdown",
   "id": "b9a3295e-983f-4ebe-8004-2d7ac746e04e",
   "metadata": {},
   "source": [
    "### 12. Create a program that determines the day of the week based on the day number (1-7).\n"
   ]
  },
  {
   "cell_type": "code",
   "execution_count": 22,
   "id": "1c76b118-a99d-48a7-8f03-b40fd997dc25",
   "metadata": {},
   "outputs": [
    {
     "name": "stdin",
     "output_type": "stream",
     "text": [
      "Enter a day number (1-7):  8\n"
     ]
    },
    {
     "name": "stdout",
     "output_type": "stream",
     "text": [
      "Invalid day number. Please enter a number between 1 and 7.\n"
     ]
    }
   ],
   "source": [
    "# Get the day number from the user\n",
    "day_number = int(input(\"Enter a day number (1-7): \"))\n",
    "\n",
    "# Define a list of days of the week\n",
    "days_of_week = [\"Sunday\", \"Monday\", \"Tuesday\", \"Wednesday\", \"Thursday\", \"Friday\", \"Saturday\"]\n",
    "\n",
    "# Check if the day number is valid\n",
    "if 1 <= day_number <= 7:\n",
    "    # Subtract 1 from the day number to index the list\n",
    "    day_name = days_of_week[day_number - 1]\n",
    "    print(f\"The day corresponding to day number {day_number} is {day_name}.\")\n",
    "else:\n",
    "    print(\"Invalid day number. Please enter a number between 1 and 7.\")\n"
   ]
  },
  {
   "cell_type": "markdown",
   "id": "3e95242f-6e45-4d90-b651-f8a4a5ac2560",
   "metadata": {},
   "source": [
    "### 13. Develop a program that calculates the factorial of a given number using recursion.\n"
   ]
  },
  {
   "cell_type": "code",
   "execution_count": 25,
   "id": "655eb63a-ca3c-4477-95e9-66609d794a1f",
   "metadata": {},
   "outputs": [
    {
     "name": "stdin",
     "output_type": "stream",
     "text": [
      "Enter a non-negative integer:  5\n"
     ]
    },
    {
     "name": "stdout",
     "output_type": "stream",
     "text": [
      "The factorial of 5 is 120.\n"
     ]
    }
   ],
   "source": [
    "# Define a function to calculate the factorial recursively\n",
    "def factorial(n):\n",
    "    if n == 0:\n",
    "        return 1  # Base case: 0! = 1\n",
    "    else:\n",
    "        return n * factorial(n - 1)\n",
    "\n",
    "# Get the number from the user\n",
    "number = int(input(\"Enter a non-negative integer: \"))\n",
    "\n",
    "# Check if the number is non-negative\n",
    "if number < 0:\n",
    "    print(\"Please enter a non-negative integer.\")\n",
    "else:\n",
    "    result = factorial(number)\n",
    "    print(f\"The factorial of {number} is {result}.\")\n"
   ]
  },
  {
   "cell_type": "markdown",
   "id": "e1f0ca67-8605-4658-84c5-02185961a7fe",
   "metadata": {},
   "source": [
    "### 14. Write a program to find the largest among three numbers without using the `max()` function.\n"
   ]
  },
  {
   "cell_type": "code",
   "execution_count": null,
   "id": "ecdf5045-764a-41b9-b5f2-6c3f11bbbb42",
   "metadata": {},
   "outputs": [
    {
     "name": "stdin",
     "output_type": "stream",
     "text": [
      "Enter the first number:  45\n",
      "Enter the second number:  12\n",
      "Enter the third number:  78\n"
     ]
    },
    {
     "name": "stdout",
     "output_type": "stream",
     "text": [
      "The largest number is: 78.0\n"
     ]
    }
   ],
   "source": [
    "# Get three numbers from the user\n",
    "number1 = float(input(\"Enter the first number: \"))\n",
    "number2 = float(input(\"Enter the second number: \"))\n",
    "number3 = float(input(\"Enter the third number: \"))\n",
    "\n",
    "# Find the largest number using conditional statements\n",
    "if number1 >= number2 and number1 >= number3:\n",
    "    largest = number1\n",
    "elif number2 >= number1 and number2 >= number3:\n",
    "    largest = number2\n",
    "else:\n",
    "    largest = number3\n",
    "\n",
    "# Display the largest number\n",
    "print(f\"The largest number is: {largest}\")\n"
   ]
  },
  {
   "cell_type": "markdown",
   "id": "0a510a51-38a0-481c-bf9e-dc7898686517",
   "metadata": {},
   "source": [
    "### 15. Create a program that simulates a basic ATM transaction menu.\n"
   ]
  },
  {
   "cell_type": "code",
   "execution_count": 27,
   "id": "28c36622-cb0c-4638-8441-f688f7491cb0",
   "metadata": {},
   "outputs": [
    {
     "name": "stdout",
     "output_type": "stream",
     "text": [
      "Welcome to the ATM!\n",
      "1. Check Balance\n",
      "2. Deposit Money\n",
      "3. Withdraw Money\n",
      "4. Exit\n"
     ]
    },
    {
     "name": "stdin",
     "output_type": "stream",
     "text": [
      "Enter your choice (1/2/3/4):  1\n"
     ]
    },
    {
     "name": "stdout",
     "output_type": "stream",
     "text": [
      "Your account balance is: $1000.00\n",
      "Welcome to the ATM!\n",
      "1. Check Balance\n",
      "2. Deposit Money\n",
      "3. Withdraw Money\n",
      "4. Exit\n"
     ]
    },
    {
     "name": "stdin",
     "output_type": "stream",
     "text": [
      "Enter your choice (1/2/3/4):  2\n",
      "Enter the amount to deposit:  456\n"
     ]
    },
    {
     "name": "stdout",
     "output_type": "stream",
     "text": [
      "Deposited: $456.00\n",
      "New balance: $1456.00\n",
      "Welcome to the ATM!\n",
      "1. Check Balance\n",
      "2. Deposit Money\n",
      "3. Withdraw Money\n",
      "4. Exit\n"
     ]
    },
    {
     "name": "stdin",
     "output_type": "stream",
     "text": [
      "Enter your choice (1/2/3/4):  4\n"
     ]
    },
    {
     "name": "stdout",
     "output_type": "stream",
     "text": [
      "Thank you for using the ATM. Goodbye!\n"
     ]
    }
   ],
   "source": [
    "# Initialize the account balance\n",
    "account_balance = 1000.0  # Starting balance\n",
    "\n",
    "# Display the ATM menu\n",
    "def display_menu():\n",
    "    print(\"Welcome to the ATM!\")\n",
    "    print(\"1. Check Balance\")\n",
    "    print(\"2. Deposit Money\")\n",
    "    print(\"3. Withdraw Money\")\n",
    "    print(\"4. Exit\")\n",
    "\n",
    "# Function to check the account balance\n",
    "def check_balance():\n",
    "    print(f\"Your account balance is: ${account_balance:.2f}\")\n",
    "\n",
    "# Function to deposit money\n",
    "def deposit_money():\n",
    "    global account_balance  # Access the global balance variable\n",
    "    amount = float(input(\"Enter the amount to deposit: \"))\n",
    "    if amount > 0:\n",
    "        account_balance += amount\n",
    "        print(f\"Deposited: ${amount:.2f}\")\n",
    "        print(f\"New balance: ${account_balance:.2f}\")\n",
    "    else:\n",
    "        print(\"Invalid amount. Please enter a positive number.\")\n",
    "\n",
    "# Function to withdraw money\n",
    "def withdraw_money():\n",
    "    global account_balance  # Access the global balance variable\n",
    "    amount = float(input(\"Enter the amount to withdraw: \"))\n",
    "    if amount > 0 and amount <= account_balance:\n",
    "        account_balance -= amount\n",
    "        print(f\"Withdrew: ${amount:.2f}\")\n",
    "        print(f\"New balance: ${account_balance:.2f}\")\n",
    "    elif amount <= 0:\n",
    "        print(\"Invalid amount. Please enter a positive number.\")\n",
    "    else:\n",
    "        print(\"Insufficient funds.\")\n",
    "\n",
    "# Main program loop\n",
    "while True:\n",
    "    display_menu()\n",
    "    choice = input(\"Enter your choice (1/2/3/4): \")\n",
    "    \n",
    "    if choice == \"1\":\n",
    "        check_balance()\n",
    "    elif choice == \"2\":\n",
    "        deposit_money()\n",
    "    elif choice == \"3\":\n",
    "        withdraw_money()\n",
    "    elif choice == \"4\":\n",
    "        print(\"Thank you for using the ATM. Goodbye!\")\n",
    "        break\n",
    "    else:\n",
    "        print(\"Invalid choice. Please select a valid option.\")\n"
   ]
  },
  {
   "cell_type": "markdown",
   "id": "4d1c5e61-3e91-4596-ba2b-f08cb40f71ec",
   "metadata": {},
   "source": [
    "### 16. Build a program that checks if a given string is a palindrome or not.\n"
   ]
  },
  {
   "cell_type": "code",
   "execution_count": 28,
   "id": "7bb4301e-455e-48a9-aa00-766599922d82",
   "metadata": {},
   "outputs": [
    {
     "name": "stdin",
     "output_type": "stream",
     "text": [
      "Enter a string:  hihhihi\n"
     ]
    },
    {
     "name": "stdout",
     "output_type": "stream",
     "text": [
      "'hihhihi' is not a palindrome.\n"
     ]
    }
   ],
   "source": [
    "# Function to check if a string is a palindrome\n",
    "def is_palindrome(s):\n",
    "    # Remove spaces and convert to lowercase for case-insensitive comparison\n",
    "    s = s.replace(\" \", \"\").lower()\n",
    "    \n",
    "    # Check if the string is equal to its reverse\n",
    "    return s == s[::-1]\n",
    "\n",
    "# Get a string from the user\n",
    "input_string = input(\"Enter a string: \")\n",
    "\n",
    "# Check if it's a palindrome\n",
    "if is_palindrome(input_string):\n",
    "    print(f\"'{input_string}' is a palindrome.\")\n",
    "else:\n",
    "    print(f\"'{input_string}' is not a palindrome.\")\n"
   ]
  },
  {
   "cell_type": "markdown",
   "id": "b966388d-65fb-4571-a43a-c1eeafe30a37",
   "metadata": {},
   "source": [
    "### 17. Write a program that calculates the average of a list of numbers, excluding the smallest and largest values.\n"
   ]
  },
  {
   "cell_type": "code",
   "execution_count": 36,
   "id": "3cf7d145-3146-43c3-964f-b5c0a68a227c",
   "metadata": {},
   "outputs": [
    {
     "name": "stdin",
     "output_type": "stream",
     "text": [
      "Enter a number (or Enter to finish):  2\n",
      "Enter a number (or Enter to finish):  2\n",
      "Enter a number (or Enter to finish):  1\n",
      "Enter a number (or Enter to finish):  4\n",
      "Enter a number (or Enter to finish):  1\n",
      "Enter a number (or Enter to finish):  0\n",
      "Enter a number (or Enter to finish):  -4\n",
      "Enter a number (or Enter to finish):  \n"
     ]
    },
    {
     "name": "stdout",
     "output_type": "stream",
     "text": [
      "The average (excluding extremes) is: 1.20\n"
     ]
    }
   ],
   "source": [
    "# Function to calculate the average excluding the smallest and largest values\n",
    "def average_without_extremes(numbers):\n",
    "    if len(numbers) <= 2:\n",
    "        return None  # Not enough numbers to exclude extremes\n",
    "\n",
    "    # Remove the smallest and largest values from the list\n",
    "    numbers.remove(min(numbers))\n",
    "    numbers.remove(max(numbers))\n",
    "\n",
    "    # Calculate the average of the remaining values\n",
    "    return sum(numbers) / len(numbers)\n",
    "\n",
    "# Get a list of numbers from the user\n",
    "numbers = []\n",
    "while True:\n",
    "    try:\n",
    "        value = float(input(\"Enter a number (or Enter to finish): \"))\n",
    "        numbers.append(value)\n",
    "    except ValueError:\n",
    "        break\n",
    "\n",
    "# Calculate the average excluding extremes\n",
    "result = average_without_extremes(numbers)\n",
    "\n",
    "# Display the result\n",
    "if result is not None:\n",
    "    print(f\"The average (excluding extremes) is: {result:.2f}\")\n",
    "else:\n",
    "    print(\"Not enough numbers to calculate the average excluding extremes.\")\n"
   ]
  },
  {
   "cell_type": "markdown",
   "id": "e2e5654a-c966-43ef-8446-862070803491",
   "metadata": {},
   "source": [
    "### 18. Develop a program that converts a given temperature from Celsius to Fahrenheit.\n"
   ]
  },
  {
   "cell_type": "code",
   "execution_count": 30,
   "id": "7168e5f1-65fc-48e0-a7bf-da3181e04f8b",
   "metadata": {},
   "outputs": [
    {
     "name": "stdin",
     "output_type": "stream",
     "text": [
      "Enter temperature in Celsius:  47\n"
     ]
    },
    {
     "name": "stdout",
     "output_type": "stream",
     "text": [
      "47.0 degrees Celsius is equal to 116.6 degrees Fahrenheit.\n"
     ]
    }
   ],
   "source": [
    "# Get the temperature in Celsius from the user\n",
    "celsius = float(input(\"Enter temperature in Celsius: \"))\n",
    "\n",
    "# Convert Celsius to Fahrenheit\n",
    "fahrenheit = (celsius * 9/5) + 32\n",
    "\n",
    "# Display the temperature in Fahrenheit\n",
    "print(f\"{celsius} degrees Celsius is equal to {fahrenheit} degrees Fahrenheit.\")\n"
   ]
  },
  {
   "cell_type": "markdown",
   "id": "7fccad58-009f-440a-916f-c4125368e3db",
   "metadata": {},
   "source": [
    "### 19. Create a program that simulates a basic calculator for addition, subtraction, multiplication, and division.\n"
   ]
  },
  {
   "cell_type": "code",
   "execution_count": 31,
   "id": "9ab21b3f-abc1-4896-83ae-0bd6c9e4195a",
   "metadata": {},
   "outputs": [
    {
     "name": "stdout",
     "output_type": "stream",
     "text": [
      "Select operation:\n",
      "1. Addition\n",
      "2. Subtraction\n",
      "3. Multiplication\n",
      "4. Division\n"
     ]
    },
    {
     "name": "stdin",
     "output_type": "stream",
     "text": [
      "Enter choice (1/2/3/4):  1\n",
      "Enter first number:  45\n",
      "Enter second number:  65\n"
     ]
    },
    {
     "name": "stdout",
     "output_type": "stream",
     "text": [
      "45.0 + 65.0 = 110.0\n"
     ]
    }
   ],
   "source": [
    "# Function to perform addition\n",
    "def add(x, y):\n",
    "    return x + y\n",
    "\n",
    "# Function to perform subtraction\n",
    "def subtract(x, y):\n",
    "    return x - y\n",
    "\n",
    "# Function to perform multiplication\n",
    "def multiply(x, y):\n",
    "    return x * y\n",
    "\n",
    "# Function to perform division\n",
    "def divide(x, y):\n",
    "    if y == 0:\n",
    "        return \"Cannot divide by zero\"\n",
    "    return x / y\n",
    "\n",
    "# Display the calculator menu\n",
    "print(\"Select operation:\")\n",
    "print(\"1. Addition\")\n",
    "print(\"2. Subtraction\")\n",
    "print(\"3. Multiplication\")\n",
    "print(\"4. Division\")\n",
    "\n",
    "# Get the user's choice\n",
    "choice = input(\"Enter choice (1/2/3/4): \")\n",
    "\n",
    "# Get the numbers from the user\n",
    "num1 = float(input(\"Enter first number: \"))\n",
    "num2 = float(input(\"Enter second number: \"))\n",
    "\n",
    "# Perform the selected operation\n",
    "if choice == '1':\n",
    "    result = add(num1, num2)\n",
    "    operation = \"+\"\n",
    "elif choice == '2':\n",
    "    result = subtract(num1, num2)\n",
    "    operation = \"-\"\n",
    "elif choice == '3':\n",
    "    result = multiply(num1, num2)\n",
    "    operation = \"*\"\n",
    "elif choice == '4':\n",
    "    result = divide(num1, num2)\n",
    "    operation = \"/\"\n",
    "else:\n",
    "    result = \"Invalid choice\"\n",
    "    operation = \"\"\n",
    "\n",
    "# Display the result\n",
    "if operation:\n",
    "    print(f\"{num1} {operation} {num2} = {result}\")\n",
    "else:\n",
    "    print(result)\n"
   ]
  },
  {
   "cell_type": "markdown",
   "id": "4c672fe0-8861-4306-95df-c9ae130dadd7",
   "metadata": {},
   "source": [
    "### 20. Write a program that determines the roots of a cubic equation using the Cardano formula.\n"
   ]
  },
  {
   "cell_type": "code",
   "execution_count": 35,
   "id": "7a66da07-57a6-4e62-a05c-51e348ee17d7",
   "metadata": {},
   "outputs": [
    {
     "name": "stdin",
     "output_type": "stream",
     "text": [
      "Enter the coefficient a:  4\n",
      "Enter the coefficient b:  5\n",
      "Enter the coefficient c:  6\n",
      "Enter the constant term d:  7\n"
     ]
    },
    {
     "name": "stdout",
     "output_type": "stream",
     "text": [
      "The roots of the cubic equation are:\n",
      "Root 1: (-1.2611986492347604-0.9443236276038641j)\n",
      "Root 2: (0.2351869400534976+0.0648060843526184j)\n",
      "Root 3: (-0.17371718539591352+0.17127482254834764j)\n"
     ]
    }
   ],
   "source": [
    "import math\n",
    "\n",
    "# Function to solve a cubic equation using the Cardano formula\n",
    "def solve_cubic(a, b, c, d):\n",
    "    if a == 0:\n",
    "        return \"This is not a cubic equation.\"\n",
    "    \n",
    "    # Calculate coefficients for the depressed cubic equation\n",
    "    p = (3*a*c - b**2) / (3*a**2)\n",
    "    q = (2*b**3 - 9*a*b*c + 27*a**2*d) / (27*a**3)\n",
    "    \n",
    "    # Calculate the discriminant of the depressed cubic equation\n",
    "    discriminant = (q/2)**2 + (p/3)**3\n",
    "    \n",
    "    if discriminant > 0:\n",
    "        # One real root and two complex roots\n",
    "        u = (-q/2 + math.sqrt(discriminant))**(1/3)\n",
    "        v = (-q/2 - math.sqrt(discriminant))**(1/3)\n",
    "        real_root = -b/(3*a) - (u + v)\n",
    "        complex_root1 = (-1 + math.sqrt(3) * 1j) * (u - v) / (2*a)\n",
    "        complex_root2 = (-1 - math.sqrt(3) * 1j) * (u - v) / (2*a)\n",
    "        return [real_root, complex_root1, complex_root2]\n",
    "    elif discriminant == 0:\n",
    "        # All roots are real and at least two are equal\n",
    "        if q >= 0:\n",
    "            root = -(q/2)**(1/3)\n",
    "        else:\n",
    "            root = (abs(q)/2)**(1/3)\n",
    "        real_root1 = 2 * root - b / (3 * a)\n",
    "        real_root2 = -(root + b / (3 * a))\n",
    "        return [real_root1, real_root2, real_root2]\n",
    "    else:\n",
    "        # All three real roots\n",
    "        phi = math.acos(-q / (2 * math.sqrt(-(p**3)/27)))\n",
    "        root1 = 2 * math.sqrt(-p/3) * math.cos(phi/3) - b / (3 * a)\n",
    "        root2 = 2 * math.sqrt(-p/3) * math.cos((phi + 2*math.pi)/3) - b / (3 * a)\n",
    "        root3 = 2 * math.sqrt(-p/3) * math.cos((phi - 2*math.pi)/3) - b / (3 * a)\n",
    "        return [root1, root2, root3]\n",
    "\n",
    "# Get the coefficients from the user\n",
    "a = float(input(\"Enter the coefficient a: \"))\n",
    "b = float(input(\"Enter the coefficient b: \"))\n",
    "c = float(input(\"Enter the coefficient c: \"))\n",
    "d = float(input(\"Enter the constant term d: \"))\n",
    "\n",
    "# Solve the cubic equation\n",
    "roots = solve_cubic(a, b, c, d)\n",
    "\n",
    "# Display the roots\n",
    "if isinstance(roots, str):\n",
    "    print(roots)\n",
    "else:\n",
    "    print(\"The roots of the cubic equation are:\")\n",
    "    for i, root in enumerate(roots, start=1):\n",
    "        print(f\"Root {i}: {root}\")\n"
   ]
  },
  {
   "cell_type": "markdown",
   "id": "2bac5c71-8dbc-4ce2-9f68-804f74feb16c",
   "metadata": {},
   "source": [
    "## Advanced Level:\n"
   ]
  },
  {
   "cell_type": "markdown",
   "id": "aee4192e-dc3d-4e15-9ccc-18a0bb0697d6",
   "metadata": {},
   "source": [
    "### 21. Create a program that calculates the income tax based on the user's income and tax brackets.\n"
   ]
  },
  {
   "cell_type": "code",
   "execution_count": 1,
   "id": "866ace9e-b1d1-456e-b6e0-c7f03236d9ef",
   "metadata": {},
   "outputs": [
    {
     "name": "stdin",
     "output_type": "stream",
     "text": [
      "Enter your annual income:  400000\n"
     ]
    },
    {
     "name": "stdout",
     "output_type": "stream",
     "text": [
      "Your income tax is: $114793.75\n"
     ]
    }
   ],
   "source": [
    "# Define tax brackets and their corresponding tax rates\n",
    "tax_brackets = [\n",
    "    (0, 9875, 0.1),\n",
    "    (9876, 40125, 0.12),\n",
    "    (40126, 85525, 0.22),\n",
    "    (85526, 163300, 0.24),\n",
    "    (163301, 207350, 0.32),\n",
    "    (207351, 518400, 0.35),\n",
    "    (518401, float('inf'), 0.37)\n",
    "]\n",
    "\n",
    "# Function to calculate income tax\n",
    "def calculate_income_tax(income):\n",
    "    tax_owed = 0\n",
    "    remaining_income = income\n",
    "    \n",
    "    for lower, upper, rate in tax_brackets:\n",
    "        if income <= lower:\n",
    "            break\n",
    "        \n",
    "        if income > upper:\n",
    "            taxable_income = upper - lower\n",
    "        else:\n",
    "            taxable_income = income - lower\n",
    "        \n",
    "        tax_owed += taxable_income * rate\n",
    "        remaining_income -= taxable_income\n",
    "\n",
    "    return tax_owed\n",
    "\n",
    "# Get the user's income\n",
    "income = float(input(\"Enter your annual income: \"))\n",
    "\n",
    "# Calculate income tax\n",
    "income_tax = calculate_income_tax(income)\n",
    "\n",
    "# Display the income tax amount\n",
    "print(f\"Your income tax is: ${income_tax:.2f}\")\n"
   ]
  },
  {
   "cell_type": "markdown",
   "id": "c54729e2-8113-4ba6-af2b-5c87062be62f",
   "metadata": {},
   "source": [
    "### 22. Write a program that simulates a rock-paper-scissors game against the computer.\n"
   ]
  },
  {
   "cell_type": "code",
   "execution_count": 11,
   "id": "8dd1e327-09c1-4ba5-9392-93570e8ba459",
   "metadata": {},
   "outputs": [
    {
     "name": "stdout",
     "output_type": "stream",
     "text": [
      "Let's play Rock-Paper-Scissors!\n",
      "Enter your choice: rock, paper, or scissors.\n",
      "Type 'quit' to end the game.\n"
     ]
    },
    {
     "name": "stdin",
     "output_type": "stream",
     "text": [
      "Your choice:  rock\n"
     ]
    },
    {
     "name": "stdout",
     "output_type": "stream",
     "text": [
      "Computer's choice: scissors\n",
      "You win!\n"
     ]
    },
    {
     "name": "stdin",
     "output_type": "stream",
     "text": [
      "Your choice:  paper\n"
     ]
    },
    {
     "name": "stdout",
     "output_type": "stream",
     "text": [
      "Computer's choice: scissors\n",
      "Computer wins!\n"
     ]
    },
    {
     "name": "stdin",
     "output_type": "stream",
     "text": [
      "Your choice:  quit\n"
     ]
    }
   ],
   "source": [
    "import random\n",
    "\n",
    "# Function to get the computer's choice\n",
    "def get_computer_choice():\n",
    "    choices = [\"rock\", \"paper\", \"scissors\"]\n",
    "    return random.choice(choices)\n",
    "\n",
    "# Function to determine the winner\n",
    "def determine_winner(player_choice, computer_choice):\n",
    "    if player_choice == computer_choice:\n",
    "        return \"It's a tie!\"\n",
    "    elif (player_choice == \"rock\" and computer_choice == \"scissors\") or \\\n",
    "         (player_choice == \"scissors\" and computer_choice == \"paper\") or \\\n",
    "         (player_choice == \"paper\" and computer_choice == \"rock\"):\n",
    "        return \"You win!\"\n",
    "    else:\n",
    "        return \"Computer wins!\"\n",
    "\n",
    "# Display the game instructions\n",
    "print(\"Let's play Rock-Paper-Scissors!\")\n",
    "print(\"Enter your choice: rock, paper, or scissors.\")\n",
    "print(\"Type 'quit' to end the game.\")\n",
    "\n",
    "# Main game loop\n",
    "while True:\n",
    "    player_choice = input(\"Your choice: \").lower()\n",
    "    \n",
    "    if player_choice == 'quit':\n",
    "        break\n",
    "    \n",
    "    if player_choice not in ['rock', 'paper', 'scissors']:\n",
    "        print(\"Invalid choice. Please enter 'rock', 'paper', or 'scissors'.\")\n",
    "        continue\n",
    "    \n",
    "    computer_choice = get_computer_choice()\n",
    "    \n",
    "    print(f\"Computer's choice: {computer_choice}\")\n",
    "    \n",
    "    result = determine_winner(player_choice, computer_choice)\n",
    "    print(result)\n"
   ]
  },
  {
   "cell_type": "markdown",
   "id": "bd608755-98e6-4dd8-9de9-4cb4a0e539bc",
   "metadata": {},
   "source": [
    "### 23. Develop a program that generates a random password based on user preferences (length, complexity).\n"
   ]
  },
  {
   "cell_type": "code",
   "execution_count": 10,
   "id": "0b514514-1132-444e-a7c8-a5000f4a1635",
   "metadata": {},
   "outputs": [
    {
     "name": "stdin",
     "output_type": "stream",
     "text": [
      "Enter the desired password length:  5\n",
      "Use lowercase letters? (yes/no):  yes\n",
      "Use uppercase letters? (yes/no):  yes\n",
      "Use digits? (yes/no):  yes\n",
      "Use special characters? (yes/no):  yes\n"
     ]
    },
    {
     "name": "stdout",
     "output_type": "stream",
     "text": [
      "Generated Password: Ob={C\n"
     ]
    }
   ],
   "source": [
    "import random\n",
    "import string\n",
    "\n",
    "# Function to generate a random password\n",
    "def generate_password(length, use_lowercase, use_uppercase, use_digits, use_special_chars):\n",
    "    characters = ''\n",
    "\n",
    "    if use_lowercase:\n",
    "        characters += string.ascii_lowercase\n",
    "    if use_uppercase:\n",
    "        characters += string.ascii_uppercase\n",
    "    if use_digits:\n",
    "        characters += string.digits\n",
    "    if use_special_chars:\n",
    "        characters += string.punctuation\n",
    "\n",
    "    if not characters:\n",
    "        return \"No characters selected. Please choose at least one character type.\"\n",
    "\n",
    "    password = ''.join(random.choice(characters) for _ in range(length))\n",
    "    return password\n",
    "\n",
    "# Get user preferences\n",
    "length = int(input(\"Enter the desired password length: \"))\n",
    "use_lowercase = input(\"Use lowercase letters? (yes/no): \").lower() == 'yes'\n",
    "use_uppercase = input(\"Use uppercase letters? (yes/no): \").lower() == 'yes'\n",
    "use_digits = input(\"Use digits? (yes/no): \").lower() == 'yes'\n",
    "use_special_chars = input(\"Use special characters? (yes/no): \").lower() == 'yes'\n",
    "\n",
    "# Generate the password\n",
    "password = generate_password(length, use_lowercase, use_uppercase, use_digits, use_special_chars)\n",
    "\n",
    "# Display the generated password\n",
    "print(\"Generated Password:\", password)\n"
   ]
  },
  {
   "cell_type": "markdown",
   "id": "c3fa927e-c2c4-4cce-88f3-ba2af2f190c7",
   "metadata": {},
   "source": [
    "### 24. Create a program that implements a simple text-based adventure game with branching scenarios.\n"
   ]
  },
  {
   "cell_type": "code",
   "execution_count": 9,
   "id": "49780ec4-c142-46f7-bc2a-14a772216f18",
   "metadata": {},
   "outputs": [
    {
     "name": "stdout",
     "output_type": "stream",
     "text": [
      "Welcome to the Text-Based Adventure Game!\n",
      "You find yourself in a mysterious forest.\n",
      "\n",
      "You come to a crossroads. Which path will you take?\n"
     ]
    },
    {
     "name": "stdin",
     "output_type": "stream",
     "text": [
      "Enter 'left' or 'right':  left\n"
     ]
    },
    {
     "name": "stdout",
     "output_type": "stream",
     "text": [
      "You chose the left path.\n",
      "You find a hidden treasure chest!\n",
      "Congratulations! You win!\n",
      "\n",
      "Thanks for playing the Text-Based Adventure Game! Goodbye.\n"
     ]
    }
   ],
   "source": [
    "import time\n",
    "\n",
    "# Function to display a message with a delay\n",
    "def display_message(message, delay=1):\n",
    "    print(message)\n",
    "    time.sleep(delay)\n",
    "\n",
    "# Introduction\n",
    "display_message(\"Welcome to the Text-Based Adventure Game!\")\n",
    "display_message(\"You find yourself in a mysterious forest.\")\n",
    "\n",
    "# Scenario 1: Choosing a path\n",
    "display_message(\"\\nYou come to a crossroads. Which path will you take?\")\n",
    "choice1 = input(\"Enter 'left' or 'right': \").lower()\n",
    "\n",
    "if choice1 == \"left\":\n",
    "    display_message(\"You chose the left path.\")\n",
    "    display_message(\"You find a hidden treasure chest!\")\n",
    "    display_message(\"Congratulations! You win!\")\n",
    "elif choice1 == \"right\":\n",
    "    display_message(\"You chose the right path.\")\n",
    "    \n",
    "    # Scenario 2: Encounter with a wild animal\n",
    "    display_message(\"You encounter a wild bear!\")\n",
    "    choice2 = input(\"Do you 'fight' or 'run'?: \").lower()\n",
    "    \n",
    "    if choice2 == \"fight\":\n",
    "        display_message(\"You bravely fought the bear.\")\n",
    "        display_message(\"You defeat the bear and continue your journey.\")\n",
    "    elif choice2 == \"run\":\n",
    "        display_message(\"You wisely chose to run away.\")\n",
    "        display_message(\"You escape from the bear and continue your journey.\")\n",
    "    else:\n",
    "        display_message(\"Invalid choice. The bear attacks while you hesitate!\")\n",
    "        display_message(\"Game over.\")\n",
    "else:\n",
    "    display_message(\"Invalid choice. You stand there in confusion.\")\n",
    "    display_message(\"Game over.\")\n",
    "\n",
    "# End of the game\n",
    "display_message(\"\\nThanks for playing the Text-Based Adventure Game! Goodbye.\")\n"
   ]
  },
  {
   "cell_type": "markdown",
   "id": "c50b3cf7-7bd6-44f9-aca4-258e5ee931cf",
   "metadata": {},
   "source": [
    "### 25. Build a program that solves a linear equation for x, considering different cases.\n"
   ]
  },
  {
   "cell_type": "code",
   "execution_count": 8,
   "id": "a7f4508b-a82e-455d-b874-907b936be0fb",
   "metadata": {},
   "outputs": [
    {
     "name": "stdin",
     "output_type": "stream",
     "text": [
      "Enter the coefficient 'a' (must be non-zero):  85\n",
      "Enter the coefficient 'b':  45\n"
     ]
    },
    {
     "name": "stdout",
     "output_type": "stream",
     "text": [
      "The solution is x = -0.5294117647058824\n"
     ]
    }
   ],
   "source": [
    "# Function to solve a linear equation for x\n",
    "def solve_linear_equation(a, b):\n",
    "    if a == 0:\n",
    "        if b == 0:\n",
    "            return \"Infinite solutions (any value of x)\"\n",
    "        else:\n",
    "            return \"No solution\"\n",
    "    else:\n",
    "        x = -b / a\n",
    "        return f\"The solution is x = {x}\"\n",
    "\n",
    "# Get coefficients from the user\n",
    "a = float(input(\"Enter the coefficient 'a' (must be non-zero): \"))\n",
    "b = float(input(\"Enter the coefficient 'b': \"))\n",
    "\n",
    "# Solve the linear equation\n",
    "solution = solve_linear_equation(a, b)\n",
    "\n",
    "# Display the solution\n",
    "print(solution)\n"
   ]
  },
  {
   "cell_type": "markdown",
   "id": "51521548-ec30-4d76-a241-6f02dea3f090",
   "metadata": {},
   "source": [
    "### 26. Write a program that simulates a basic quiz game with multiple-choice questions and scoring.\n"
   ]
  },
  {
   "cell_type": "code",
   "execution_count": 7,
   "id": "87b83393-c68b-4f41-b042-d49e755cfe55",
   "metadata": {},
   "outputs": [
    {
     "name": "stdout",
     "output_type": "stream",
     "text": [
      "What is the capital of France?\n",
      "A) Paris\n",
      "B) London\n",
      "C) Berlin\n",
      "D) Madrid\n"
     ]
    },
    {
     "name": "stdin",
     "output_type": "stream",
     "text": [
      "Enter your answer (A/B/C/D):  a\n"
     ]
    },
    {
     "name": "stdout",
     "output_type": "stream",
     "text": [
      "Correct!\n",
      "\n",
      "Which planet is known as the 'Red Planet'?\n",
      "A) Venus\n",
      "B) Mars\n",
      "C) Jupiter\n",
      "D) Saturn\n"
     ]
    },
    {
     "name": "stdin",
     "output_type": "stream",
     "text": [
      "Enter your answer (A/B/C/D):  a\n"
     ]
    },
    {
     "name": "stdout",
     "output_type": "stream",
     "text": [
      "Wrong! The correct answer is B.\n",
      "\n",
      "What is the largest mammal in the world?\n",
      "A) Elephant\n",
      "B) Giraffe\n",
      "C) Blue Whale\n",
      "D) Lion\n"
     ]
    },
    {
     "name": "stdin",
     "output_type": "stream",
     "text": [
      "Enter your answer (A/B/C/D):  a\n"
     ]
    },
    {
     "name": "stdout",
     "output_type": "stream",
     "text": [
      "Wrong! The correct answer is C.\n",
      "\n",
      "Your final score: 1/3\n"
     ]
    }
   ],
   "source": [
    "# Define a list of questions and their answer choices\n",
    "questions = [\n",
    "    {\n",
    "        \"question\": \"What is the capital of France?\",\n",
    "        \"choices\": [\"A) Paris\", \"B) London\", \"C) Berlin\", \"D) Madrid\"],\n",
    "        \"correct_answer\": \"A\"\n",
    "    },\n",
    "    {\n",
    "        \"question\": \"Which planet is known as the 'Red Planet'?\",\n",
    "        \"choices\": [\"A) Venus\", \"B) Mars\", \"C) Jupiter\", \"D) Saturn\"],\n",
    "        \"correct_answer\": \"B\"\n",
    "    },\n",
    "    {\n",
    "        \"question\": \"What is the largest mammal in the world?\",\n",
    "        \"choices\": [\"A) Elephant\", \"B) Giraffe\", \"C) Blue Whale\", \"D) Lion\"],\n",
    "        \"correct_answer\": \"C\"\n",
    "    }\n",
    "]\n",
    "\n",
    "# Initialize the score\n",
    "score = 0\n",
    "\n",
    "# Function to display a question and get the user's answer\n",
    "def ask_question(question_data):\n",
    "    print(question_data[\"question\"])\n",
    "    for choice in question_data[\"choices\"]:\n",
    "        print(choice)\n",
    "    user_answer = input(\"Enter your answer (A/B/C/D): \").upper()\n",
    "    return user_answer\n",
    "\n",
    "# Iterate through the questions and check answers\n",
    "for question_data in questions:\n",
    "    user_answer = ask_question(question_data)\n",
    "    if user_answer == question_data[\"correct_answer\"]:\n",
    "        print(\"Correct!\\n\")\n",
    "        score += 1\n",
    "    else:\n",
    "        print(f\"Wrong! The correct answer is {question_data['correct_answer']}.\\n\")\n",
    "\n",
    "# Display the final score\n",
    "print(f\"Your final score: {score}/{len(questions)}\")\n"
   ]
  },
  {
   "cell_type": "markdown",
   "id": "a56a19ec-248e-46a3-954f-88334fe24764",
   "metadata": {},
   "source": [
    "### 27. Develop a program that determines whether a given year is a prime number or not.\n"
   ]
  },
  {
   "cell_type": "code",
   "execution_count": 5,
   "id": "628fea71-c198-466e-94de-cc226b00513e",
   "metadata": {},
   "outputs": [
    {
     "name": "stdin",
     "output_type": "stream",
     "text": [
      "Enter a year:  2016\n"
     ]
    },
    {
     "name": "stdout",
     "output_type": "stream",
     "text": [
      "2016 is not a prime year.\n"
     ]
    }
   ],
   "source": [
    "import math\n",
    "\n",
    "def is_prime(year):\n",
    "    if year <= 1:\n",
    "        return False\n",
    "    for i in range(2, int(math.sqrt(year)) + 1):\n",
    "        if year % i == 0:\n",
    "            return False\n",
    "    return True\n",
    "\n",
    "# Example usage:\n",
    "year = int(input(\"Enter a year: \"))\n",
    "if is_prime(year):\n",
    "    print(f\"{year} is a prime year.\")\n",
    "else:\n",
    "    print(f\"{year} is not a prime year.\")\n"
   ]
  },
  {
   "cell_type": "markdown",
   "id": "b213d0a7-6768-49a8-9120-82afd559f3cf",
   "metadata": {},
   "source": [
    "### 28. Create a program that sorts three numbers in ascending order using conditional statements.\n"
   ]
  },
  {
   "cell_type": "code",
   "execution_count": 4,
   "id": "b2c3aa33-eb01-462a-bfb7-fb226c5d116b",
   "metadata": {},
   "outputs": [
    {
     "name": "stdin",
     "output_type": "stream",
     "text": [
      "Enter the first number:  45\n",
      "Enter the second number:  5\n",
      "Enter the third number:  23\n"
     ]
    },
    {
     "name": "stdout",
     "output_type": "stream",
     "text": [
      "The numbers in ascending order: 5.0, 23.0, 45.0\n"
     ]
    }
   ],
   "source": [
    "# Get three numbers from the user\n",
    "num1 = float(input(\"Enter the first number: \"))\n",
    "num2 = float(input(\"Enter the second number: \"))\n",
    "num3 = float(input(\"Enter the third number: \"))\n",
    "\n",
    "# Sort the numbers in ascending order\n",
    "if num1 > num2:\n",
    "    num1, num2 = num2, num1\n",
    "if num2 > num3:\n",
    "    num2, num3 = num3, num2\n",
    "if num1 > num2:\n",
    "    num1, num2 = num2, num1\n",
    "\n",
    "print(f\"The numbers in ascending order: {num1}, {num2}, {num3}\")\n"
   ]
  },
  {
   "cell_type": "markdown",
   "id": "a869cb7d-e9c7-4a8e-87e6-f409dd190620",
   "metadata": {},
   "source": [
    "### 29. Build a program that determines the roots of a quartic equation using numerical methods.\n"
   ]
  },
  {
   "cell_type": "code",
   "execution_count": 3,
   "id": "a20d792d-2f90-415a-b8d9-b2d6eb44003c",
   "metadata": {},
   "outputs": [
    {
     "name": "stdout",
     "output_type": "stream",
     "text": [
      "Approximate roots of the quartic equation:\n",
      "Root: 0.0000\n",
      "Root: 1.0000\n",
      "Root: 2.0000\n",
      "Root: 3.0000\n"
     ]
    }
   ],
   "source": [
    "import sympy as sp\n",
    "\n",
    "# Define the symbolic variable\n",
    "x = sp.Symbol('x')\n",
    "\n",
    "# Define the quartic equation (change coefficients as needed)\n",
    "equation = x**4 - 6*x**3 + 11*x**2 - 6*x\n",
    "\n",
    "# Find the approximate roots using the Newton-Raphson method\n",
    "roots = sp.solve(equation, x)\n",
    "\n",
    "# Display the roots\n",
    "print(\"Approximate roots of the quartic equation:\")\n",
    "for root in roots:\n",
    "    print(f\"Root: {root.evalf():.4f}\")\n"
   ]
  },
  {
   "cell_type": "markdown",
   "id": "a20d7625-f6b6-4f5c-b833-fc622fd11256",
   "metadata": {},
   "source": [
    "### 30. Write a program that calculates the BMI (Body Mass Index) and provides health recommendations based on the user's input"
   ]
  },
  {
   "cell_type": "code",
   "execution_count": 2,
   "id": "107130de-2535-4af2-97ae-40dd75c4ba1a",
   "metadata": {},
   "outputs": [
    {
     "name": "stdin",
     "output_type": "stream",
     "text": [
      "Enter your weight (kg):  75\n",
      "Enter your height (m):  186\n"
     ]
    },
    {
     "name": "stdout",
     "output_type": "stream",
     "text": [
      "Underweight. Consider gaining some weight.\n"
     ]
    }
   ],
   "source": [
    "weight = float(input(\"Enter your weight (kg): \"))\n",
    "height = float(input(\"Enter your height (m): \"))\n",
    "\n",
    "bmi = weight / (height ** 2)\n",
    "\n",
    "if bmi < 18.5:\n",
    "    print(\"Underweight. Consider gaining some weight.\")\n",
    "elif 18.5 <= bmi < 24.9:\n",
    "    print(\"Normal weight. Keep up the good work!\")\n",
    "elif 24.9 <= bmi < 29.9:\n",
    "    print(\"Overweight. Consider losing some weight.\")\n",
    "else:\n",
    "    print(\"Obese. It's important to manage your weight for better health.\")\n"
   ]
  },
  {
   "cell_type": "markdown",
   "id": "e4f677ba-1784-41aa-8e31-8b9a6b5d6001",
   "metadata": {},
   "source": []
  },
  {
   "cell_type": "markdown",
   "id": "1b28364d-06d0-44e4-8a19-9ee6bba6ce2c",
   "metadata": {},
   "source": [
    "## Challenge Level:\n"
   ]
  },
  {
   "cell_type": "markdown",
   "id": "dc7de60d-02c7-4626-a094-bfd768103f05",
   "metadata": {},
   "source": [
    "### 31. Create a program that validates a password based on complexity rules (length, characters, etc.).\n"
   ]
  },
  {
   "cell_type": "code",
   "execution_count": 12,
   "id": "12a6ca66-54c6-4b63-8cec-17945e1ad212",
   "metadata": {},
   "outputs": [
    {
     "name": "stdin",
     "output_type": "stream",
     "text": [
      "Enter a password:  89564654\n"
     ]
    },
    {
     "name": "stdout",
     "output_type": "stream",
     "text": [
      "Password is not valid.\n"
     ]
    }
   ],
   "source": [
    "def is_valid_password(password):\n",
    "    # Check password length\n",
    "    if len(password) < 8:\n",
    "        return False\n",
    "\n",
    "    # Check for at least one uppercase letter\n",
    "    if not any(char.isupper() for char in password):\n",
    "        return False\n",
    "\n",
    "    # Check for at least one lowercase letter\n",
    "    if not any(char.islower() for char in password):\n",
    "        return False\n",
    "\n",
    "    # Check for at least one digit\n",
    "    if not any(char.isdigit() for char in password):\n",
    "        return False\n",
    "\n",
    "    # Check for at least one special character\n",
    "    special_chars = \"!@#$%^&*()-_+=<>?[]{}|\"\n",
    "    if not any(char in special_chars for char in password):\n",
    "        return False\n",
    "\n",
    "    return True\n",
    "\n",
    "password = input(\"Enter a password: \")\n",
    "if is_valid_password(password):\n",
    "    print(\"Password is valid.\")\n",
    "else:\n",
    "    print(\"Password is not valid.\")\n"
   ]
  },
  {
   "cell_type": "markdown",
   "id": "86d835af-d095-4618-a133-cdc2824cc1e7",
   "metadata": {},
   "source": [
    "### 32. Develop a program that performs matrix addition and subtraction based on user input.\n"
   ]
  },
  {
   "cell_type": "code",
   "execution_count": 13,
   "id": "696d9873-36d3-4fa5-ae62-ef0174010f49",
   "metadata": {},
   "outputs": [
    {
     "name": "stdout",
     "output_type": "stream",
     "text": [
      "Matrix Addition Result:\n",
      "[5, 5]\n",
      "[5, 5]\n",
      "Matrix Subtraction Result:\n",
      "[-3, -1]\n",
      "[1, 3]\n"
     ]
    }
   ],
   "source": [
    "def add_matrices(matrix1, matrix2):\n",
    "    if len(matrix1) != len(matrix2) or len(matrix1[0]) != len(matrix2[0]):\n",
    "        return None  # Matrices must have the same dimensions for addition\n",
    "\n",
    "    result = []\n",
    "    for i in range(len(matrix1)):\n",
    "        row = []\n",
    "        for j in range(len(matrix1[0])):\n",
    "            row.append(matrix1[i][j] + matrix2[i][j])\n",
    "        result.append(row)\n",
    "    return result\n",
    "\n",
    "def subtract_matrices(matrix1, matrix2):\n",
    "    if len(matrix1) != len(matrix2) or len(matrix1[0]) != len(matrix2[0]):\n",
    "        return None  # Matrices must have the same dimensions for subtraction\n",
    "\n",
    "    result = []\n",
    "    for i in range(len(matrix1)):\n",
    "        row = []\n",
    "        for j in range(len(matrix1[0])):\n",
    "            row.append(matrix1[i][j] - matrix2[i][j])\n",
    "        result.append(row)\n",
    "    return result\n",
    "\n",
    "matrix1 = [[1, 2], [3, 4]]\n",
    "matrix2 = [[4, 3], [2, 1]]\n",
    "result_addition = add_matrices(matrix1, matrix2)\n",
    "result_subtraction = subtract_matrices(matrix1, matrix2)\n",
    "\n",
    "if result_addition:\n",
    "    print(\"Matrix Addition Result:\")\n",
    "    for row in result_addition:\n",
    "        print(row)\n",
    "\n",
    "if result_subtraction:\n",
    "    print(\"Matrix Subtraction Result:\")\n",
    "    for row in result_subtraction:\n",
    "        print(row)\n"
   ]
  },
  {
   "cell_type": "markdown",
   "id": "e55f19c2-016e-4fcf-9142-6353dbd66b6a",
   "metadata": {},
   "source": [
    "### 33. Write a program that calculates the greatest common divisor (GCD) of two numbers using the Euclidean algorithm.\n"
   ]
  },
  {
   "cell_type": "code",
   "execution_count": 14,
   "id": "f644a595-5f83-406c-9d1f-0f6f1ecf9637",
   "metadata": {},
   "outputs": [
    {
     "name": "stdin",
     "output_type": "stream",
     "text": [
      "Enter the first number:  12\n",
      "Enter the second number:  23\n"
     ]
    },
    {
     "name": "stdout",
     "output_type": "stream",
     "text": [
      "The GCD of 12 and 23 is 1.\n"
     ]
    }
   ],
   "source": [
    "import math\n",
    "\n",
    "num1 = int(input(\"Enter the first number: \"))\n",
    "num2 = int(input(\"Enter the second number: \"))\n",
    "\n",
    "gcd = math.gcd(num1, num2)\n",
    "print(f\"The GCD of {num1} and {num2} is {gcd}.\")\n"
   ]
  },
  {
   "cell_type": "markdown",
   "id": "33c84b1d-31a5-4502-a765-41ebb8d29eca",
   "metadata": {},
   "source": [
    "### 34. Build a program that performs matrix multiplication using nested loops and conditional statements.\n"
   ]
  },
  {
   "cell_type": "code",
   "execution_count": 15,
   "id": "d2e1ddd7-1d22-480f-8694-1aa47f665ab6",
   "metadata": {},
   "outputs": [
    {
     "name": "stdout",
     "output_type": "stream",
     "text": [
      "Matrix Multiplication Result:\n",
      "[8, 5]\n",
      "[20, 13]\n"
     ]
    }
   ],
   "source": [
    "def multiply_matrices(matrix1, matrix2):\n",
    "    if len(matrix1[0]) != len(matrix2):\n",
    "        return None  # Invalid matrix dimensions for multiplication\n",
    "\n",
    "    result = []\n",
    "    for i in range(len(matrix1)):\n",
    "        row = []\n",
    "        for j in range(len(matrix2[0])):\n",
    "            sum = 0\n",
    "            for k in range(len(matrix2)):\n",
    "                sum += matrix1[i][k] * matrix2[k][j]\n",
    "            row.append(sum)\n",
    "        result.append(row)\n",
    "    return result\n",
    "\n",
    "matrix1 = [[1, 2], [3, 4]]\n",
    "matrix2 = [[4, 3], [2, 1]]\n",
    "result_multiplication = multiply_matrices(matrix1, matrix2)\n",
    "\n",
    "if result_multiplication:\n",
    "    print(\"Matrix Multiplication Result:\")\n",
    "    for row in result_multiplication:\n",
    "        print(row)\n"
   ]
  },
  {
   "cell_type": "markdown",
   "id": "3c531176-05eb-4848-b874-43db94f5849c",
   "metadata": {},
   "source": [
    "### 35. Create a program that simulates a basic text-based tic-tac-toe game against the computer.\n"
   ]
  },
  {
   "cell_type": "code",
   "execution_count": 17,
   "id": "0012a055-9f5e-4e33-920b-5ff503b3e4af",
   "metadata": {},
   "outputs": [
    {
     "name": "stdout",
     "output_type": "stream",
     "text": [
      "   |   |  \n",
      "---|---|---\n",
      "   |   |  \n",
      "---|---|---\n",
      "   |   |  \n"
     ]
    },
    {
     "name": "stdin",
     "output_type": "stream",
     "text": [
      "Enter your move (1-9):  5\n"
     ]
    },
    {
     "name": "stdout",
     "output_type": "stream",
     "text": [
      " O |   |  \n",
      "---|---|---\n",
      "   | X |  \n",
      "---|---|---\n",
      "   |   |  \n"
     ]
    },
    {
     "name": "stdin",
     "output_type": "stream",
     "text": [
      "Enter your move (1-9):  9\n"
     ]
    },
    {
     "name": "stdout",
     "output_type": "stream",
     "text": [
      " O |   | O\n",
      "---|---|---\n",
      "   | X |  \n",
      "---|---|---\n",
      "   |   | X\n"
     ]
    },
    {
     "name": "stdin",
     "output_type": "stream",
     "text": [
      "Enter your move (1-9):  7\n"
     ]
    },
    {
     "name": "stdout",
     "output_type": "stream",
     "text": [
      " O |   | O\n",
      "---|---|---\n",
      "   | X |  \n",
      "---|---|---\n",
      " X | O | X\n"
     ]
    },
    {
     "name": "stdin",
     "output_type": "stream",
     "text": [
      "Enter your move (1-9):  2\n"
     ]
    },
    {
     "name": "stdout",
     "output_type": "stream",
     "text": [
      " O | X | O\n",
      "---|---|---\n",
      " O | X |  \n",
      "---|---|---\n",
      " X | O | X\n"
     ]
    },
    {
     "name": "stdin",
     "output_type": "stream",
     "text": [
      "Enter your move (1-9):  6\n"
     ]
    },
    {
     "name": "stdout",
     "output_type": "stream",
     "text": [
      " O | X | O\n",
      "---|---|---\n",
      " O | X | X\n",
      "---|---|---\n",
      " X | O | X\n",
      "It's a tie!\n"
     ]
    }
   ],
   "source": [
    "import random\n",
    "\n",
    "# Initialize the board\n",
    "board = [\" \" for _ in range(9)]\n",
    "\n",
    "# Function to print the Tic-Tac-Toe board\n",
    "def print_board(board):\n",
    "    print(\" \" + board[0] + \" | \" + board[1] + \" | \" + board[2])\n",
    "    print(\"---|---|---\")\n",
    "    print(\" \" + board[3] + \" | \" + board[4] + \" | \" + board[5])\n",
    "    print(\"---|---|---\")\n",
    "    print(\" \" + board[6] + \" | \" + board[7] + \" | \" + board[8])\n",
    "\n",
    "# Function to check if the board is full\n",
    "def is_full(board):\n",
    "    return \" \" not in board\n",
    "\n",
    "# Function to check if a player has won\n",
    "def check_win(board, player):\n",
    "    # Check rows\n",
    "    for i in range(0, 9, 3):\n",
    "        if board[i] == board[i + 1] == board[i + 2] == player:\n",
    "            return True\n",
    "\n",
    "    # Check columns\n",
    "    for i in range(3):\n",
    "        if board[i] == board[i + 3] == board[i + 6] == player:\n",
    "            return True\n",
    "\n",
    "    # Check diagonals\n",
    "    if board[0] == board[4] == board[8] == player:\n",
    "        return True\n",
    "    if board[2] == board[4] == board[6] == player:\n",
    "        return True\n",
    "\n",
    "    return False\n",
    "\n",
    "# Function for the computer's move (random)\n",
    "def computer_move(board):\n",
    "    while True:\n",
    "        move = random.randint(0, 8)\n",
    "        if board[move] == \" \":\n",
    "            return move\n",
    "\n",
    "# Main game loop\n",
    "while True:\n",
    "    print_board(board)\n",
    "\n",
    "    # Player's move\n",
    "    while True:\n",
    "        try:\n",
    "            player_move = int(input(\"Enter your move (1-9): \")) - 1\n",
    "            if 0 <= player_move <= 8 and board[player_move] == \" \":\n",
    "                board[player_move] = \"X\"\n",
    "                break\n",
    "            else:\n",
    "                print(\"Invalid move. Try again.\")\n",
    "        except ValueError:\n",
    "            print(\"Invalid input. Please enter a number between 1 and 9.\")\n",
    "\n",
    "    # Check if the player wins\n",
    "    if check_win(board, \"X\"):\n",
    "        print_board(board)\n",
    "        print(\"You win! Congratulations!\")\n",
    "        break\n",
    "\n",
    "    # Check if the board is full (tie)\n",
    "    if is_full(board):\n",
    "        print_board(board)\n",
    "        print(\"It's a tie!\")\n",
    "        break\n",
    "\n",
    "    # Computer's move\n",
    "    computer_move_index = computer_move(board)\n",
    "    board[computer_move_index] = \"O\"\n",
    "\n",
    "    # Check if the computer wins\n",
    "    if check_win(board, \"O\"):\n",
    "        print_board(board)\n",
    "        print(\"Computer wins! Better luck next time.\")\n",
    "        break\n",
    "\n",
    "    # Check if the board is full (tie)\n",
    "    if is_full(board):\n",
    "        print_board(board)\n",
    "        print(\"It's a tie!\")\n",
    "        break\n"
   ]
  },
  {
   "cell_type": "markdown",
   "id": "0d1b4c3e-7481-4ad4-8995-e35084f00db5",
   "metadata": {},
   "source": [
    "### 36. Write a program that generates Fibonacci numbers up to a specified term using iterative methods.\n"
   ]
  },
  {
   "cell_type": "code",
   "execution_count": 18,
   "id": "f47818a7-4a11-4543-93f4-7aa961cc030f",
   "metadata": {},
   "outputs": [
    {
     "name": "stdin",
     "output_type": "stream",
     "text": [
      "Enter the number of Fibonacci terms to generate:  20\n"
     ]
    },
    {
     "name": "stdout",
     "output_type": "stream",
     "text": [
      "Fibonacci Sequence up to the 20-th term:\n",
      "[0, 1, 1, 2, 3, 5, 8, 13, 21, 34, 55, 89, 144, 233, 377, 610, 987, 1597, 2584, 4181]\n"
     ]
    }
   ],
   "source": [
    "def generate_fibonacci(n):\n",
    "    fibonacci_sequence = [0, 1]  # Initialize the sequence with the first two Fibonacci numbers\n",
    "\n",
    "    # Generate Fibonacci numbers iteratively\n",
    "    while len(fibonacci_sequence) < n:\n",
    "        next_number = fibonacci_sequence[-1] + fibonacci_sequence[-2]\n",
    "        fibonacci_sequence.append(next_number)\n",
    "\n",
    "    return fibonacci_sequence\n",
    "\n",
    "# Get user input for the number of terms\n",
    "try:\n",
    "    n = int(input(\"Enter the number of Fibonacci terms to generate: \"))\n",
    "    if n <= 0:\n",
    "        print(\"Please enter a positive integer.\")\n",
    "    else:\n",
    "        fibonacci_sequence = generate_fibonacci(n)\n",
    "        print(\"Fibonacci Sequence up to the {}-th term:\".format(n))\n",
    "        print(fibonacci_sequence)\n",
    "except ValueError:\n",
    "    print(\"Invalid input. Please enter a valid positive integer.\")\n"
   ]
  },
  {
   "cell_type": "markdown",
   "id": "77dd6531-dcec-4165-abf6-8c148132c89a",
   "metadata": {},
   "source": [
    "### 37. Develop a program that calculates the nth term of the Fibonacci sequence using memoization.\n"
   ]
  },
  {
   "cell_type": "code",
   "execution_count": 19,
   "id": "da3f0542-e34a-444f-baa5-4521f4f79d09",
   "metadata": {},
   "outputs": [
    {
     "name": "stdin",
     "output_type": "stream",
     "text": [
      "Enter the value of n to calculate the nth Fibonacci term:  8\n"
     ]
    },
    {
     "name": "stdout",
     "output_type": "stream",
     "text": [
      "The 8-th Fibonacci term is: 21\n"
     ]
    }
   ],
   "source": [
    "# Dictionary to store already calculated Fibonacci values\n",
    "fib_cache = {}\n",
    "\n",
    "def fibonacci(n):\n",
    "    # Check if the value is already in the cache\n",
    "    if n in fib_cache:\n",
    "        return fib_cache[n]\n",
    "    \n",
    "    # Base cases\n",
    "    if n <= 1:\n",
    "        fib_cache[n] = n\n",
    "    else:\n",
    "        # Recursive calculation with memoization\n",
    "        fib_cache[n] = fibonacci(n - 1) + fibonacci(n - 2)\n",
    "    \n",
    "    return fib_cache[n]\n",
    "\n",
    "try:\n",
    "    n = int(input(\"Enter the value of n to calculate the nth Fibonacci term: \"))\n",
    "    if n < 0:\n",
    "        print(\"Please enter a non-negative integer.\")\n",
    "    else:\n",
    "        result = fibonacci(n)\n",
    "        print(\"The {}-th Fibonacci term is: {}\".format(n, result))\n",
    "except ValueError:\n",
    "    print(\"Invalid input. Please enter a valid non-negative integer.\")\n"
   ]
  },
  {
   "cell_type": "markdown",
   "id": "50ad5521-b3f1-4fc3-9583-d12830672576",
   "metadata": {},
   "source": [
    "### 38. Create a program that generates a calendar for a given month and year using conditional statements.\n"
   ]
  },
  {
   "cell_type": "code",
   "execution_count": 20,
   "id": "056b0873-b122-4f64-9eea-bbe7e932d7fa",
   "metadata": {},
   "outputs": [
    {
     "name": "stdin",
     "output_type": "stream",
     "text": [
      "Enter the year:  2028\n",
      "Enter the month (1-12):  10\n"
     ]
    },
    {
     "name": "stdout",
     "output_type": "stream",
     "text": [
      "\n",
      "Calendar for 2028-10:\n",
      "\n",
      "    October 2028\n",
      "Mo Tu We Th Fr Sa Su\n",
      "                   1\n",
      " 2  3  4  5  6  7  8\n",
      " 9 10 11 12 13 14 15\n",
      "16 17 18 19 20 21 22\n",
      "23 24 25 26 27 28 29\n",
      "30 31\n",
      "\n"
     ]
    }
   ],
   "source": [
    "import calendar\n",
    "\n",
    "def generate_calendar(year, month):\n",
    "    # Create a calendar object\n",
    "    cal = calendar.month(year, month)\n",
    "    return cal\n",
    "\n",
    "try:\n",
    "    year = int(input(\"Enter the year: \"))\n",
    "    month = int(input(\"Enter the month (1-12): \"))\n",
    "\n",
    "    if 1 <= month <= 12:\n",
    "        calendar_text = generate_calendar(year, month)\n",
    "        print(\"\\nCalendar for {}-{:02d}:\\n\".format(year, month))\n",
    "        print(calendar_text)\n",
    "    else:\n",
    "        print(\"Invalid month. Please enter a number between 1 and 12.\")\n",
    "except ValueError:\n",
    "    print(\"Invalid input. Please enter valid year and month values.\")\n"
   ]
  },
  {
   "cell_type": "markdown",
   "id": "a1ea834a-5f33-427d-ac1f-fc749ca25ff0",
   "metadata": {},
   "source": [
    "### 39. Build a program that simulates a basic text-based blackjack game against the computer.\n"
   ]
  },
  {
   "cell_type": "code",
   "execution_count": 24,
   "id": "d6105449-cf2a-4f5d-8de3-dadcf6527c69",
   "metadata": {},
   "outputs": [
    {
     "name": "stdout",
     "output_type": "stream",
     "text": [
      "Welcome to Blackjack!\n",
      "\n",
      "Your hand:\n",
      "Queen of Clubs\n",
      "Four of Clubs\n",
      "\n",
      "Computer's hand:\n",
      "Ten of Clubs\n"
     ]
    },
    {
     "name": "stdin",
     "output_type": "stream",
     "text": [
      "\n",
      "Do you want to 'hit' or 'stand'?  hit\n"
     ]
    },
    {
     "name": "stdout",
     "output_type": "stream",
     "text": [
      "\n",
      "Your hand:\n",
      "Queen of Clubs\n",
      "Four of Clubs\n",
      "Seven of Hearts\n"
     ]
    },
    {
     "name": "stdin",
     "output_type": "stream",
     "text": [
      "\n",
      "Do you want to 'hit' or 'stand'?  stand\n"
     ]
    },
    {
     "name": "stdout",
     "output_type": "stream",
     "text": [
      "\n",
      "Computer's hand:\n",
      "Ten of Clubs\n",
      "Eight of Diamonds\n",
      "\n",
      "You win!\n"
     ]
    },
    {
     "name": "stdin",
     "output_type": "stream",
     "text": [
      "\n",
      "Do you want to play again? (yes/no):  no\n"
     ]
    },
    {
     "name": "stdout",
     "output_type": "stream",
     "text": [
      "\n",
      "Thanks for playing Blackjack!\n"
     ]
    }
   ],
   "source": [
    "import random\n",
    "\n",
    "# Initialize the deck\n",
    "suits = ['Hearts', 'Diamonds', 'Clubs', 'Spades']\n",
    "ranks = ['Two', 'Three', 'Four', 'Five', 'Six', 'Seven', 'Eight', 'Nine', 'Ten', 'Jack', 'Queen', 'King', 'Ace']\n",
    "\n",
    "# Create a dictionary to map card ranks to values\n",
    "card_values = {'Two': 2, 'Three': 3, 'Four': 4, 'Five': 5, 'Six': 6, 'Seven': 7, 'Eight': 8, 'Nine': 9, 'Ten': 10,\n",
    "               'Jack': 10, 'Queen': 10, 'King': 10, 'Ace': 11}\n",
    "\n",
    "# Function to create and shuffle a deck of cards\n",
    "def create_deck():\n",
    "    deck = []\n",
    "    for suit in suits:\n",
    "        for rank in ranks:\n",
    "            deck.append(f'{rank} of {suit}')\n",
    "    random.shuffle(deck)\n",
    "    return deck\n",
    "\n",
    "# Function to calculate the total value of a hand\n",
    "def calculate_hand_value(hand):\n",
    "    value = 0\n",
    "    num_aces = 0\n",
    "\n",
    "    for card in hand:\n",
    "        rank = card.split()[0]\n",
    "        value += card_values[rank]\n",
    "        if rank == 'Ace':\n",
    "            num_aces += 1\n",
    "\n",
    "    while value > 21 and num_aces > 0:\n",
    "        value -= 10\n",
    "        num_aces -= 1\n",
    "\n",
    "    return value\n",
    "\n",
    "# Function to display a hand\n",
    "def display_hand(hand):\n",
    "    for card in hand:\n",
    "        print(card)\n",
    "\n",
    "# Start the game\n",
    "print(\"Welcome to Blackjack!\")\n",
    "\n",
    "while True:\n",
    "    # Create and shuffle the deck\n",
    "    deck = create_deck()\n",
    "\n",
    "    # Deal initial hands\n",
    "    player_hand = [deck.pop(), deck.pop()]\n",
    "    computer_hand = [deck.pop(), deck.pop()]\n",
    "\n",
    "    print(\"\\nYour hand:\")\n",
    "    display_hand(player_hand)\n",
    "    print(\"\\nComputer's hand:\")\n",
    "    print(computer_hand[0])\n",
    "    \n",
    "    # Player's turn\n",
    "    while True:\n",
    "        choice = input(\"\\nDo you want to 'hit' or 'stand'? \").strip().lower()\n",
    "        if choice == 'hit':\n",
    "            player_hand.append(deck.pop())\n",
    "            print(\"\\nYour hand:\")\n",
    "            display_hand(player_hand)\n",
    "            if calculate_hand_value(player_hand) > 21:\n",
    "                print(\"\\nBust! You lose.\")\n",
    "                break\n",
    "        elif choice == 'stand':\n",
    "            break\n",
    "        else:\n",
    "            print(\"Invalid input. Please enter 'hit' or 'stand'.\")\n",
    "\n",
    "    # Computer's turn\n",
    "    while calculate_hand_value(computer_hand) < 17:\n",
    "        computer_hand.append(deck.pop())\n",
    "\n",
    "    print(\"\\nComputer's hand:\")\n",
    "    display_hand(computer_hand)\n",
    "\n",
    "    # Determine the winner\n",
    "    player_value = calculate_hand_value(player_hand)\n",
    "    computer_value = calculate_hand_value(computer_hand)\n",
    "\n",
    "    if player_value > 21:\n",
    "        print(\"\\nPlayer busts! You lose.\")\n",
    "    elif computer_value > 21:\n",
    "        print(\"\\nComputer busts! You win.\")\n",
    "    elif player_value > computer_value:\n",
    "        print(\"\\nYou win!\")\n",
    "    elif computer_value > player_value:\n",
    "        print(\"\\nComputer wins.\")\n",
    "    else:\n",
    "        print(\"\\nIt's a tie!\")\n",
    "\n",
    "    # Ask if the player wants to play again\n",
    "    replay = input(\"\\nDo you want to play again? (yes/no): \").strip().lower()\n",
    "    if replay != 'yes':\n",
    "        break\n",
    "\n",
    "print(\"\\nThanks for playing Blackjack!\")\n"
   ]
  },
  {
   "cell_type": "markdown",
   "id": "d5f355ea-ec88-4c4f-9bef-893d7a74fe6b",
   "metadata": {},
   "source": [
    "### 40. Write a program that generates the prime factors of a given number using trial division."
   ]
  },
  {
   "cell_type": "code",
   "execution_count": 23,
   "id": "f4da3f5b-a900-47a5-ab73-8061ce8ec053",
   "metadata": {},
   "outputs": [
    {
     "name": "stdin",
     "output_type": "stream",
     "text": [
      "Enter a number to find its prime factors:  21\n"
     ]
    },
    {
     "name": "stdout",
     "output_type": "stream",
     "text": [
      "Prime factors of 21: [3, 7]\n"
     ]
    }
   ],
   "source": [
    "def prime_factors(n):\n",
    "    factors = []\n",
    "    divisor = 2  # Start with the smallest prime number\n",
    "\n",
    "    while n > 1:\n",
    "        while n % divisor == 0:\n",
    "            factors.append(divisor)\n",
    "            n //= divisor\n",
    "        divisor += 1\n",
    "\n",
    "    return factors\n",
    "\n",
    "try:\n",
    "    num = int(input(\"Enter a number to find its prime factors: \"))\n",
    "    if num <= 0:\n",
    "        print(\"Please enter a positive integer.\")\n",
    "    else:\n",
    "        factors = prime_factors(num)\n",
    "        if len(factors) == 0:\n",
    "            print(\"The number is prime.\")\n",
    "        else:\n",
    "            print(\"Prime factors of {}:\".format(num), factors)\n",
    "except ValueError:\n",
    "    print(\"Invalid input. Please enter a valid positive integer.\")\n"
   ]
  }
 ],
 "metadata": {
  "kernelspec": {
   "display_name": "Python 3 (ipykernel)",
   "language": "python",
   "name": "python3"
  },
  "language_info": {
   "codemirror_mode": {
    "name": "ipython",
    "version": 3
   },
   "file_extension": ".py",
   "mimetype": "text/x-python",
   "name": "python",
   "nbconvert_exporter": "python",
   "pygments_lexer": "ipython3",
   "version": "3.10.8"
  }
 },
 "nbformat": 4,
 "nbformat_minor": 5
}
